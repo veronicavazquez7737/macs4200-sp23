{
 "cells": [
  {
   "cell_type": "code",
   "execution_count": null,
   "id": "8041473f",
   "metadata": {
    "deletable": false,
    "editable": false
   },
   "outputs": [],
   "source": [
    "# Initialize Otter\n",
    "import otter\n",
    "grader = otter.Notebook(\"final-project-hill.ipynb\")"
   ]
  },
  {
   "cell_type": "markdown",
   "id": "591e9987",
   "metadata": {},
   "source": [
    "# Final Project: Hill cipher\n",
    "\n",
    "This choice for the final project will focus on the [Hill cipher](https://en.wikipedia.org/wiki/Hill_cipher).\n",
    "\n",
    "From Wikipedia:\n",
    ">In classical cryptography, the Hill cipher is a polygraphic substitution cipher based on linear algebra. Invented by Lester S. Hill in 1929, it was the first polygraphic cipher in which it was practical (though barely) to operate on more than three symbols at once.\n",
    "\n",
    "You will investigate how to create the key and implement the encryption / decryption algorithms in Python."
   ]
  },
  {
   "cell_type": "markdown",
   "id": "ee20688a",
   "metadata": {},
   "source": [
    "## Import your toolkit\n",
    "\n",
    "You are provided the following functions to help complete this assignment:\n",
    "* `text_clean(<string>, <LETTERS>)`\n",
    "* `text_block(<string>, <blocksize>)`\n",
    "* `multiplicative_inverse(<integer>, <modulus>)` which returns `False` if no inverse exists\n",
    "\n",
    "Run the cell below to import these assignments"
   ]
  },
  {
   "cell_type": "code",
   "execution_count": null,
   "id": "da58ccd3",
   "metadata": {},
   "outputs": [],
   "source": [
    "from finaltoolkit import text_clean, text_block, multiplicative_inverse"
   ]
  },
  {
   "cell_type": "markdown",
   "id": "1eaba3bd",
   "metadata": {},
   "source": [
    "## The Encryption key\n",
    "\n",
    "The Hill cipher uses a square [matrix](https://en.wikipedia.org/wiki/Matrix_(mathematics) as the key, typically with dimensions of either 2x2 or 3x3, but the process can be generalized to an $n$x$n$ matrix.\n",
    "\n",
    "There is a package, `numpy` which allows you to use Python to perform many common matrix operations. Run the cell below to load `numpy`. You will soon learn how to use this package to perform matrix operations."
   ]
  },
  {
   "cell_type": "code",
   "execution_count": null,
   "id": "4658db14",
   "metadata": {},
   "outputs": [],
   "source": [
    "import numpy as np"
   ]
  },
  {
   "cell_type": "markdown",
   "id": "dde98d12",
   "metadata": {},
   "source": [
    "### Question 1: Creating a square matrix using `numpy`\n",
    "\n",
    "`numpy` uses a new data type called an `array` to work with matrices. There are a few different ways you can create an array object.\n",
    "\n",
    "Each of the following code examples will create the array that represents the matrix $A$ shown below:\n",
    "\n",
    "$$A = \\begin{bmatrix}\n",
    "   1 & 2 & 3 \\\\\n",
    "   4 & 5 & 6 \\\\\n",
    "   7 & 8 & 9\n",
    "\\end{bmatrix}\n",
    "$$\n",
    "\n",
    "The first way is to pass a list of lists to `np.array()` where each of the sublists represents a row of the matrix."
   ]
  },
  {
   "cell_type": "code",
   "execution_count": null,
   "id": "a9e9695c",
   "metadata": {},
   "outputs": [],
   "source": [
    "np.array([[1,2,3],[4,5,6],[7,8,9]])"
   ]
  },
  {
   "cell_type": "markdown",
   "id": "ecd9f114",
   "metadata": {},
   "source": [
    "The second way is to create a single row of the values in order you want the values to appear from left to right, top to bottom. Then, use the `reshape(<row>, <column>)` method to resize those values into the correct dimensions."
   ]
  },
  {
   "cell_type": "code",
   "execution_count": null,
   "id": "75fb2bcf",
   "metadata": {},
   "outputs": [],
   "source": [
    "np.array([1,2,3,4,5,6,7,8,9]).reshape((3,3))"
   ]
  },
  {
   "cell_type": "markdown",
   "id": "0c981d91",
   "metadata": {},
   "source": [
    "Assign the following variables as `numpy` arrays that match their mathematical definitions:\n",
    "\n",
    "$$A = \\begin{bmatrix}\n",
    "   6 & 0 \\\\\n",
    "   14 & 22 \n",
    "\\end{bmatrix}\n",
    "$$\n",
    "\n",
    "$$B = \\begin{bmatrix}\n",
    "   2 & 5 & 7 & 1 & 2 \\\\\n",
    "   4 & 2 & 8 & 6 & 3 \n",
    "\\end{bmatrix}\n",
    "$$"
   ]
  },
  {
   "cell_type": "code",
   "execution_count": null,
   "id": "41b23e0f",
   "metadata": {
    "tags": []
   },
   "outputs": [],
   "source": [
    "A = np.array([[6, 0], [14, 22]])\n",
    "A"
   ]
  },
  {
   "cell_type": "code",
   "execution_count": null,
   "id": "386dfe0c",
   "metadata": {
    "tags": []
   },
   "outputs": [],
   "source": [
    "B = np.array([2, 5, 7, 1, 2, 4, 2, 8, 6, 3]).reshape(2,5)\n",
    "B"
   ]
  },
  {
   "cell_type": "code",
   "execution_count": null,
   "id": "34be066a",
   "metadata": {
    "deletable": false,
    "editable": false
   },
   "outputs": [],
   "source": [
    "grader.check(\"q1\")"
   ]
  },
  {
   "cell_type": "markdown",
   "id": "983cad30",
   "metadata": {},
   "source": [
    "### Question 2: Validating keys\n",
    "\n",
    "Matrices are only valid for use as a key in the Hill cipher if they meet the following criteria:\n",
    "* They are square (they have the same number of rows and columns)\n",
    "  * You can ask `numpy` to tell you the shape of a matrix by calling `A.shape`. It will return a tuple/list that contains the row and column size. You can access them seperately by using an index (e.g. `A.shape[0]` is the row size, `A.shape[1]` is the column size.)\n",
    "* They have a [determinant](https://en.wikipedia.org/wiki/Determinant) that is non-zero \n",
    "  * The determinant can be found using `numpy` with the `np.linalg.det(A)` function\n",
    "* They have a determinant that has a multiplicative inverse in the given modulus (length of alphabet)\n",
    "  * The multiplicative inverse can be found using the `multiplicative_inverse` function provided in the toolkit\n",
    "\n",
    "Write a function `valid_key` that accepts a matrix (numpy array) and returns a boolean value `True` if the key is value and `False` if the key is invalid.\n",
    "\n",
    "**Note:** Determinants of matrices that only contain integers should always be an integer value. However, sometimes `numpy` will have strange calculation errors that result in a float."
   ]
  },
  {
   "cell_type": "code",
   "execution_count": null,
   "id": "1634b91b",
   "metadata": {},
   "outputs": [],
   "source": [
    "np.linalg.det(A)"
   ]
  },
  {
   "cell_type": "markdown",
   "id": "b8c0e553",
   "metadata": {},
   "source": [
    "Use the `round` function to ensure that any weird computation artifacts are handled by rounding the float to an integer."
   ]
  },
  {
   "cell_type": "code",
   "execution_count": null,
   "id": "a498b93f",
   "metadata": {},
   "outputs": [],
   "source": [
    "round(np.linalg.det(A))"
   ]
  },
  {
   "cell_type": "markdown",
   "id": "94dcb503",
   "metadata": {},
   "source": [
    "And then reduce to the appropriate modulo:"
   ]
  },
  {
   "cell_type": "code",
   "execution_count": null,
   "id": "0914276f",
   "metadata": {},
   "outputs": [],
   "source": [
    "round(np.linalg.det(A)) % 26"
   ]
  },
  {
   "cell_type": "code",
   "execution_count": null,
   "id": "0dfd4b25",
   "metadata": {
    "tags": []
   },
   "outputs": [],
   "source": [
    "def valid_key(A, LETTERS='ABCDEFGHIJKLMNOPQRSTUVWXYZ'):\n",
    "    if A.shape[0] != A.shape[1]:\n",
    "        return False\n",
    "    \n",
    "    if round(np.linalg.det(A)) == 0:\n",
    "        return False\n",
    "    \n",
    "    if multiplicative_inverse(round(np.linalg.det(A)) % len(LETTERS), len(LETTERS)) == False:\n",
    "        return False\n",
    "    \n",
    "    return True"
   ]
  },
  {
   "cell_type": "code",
   "execution_count": null,
   "id": "56c32c2b",
   "metadata": {
    "deletable": false,
    "editable": false
   },
   "outputs": [],
   "source": [
    "grader.check(\"q2\")"
   ]
  },
  {
   "cell_type": "markdown",
   "id": "beb627ee",
   "metadata": {},
   "source": [
    "### Question 3: Creating a key\n",
    "\n",
    "Typically a key is created by first choosing a keyword or phrase that is turned into numerical values and stored into the matrix.\n",
    "\n",
    "Write the function `keygen` which takes in a keyword, cleans it, and then uses its length to determine the size of the matrix that should be used with the Hill cipher. That means that if the string `keyword` has length `n**2`, the square array should have the dimensions `n` by `n`. You may assume that the length of `keyword` is a perfect square and do not need to check for this.\n",
    "\n",
    "**Hint**: Try creating a \"flat\" version of the key (essentially a single row array with all the correct numbers in order) and then use the `reshape` method to turn it into the correct square array."
   ]
  },
  {
   "cell_type": "code",
   "execution_count": null,
   "id": "c6a91444",
   "metadata": {
    "tags": []
   },
   "outputs": [],
   "source": [
    "def keygen(keyword, LETTERS='ABCDEFGHIJKLMNOPQRSTUVWXYZ'):\n",
    "    cleaned_keyword = ...\n",
    "    keyword_length = ...\n",
    "    matrix_dimension = ...\n",
    "    "
   ]
  },
  {
   "cell_type": "code",
   "execution_count": null,
   "id": "0c65822e",
   "metadata": {
    "deletable": false,
    "editable": false
   },
   "outputs": [],
   "source": [
    "grader.check(\"q3\")"
   ]
  },
  {
   "cell_type": "markdown",
   "id": "fe50cc2e",
   "metadata": {},
   "source": [
    "## The Hill Cipher\n",
    "\n",
    "To encrypt a message with the Hill cipher, break the message into blocks of each containing `n` characters, where `n` is also the size of your square key matrix. Write each block of characters as a single column matrix with `n` entries. Then, multiply this matrix by your key, and reduce modulo 26. The result will be a 1 x `n` matrix that represents the ciphertext version of the block. Repeat until the entire message is encrypted. If your last block doesn't have enough characters to create a full 1 x `n` matrix, pad the message with the character `X` until it's long enough to create a full block.\n",
    "\n",
    "\n",
    "**Example:**\n",
    "\n",
    "Create a 2 x 2 key:\n",
    "\n",
    "$$K = \\begin{bmatrix}\n",
    "   3 & 6 \\\\\n",
    "   1 & 3 \n",
    "\\end{bmatrix}\n",
    "$$"
   ]
  },
  {
   "cell_type": "markdown",
   "id": "2632aed3",
   "metadata": {},
   "source": [
    "Using the plaintext message, `ET PHONE HOME`, create 1 x 2 matrices that numerical represent the message:\n",
    "\n",
    "$$\\begin{bmatrix}\n",
    "   E  \\\\\n",
    "   T \n",
    "\\end{bmatrix}, \\begin{bmatrix}\n",
    "   P  \\\\\n",
    "   H \n",
    "\\end{bmatrix}, \\begin{bmatrix}\n",
    "   O  \\\\\n",
    "   N \n",
    "\\end{bmatrix}, \\begin{bmatrix}\n",
    "   E  \\\\\n",
    "   H \n",
    "\\end{bmatrix}, \\begin{bmatrix}\n",
    "   O  \\\\\n",
    "   M \n",
    "\\end{bmatrix}, \\begin{bmatrix}\n",
    "   E  \\\\\n",
    "   X \n",
    "\\end{bmatrix}\n",
    "$$\n",
    "\n",
    "$$\\begin{bmatrix}\n",
    "   4  \\\\\n",
    "   19 \n",
    "\\end{bmatrix}, \\begin{bmatrix}\n",
    "   15  \\\\\n",
    "   7 \n",
    "\\end{bmatrix}, \\begin{bmatrix}\n",
    "   14  \\\\\n",
    "   13\n",
    "\\end{bmatrix}, \\begin{bmatrix}\n",
    "   4  \\\\\n",
    "   7 \n",
    "\\end{bmatrix}, \\begin{bmatrix}\n",
    "   14  \\\\\n",
    "   12 \n",
    "\\end{bmatrix}, \\begin{bmatrix}\n",
    "   4  \\\\\n",
    "   23 \n",
    "\\end{bmatrix}\n",
    "$$"
   ]
  },
  {
   "cell_type": "markdown",
   "id": "b8fb118a",
   "metadata": {},
   "source": [
    "Then, multiply the key by each plaintext matrix to create the ciphertext. The first result is shown below:\n",
    "\n",
    "$$\\begin{bmatrix}\n",
    "   3 & 6 \\\\\n",
    "   1 & 3 \n",
    "\\end{bmatrix} \\begin{bmatrix}\n",
    "   4  \\\\\n",
    "   19 \n",
    "\\end{bmatrix}= \\begin{bmatrix}\n",
    "   3 \\cdot 4 + 6 \\cdot 19 \\\\\n",
    "   1 \\cdot 4 + 3 \\cdot 19\n",
    "\\end{bmatrix} = \\begin{bmatrix}\n",
    "   126 \\\\\n",
    "   61 \n",
    "\\end{bmatrix} = \\begin{bmatrix}\n",
    "   22 \\\\\n",
    "   9 \n",
    "\\end{bmatrix} = \\begin{bmatrix}\n",
    "   W \\\\\n",
    "   J \n",
    "\\end{bmatrix}\n",
    "$$\n",
    "\n",
    "The full ciphertext would be: `WJ JK QB CZ KY UV`"
   ]
  },
  {
   "cell_type": "markdown",
   "id": "0688c588",
   "metadata": {},
   "source": [
    "To decrypt the message, repeat the process using the inverse of the key matrix."
   ]
  },
  {
   "cell_type": "markdown",
   "id": "e731d35a",
   "metadata": {},
   "source": [
    "### Using `numpy` to perform multiplication\n",
    "\n",
    "The process of multiplying two matrices together is also known as the **dot product** between two matrices. You can learn more about matrix multiplication by hand by watching [this video](https://www.youtube.com/watch?v=sYlOjyPyX3g&t=496s). Fortunately, `numpy` can perform the operation very quickly using the `np.dot()` function. You can then use the mod operation, `%` to perform the mod operation on each element in the matrix."
   ]
  },
  {
   "cell_type": "code",
   "execution_count": null,
   "id": "69831c99",
   "metadata": {},
   "outputs": [],
   "source": [
    "K = np.array([[3, 6], [1,3]])\n",
    "block = np.array([[4,19]]).reshape(2,1)\n",
    "\n",
    "ciphertext_numerical = np.dot(K,block) % 26\n",
    "ciphertext_numerical"
   ]
  },
  {
   "cell_type": "markdown",
   "id": "27002aa6",
   "metadata": {},
   "source": [
    "To access each element in the array individual, you can use indexing (just like with lists of lists) to specify exactly which element to retrieve. For example, to access `22` you should specify the location of row 0, column 0:"
   ]
  },
  {
   "cell_type": "code",
   "execution_count": null,
   "id": "56e6fe81",
   "metadata": {},
   "outputs": [],
   "source": [
    "ciphertext_numerical[0][0]"
   ]
  },
  {
   "cell_type": "markdown",
   "id": "0b285b98",
   "metadata": {},
   "source": [
    "And to retrieve 9, you should specify row 1, column 0:"
   ]
  },
  {
   "cell_type": "code",
   "execution_count": null,
   "id": "d2a7926e",
   "metadata": {},
   "outputs": [],
   "source": [
    "ciphertext_numerical[1][0]"
   ]
  },
  {
   "cell_type": "markdown",
   "id": "033e372e",
   "metadata": {},
   "source": [
    "### Question 4: Cleaning the message\n",
    "\n",
    "When encrypting a message, the Hill Cipher requires that each block of characters fill the 1 x `n` matrix. Write a function `hill_textclean` that checks if a provided `message` would have a final block that is \"full\". If the message would not have a full final block, add the correct number of `X`s to the end of the message so it would.\n"
   ]
  },
  {
   "cell_type": "code",
   "execution_count": null,
   "id": "1c671456",
   "metadata": {
    "tags": []
   },
   "outputs": [],
   "source": [
    "def hill_textclean(message, block_size, LETTERS='ABCDEFGHIJKLMNOPQRSTUVWXYZ'):\n",
    "    \n",
    "    cleaned_message = text_clean(message, LETTERS)\n",
    "    "
   ]
  },
  {
   "cell_type": "code",
   "execution_count": null,
   "id": "663145cc",
   "metadata": {
    "deletable": false,
    "editable": false
   },
   "outputs": [],
   "source": [
    "grader.check(\"q4\")"
   ]
  },
  {
   "cell_type": "markdown",
   "id": "fc93b960",
   "metadata": {},
   "source": [
    "### Inverse matrices\n",
    "\n",
    "Constructing the multiplicative inverse of a matrix can easily be done using `numpy`, however, `numpy` is not concerned about ensuring the resulting matrix contains only integer values. For example:"
   ]
  },
  {
   "cell_type": "code",
   "execution_count": null,
   "id": "1ec2e282",
   "metadata": {},
   "outputs": [],
   "source": [
    "K = np.array([[3, 6], [1,3]])\n",
    "np.linalg.inv(K)"
   ]
  },
  {
   "cell_type": "markdown",
   "id": "fa98941a",
   "metadata": {},
   "source": [
    "Since we want each entry in our keys and messages to be integers (since they need to result in integers that represent characters) we'll need another way to compute the inverse that preserves the integer values. Let's dig into how an inverse matrix is created to learn how this works.\n",
    "\n",
    "The inverse of a square matrix is computed by calculating the determinant of the matrix and multiplying it's reciprocal by the adjugate matrix. If the input matrix is comprised of integers, then the adjugate matrix is guaranteed to contain only integers as well.\n",
    "\n",
    "$$A^{-1} = \\frac{1}{\\det{A}} \\text{adj}(A) = (\\det{A})^{-1} \\text{adj}(A) $$\n",
    "\n",
    "We've seen that `numpy` can compute the determinant with the `np.linalg.det()` function. Unfortunately, `numpy` doesn't have a way to directly compute the adjugate matrix. However, we can \"trick\" it into computing one. Rearranging the equation from above:\n",
    "\n",
    "$$\\text{adj}(A) = \\det(A) A^{-1}$$\n",
    "\n"
   ]
  },
  {
   "cell_type": "code",
   "execution_count": null,
   "id": "078126ff",
   "metadata": {},
   "outputs": [],
   "source": [
    "K = np.array([[3, 6], [1,3]])\n",
    "K_adj = np.linalg.det(K) * np.linalg.inv(K)\n",
    "K_adj"
   ]
  },
  {
   "cell_type": "markdown",
   "id": "16591903",
   "metadata": {},
   "source": [
    "**Note:** To ensure that each element is an integer (notice the . after each number indicating the computation resulted in a float), you must round it using the `numpy` matrix rounding function `np.round_()` and *then* convert the matrix to integers using the `.astype(int)` command.\n",
    "\n",
    "See below:"
   ]
  },
  {
   "cell_type": "code",
   "execution_count": null,
   "id": "77a35f25",
   "metadata": {},
   "outputs": [],
   "source": [
    "K_adj = np.round_(K_adj).astype(int)\n",
    "K_adj"
   ]
  },
  {
   "cell_type": "markdown",
   "id": "c6fb7c1a",
   "metadata": {},
   "source": [
    "To finish the process off, you'll need to compute the determinant, convert it to an integer, and then find it's multiplicative inverse in the correct modulo."
   ]
  },
  {
   "cell_type": "code",
   "execution_count": null,
   "id": "cf6f4823",
   "metadata": {},
   "outputs": [],
   "source": [
    "determinant = int(round(np.linalg.det(K)))\n",
    "det_inv = multiplicative_inverse( determinant, 26 )\n",
    "det_inv"
   ]
  },
  {
   "cell_type": "markdown",
   "id": "f130e457",
   "metadata": {},
   "source": [
    "Lastly, multiply the multiplicative inverse of the determinant, `det_inv` by the adjugate matrix, `K_adj`, and reduce by the appropriate modulo."
   ]
  },
  {
   "cell_type": "code",
   "execution_count": null,
   "id": "bfcb81f4",
   "metadata": {},
   "outputs": [],
   "source": [
    "K_inv = (det_inv * K_adj) % 26\n",
    "K_inv"
   ]
  },
  {
   "cell_type": "markdown",
   "id": "354e6417",
   "metadata": {},
   "source": [
    "We can confirm that `K` and `K_inv` are inverses of each other by finding their dot product and verifying that it's equivalent to the identity matrix, $I$, which contains the number 0 everywhere except on the diagonal from the top left corner to the bottom right corner whose elements are 1. The size of the identity matrix is the same as the key. So, for our example:\n",
    "\n",
    "$$\n",
    "I = \\begin{bmatrix}\n",
    "   1 & 0 \\\\\n",
    "   0 & 1 \n",
    "\\end{bmatrix}\n",
    "$$"
   ]
  },
  {
   "cell_type": "code",
   "execution_count": null,
   "id": "83513980",
   "metadata": {},
   "outputs": [],
   "source": [
    "np.dot(K, K_inv) % 26"
   ]
  },
  {
   "cell_type": "markdown",
   "id": "03438cfe",
   "metadata": {},
   "source": [
    "### Question 5: Compute the \"Hill Inverse\"\n",
    "\n",
    "Write the function `hill_inverse` that computes the inverse of a provided square matrix, `K`, in the provided modulus `n`. You can assume that only valid keys will be passed to this function."
   ]
  },
  {
   "cell_type": "code",
   "execution_count": null,
   "id": "d6ec8382",
   "metadata": {
    "tags": []
   },
   "outputs": [],
   "source": [
    "def hill_inverse(K, n):\n",
    "    K_adj = ...\n",
    "    determinant = ...\n",
    "    det_inv = ...\n",
    "    ..."
   ]
  },
  {
   "cell_type": "code",
   "execution_count": null,
   "id": "599a5e71",
   "metadata": {
    "deletable": false,
    "editable": false
   },
   "outputs": [],
   "source": [
    "grader.check(\"q5\")"
   ]
  },
  {
   "cell_type": "markdown",
   "id": "bb2d8eca",
   "metadata": {},
   "source": [
    "### Question 6: Encryption / Decryption\n",
    "\n",
    "At this point you should now be able write a function `hill` that implements the Hill cipher using a provided keyword, block size, and message. The function should also accept a boolean value to `encipher` that when set to `True` encrypts the `message` with the `key` and when set to `False` decrypts the `message` with the `key`."
   ]
  },
  {
   "cell_type": "code",
   "execution_count": null,
   "id": "6c66f06b",
   "metadata": {
    "tags": []
   },
   "outputs": [],
   "source": [
    "def hill(keyword, block_size, message, encipher=True, LETTERS='ABCDEFGHIJKLMNOPQRSTUVWXYZ'):\n",
    "    \n",
    "    key = ...\n",
    "    \n",
    "    # This code checks if the key is valid! If not, returns False\n",
    "    if valid_key(key) == False:\n",
    "        return False\n",
    "        \n",
    "    cleaned_message = ...\n",
    "    output = ''\n",
    "    "
   ]
  },
  {
   "cell_type": "code",
   "execution_count": null,
   "id": "e89baac0",
   "metadata": {
    "deletable": false,
    "editable": false
   },
   "outputs": [],
   "source": [
    "grader.check(\"q6\")"
   ]
  },
  {
   "cell_type": "markdown",
   "id": "22c2ea48",
   "metadata": {},
   "source": [
    "## Ciphertext analysis"
   ]
  },
  {
   "cell_type": "markdown",
   "id": "77b83170",
   "metadata": {},
   "source": [
    "There is a file included with this notebook that contains the first chapter of Pride and Prejudice. These responses will only be graded for accuracy once you've submitted your assignment, so make sure you are certain of your answers before submitting!\n",
    "\n",
    "Run the cell below to load the chapter to the string named `plaintext`"
   ]
  },
  {
   "cell_type": "code",
   "execution_count": null,
   "id": "0d202174",
   "metadata": {},
   "outputs": [],
   "source": [
    "with open('pride-prejudice-chapter-01.txt') as f:\n",
    "    plaintext = f.read()"
   ]
  },
  {
   "cell_type": "markdown",
   "id": "1d50bdc4",
   "metadata": {},
   "source": [
    "<!-- BEGIN QUESTION -->\n",
    "\n",
    "### Question 7: Creating a bar chart\n",
    "\n",
    "Encrypt the plaintext using a keyword of `PRIDEANDP`, and block size `3`, then create a bar chart that shows the single character frequencies of each of the 25 English characters used in the message."
   ]
  },
  {
   "cell_type": "code",
   "execution_count": null,
   "id": "9ca1f2ce",
   "metadata": {
    "tags": []
   },
   "outputs": [],
   "source": [
    "ciphertext = ...\n"
   ]
  },
  {
   "cell_type": "markdown",
   "id": "77db04cb",
   "metadata": {},
   "source": [
    "<!-- END QUESTION -->\n",
    "\n",
    "### Question 8: Index of Coincidence\n",
    "\n",
    "Write a function `index_of_coincidence` to compute the index of coincidence of the ciphertext.\n",
    "\n",
    "**Hint:** Reference Lesson 17 and Lab 04 if you need a refresher!"
   ]
  },
  {
   "cell_type": "code",
   "execution_count": null,
   "id": "66f5430f",
   "metadata": {
    "tags": []
   },
   "outputs": [],
   "source": [
    "def index_of_coincidence(message, LETTERS='ABCDEFGHIKLMNOPQRSTUVWXYZ'):\n",
    "    \n",
    "    ..."
   ]
  },
  {
   "cell_type": "code",
   "execution_count": null,
   "id": "f02843da",
   "metadata": {
    "deletable": false,
    "editable": false
   },
   "outputs": [],
   "source": [
    "grader.check(\"q8\")"
   ]
  },
  {
   "cell_type": "markdown",
   "id": "5553280a",
   "metadata": {},
   "source": [
    "### Question 9: Classifying the cipher\n",
    "\n",
    "The Hill cipher is what's known as a polygraphic cipher. It's not a monoalphabetic substitution cipher or a polyalphabetic substitution cipher.\n",
    "\n",
    "Based on the coincidence value you computed in Question 8, which of the following does it behave *most* like:\n",
    "\n",
    "1. monoalphabetic substitution cipher\n",
    "2. polyalphabetic substitution cipher\n",
    "\n",
    "Assign the answer choice as an integer to the variable `q9` below."
   ]
  },
  {
   "cell_type": "code",
   "execution_count": null,
   "id": "b08a3e30",
   "metadata": {
    "tags": []
   },
   "outputs": [],
   "source": [
    "q9 = ..."
   ]
  },
  {
   "cell_type": "raw",
   "id": "8b6df75f",
   "metadata": {},
   "source": [
    "# BEGIN TEST"
   ]
  },
  {
   "cell_type": "code",
   "execution_count": null,
   "id": "e246d10e",
   "metadata": {},
   "outputs": [],
   "source": [
    "\"\"\" # BEGIN TEST CONFIG\n",
    "points: 1\n",
    "hidden: true\n",
    "\"\"\" # END TEST CONFIG\n",
    "q9"
   ]
  },
  {
   "cell_type": "raw",
   "id": "111b8473",
   "metadata": {},
   "source": [
    "# END TEST"
   ]
  },
  {
   "cell_type": "markdown",
   "id": "8fc2c283",
   "metadata": {
    "deletable": false,
    "editable": false
   },
   "source": [
    "## Submission\n",
    "\n",
    "Make sure you have run all cells in your notebook in order before running the cell below, so that all images/graphs appear in the output. The cell below will generate a zip file for you to submit. **Please save before exporting!**\n",
    "\n",
    "Before exporting, SAVE your notebook, then RESTART AND RUN ALL CELLS. This will run the export cell. Make sure you submit the most recent copy by using the date-time stamp on the file."
   ]
  },
  {
   "cell_type": "code",
   "execution_count": null,
   "id": "7ea3149b",
   "metadata": {
    "deletable": false,
    "editable": false
   },
   "outputs": [],
   "source": [
    "# Save your notebook first, then run this cell to export your submission.\n",
    "grader.export(pdf=False)"
   ]
  },
  {
   "cell_type": "markdown",
   "id": "17d86cd2",
   "metadata": {},
   "source": [
    " "
   ]
  }
 ],
 "metadata": {
  "kernelspec": {
   "display_name": "Python 3 (ipykernel)",
   "language": "python",
   "name": "python3"
  },
  "language_info": {
   "codemirror_mode": {
    "name": "ipython",
    "version": 3
   },
   "file_extension": ".py",
   "mimetype": "text/x-python",
   "name": "python",
   "nbconvert_exporter": "python",
   "pygments_lexer": "ipython3",
   "version": "3.10.5"
  },
  "otter": {
   "tests": {
    "q1": {
     "name": "q1",
     "points": 1,
     "suites": [
      {
       "cases": [
        {
         "code": ">>> import numpy\n>>> type(A) == numpy.ndarray\nTrue",
         "hidden": false,
         "locked": false,
         "points": 0
        },
        {
         "code": ">>> np.shape(A)\n(2, 2)",
         "hidden": false,
         "locked": false,
         "points": 0
        },
        {
         "code": ">>> np.shape(B)\n(2, 5)",
         "hidden": false,
         "locked": false,
         "points": 0
        },
        {
         "code": ">>> A\narray([[ 6,  0],\n       [14, 22]])",
         "hidden": false,
         "locked": false,
         "points": 0.5
        },
        {
         "code": ">>> B\narray([[2, 5, 7, 1, 2],\n       [4, 2, 8, 6, 3]])",
         "hidden": false,
         "locked": false,
         "points": 0.5
        }
       ],
       "scored": true,
       "setup": "",
       "teardown": "",
       "type": "doctest"
      }
     ]
    },
    "q2": {
     "name": "q2",
     "points": 2,
     "suites": [
      {
       "cases": [
        {
         "code": ">>> valid_key(np.array([[3,6],[1,3]])) != None\nTrue",
         "failure_message": "Make sure you're using a return statement",
         "hidden": false,
         "locked": false,
         "points": 0
        },
        {
         "code": ">>> valid_key(np.array([[3,6],[1,3]]))\nTrue",
         "hidden": false,
         "locked": false,
         "points": 0.5
        },
        {
         "code": ">>> valid_key(np.array([[3,6,1],[1,3,2]]))\nFalse",
         "hidden": false,
         "locked": false,
         "points": 0.5
        },
        {
         "code": ">>> valid_key(np.array([[6, 24, 1],[13, 16, 10], [20, 17, 15]]))\nTrue",
         "hidden": false,
         "locked": false,
         "points": 0.5
        },
        {
         "code": ">>> valid_key(np.array([[6, 0, 1],[0, 17, 10], [20, 17, 15]]))\nFalse",
         "hidden": false,
         "locked": false,
         "points": 0.5
        },
        {
         "code": ">>> valid_key(np.array([[19, 16,  6, 17, 23], [ 6,  5,  4,  2,  8], [ 6, 22, 25,  2,  8], [ 7,  2, 17, 22,  5], [ 5,  4,  5, 25, 14]]) )\nTrue",
         "failure_message": "Make sure you are reducing mod len(LETTERS) before you find the multiplicative inverse",
         "hidden": false,
         "locked": false,
         "points": 0
        }
       ],
       "scored": true,
       "setup": "",
       "teardown": "",
       "type": "doctest"
      }
     ]
    },
    "q3": {
     "name": "q3",
     "points": 2,
     "suites": [
      {
       "cases": [
        {
         "code": ">>> type(keygen('HELP')) != None\nTrue",
         "failure_message": "Make sure you're using a return statement",
         "hidden": false,
         "locked": false,
         "points": 0
        },
        {
         "code": ">>> keygen('HELPABCD', LETTERS='ABCD')\narray([[0, 1],\n       [2, 3]])",
         "failure_message": "Make sure you're cleaning the message using LETTERS",
         "hidden": false,
         "locked": false,
         "points": 0
        },
        {
         "code": ">>> keygen('HELP')\narray([[ 7,  4],\n       [11, 15]])",
         "hidden": false,
         "locked": false,
         "points": 0.5
        },
        {
         "code": ">>> keygen('MATH')\narray([[12,  0],\n       [19,  7]])",
         "hidden": false,
         "locked": false,
         "points": 0.5
        },
        {
         "code": ">>> keygen('GYBNQKURP')\narray([[ 6, 24,  1],\n       [13, 16, 10],\n       [20, 17, 15]])",
         "hidden": false,
         "locked": false,
         "points": 0.5
        },
        {
         "code": ">>> keygen('MATHMATHM')\narray([[12,  0, 19],\n       [ 7, 12,  0],\n       [19,  7, 12]])",
         "hidden": false,
         "locked": false,
         "points": 0.5
        }
       ],
       "scored": true,
       "setup": "",
       "teardown": "",
       "type": "doctest"
      }
     ]
    },
    "q4": {
     "name": "q4",
     "points": 3,
     "suites": [
      {
       "cases": [
        {
         "code": ">>> hill_textclean('ET PHONE HOME', 2) != None\nTrue",
         "failure_message": "Make sure you're using a return statement",
         "hidden": false,
         "locked": false,
         "points": 0
        },
        {
         "code": ">>> hill_textclean('ABDFGHABBABBDBBBCBBDF', 4, LETTERS='ABCX')\n'ABABBABBBBBCBBXX'",
         "failure_message": "Make sure you're cleaning the message using LETTERS",
         "hidden": false,
         "locked": false,
         "points": 0
        },
        {
         "code": ">>> hill_textclean('ET PHONE HOME', 2)\n'ETPHONEHOMEX'",
         "hidden": false,
         "locked": false,
         "points": 1
        },
        {
         "code": ">>> hill_textclean('et phone home', 3)\n'ETPHONEHOMEX'",
         "hidden": false,
         "locked": false,
         "points": 1
        },
        {
         "code": ">>> hill_textclean('et phone home', 5)\n'ETPHONEHOMEXXXX'",
         "hidden": false,
         "locked": false,
         "points": 1
        }
       ],
       "scored": true,
       "setup": "",
       "teardown": "",
       "type": "doctest"
      }
     ]
    },
    "q5": {
     "name": "q5",
     "points": 2,
     "suites": [
      {
       "cases": [
        {
         "code": ">>> type(hill_inverse(np.array([[3, 6], [1,3]]), 26)) != None\nTrue",
         "failure_message": "Make sure you're using a return statement",
         "hidden": false,
         "locked": false,
         "points": 0
        },
        {
         "code": ">>> hill_inverse(np.array([[3, 6], [1,3]]), 26)\narray([[ 1, 24],\n       [17,  1]])",
         "hidden": false,
         "locked": false,
         "points": 1
        },
        {
         "code": ">>> hill_inverse(np.array([[6, 24, 1], [13, 16, 10], [20, 17, 15]]), 26)\narray([[ 8,  5, 10],\n       [21,  8, 21],\n       [21, 12,  8]])",
         "hidden": false,
         "locked": false,
         "points": 1
        }
       ],
       "scored": true,
       "setup": "",
       "teardown": "",
       "type": "doctest"
      }
     ]
    },
    "q6": {
     "name": "q6",
     "points": 6,
     "suites": [
      {
       "cases": [
        {
         "code": ">>> hill('DGBD', 2, 'ETPHONEHOME') != None\nTrue",
         "failure_message": "Make sure you're using a return statement",
         "hidden": false,
         "locked": false,
         "points": 0
        },
        {
         "code": ">>> hill('DGBD', 2, 'ETPHONEHOME', LETTERS='ABCDEFGHIJKLMNOQRSTUVWXYZ')\n'VIFZN AFZKZ'",
         "failure_message": "Make sure you're using LETTERS when cleaning your messages!",
         "hidden": false,
         "locked": false,
         "points": 0
        },
        {
         "code": ">>> hill('DGBD', 2, 'ETPHONEHOME')\n'WJJKQ BCZKY UV'",
         "hidden": false,
         "locked": false,
         "points": 0.5
        },
        {
         "code": ">>> hill('MATH', 2, 'ETPHONEHOME')\nFalse",
         "hidden": false,
         "locked": false,
         "points": 0.5
        },
        {
         "code": ">>> hill('DGBD', 2, 'WJJKQ BCZKY UV', encipher=False)\n'etphonehomex'",
         "hidden": false,
         "locked": false,
         "points": 0.5
        },
        {
         "code": ">>> hill('GYBNQKURP', 3, 'ACT')\n'POH'",
         "hidden": false,
         "locked": false,
         "points": 0.5
        },
        {
         "code": ">>> hill('GYBNQKURP', 3, 'POH', encipher=False)\n'act'",
         "hidden": false,
         "locked": false,
         "points": 1
        },
        {
         "code": ">>> hill('CEFJCBDRH', 3, 'ATTACKATDAWN')\n'PFOGO ANPGX FX'",
         "hidden": false,
         "locked": false,
         "points": 1
        },
        {
         "code": ">>> hill('CEFJCBDRH', 3, 'PFOGO ANPGX FX', encipher=False)\n'attackatdawn'",
         "hidden": false,
         "locked": false,
         "points": 1
        },
        {
         "code": ">>> hill('FGGI CCCI GGCI CDGH', 4, 'ATTACKATDAWN')\nFalse",
         "hidden": false,
         "locked": false,
         "points": 0.5
        },
        {
         "code": ">>> hill('TQGRX GFECI GWZCI HCRWF FEFZO', 5, \"THISISALONGMESSAGELETSHOPEITWORKS\")\n'XVWRX JYVKB KGIWU JWAEL AQBVI AKZLJ DMOAU'",
         "hidden": false,
         "locked": false,
         "points": 0.5
        }
       ],
       "scored": true,
       "setup": "",
       "teardown": "",
       "type": "doctest"
      }
     ]
    },
    "q8": {
     "name": "q8",
     "points": 2,
     "suites": [
      {
       "cases": [
        {
         "code": ">>> index_of_coincidence('test message') != None\nTrue",
         "failure_message": "Make sure you're using a return statement",
         "hidden": false,
         "locked": false,
         "points": 0
        },
        {
         "code": ">>> round(index_of_coincidence('test message'), 5) == round(index_of_coincidence('TESTMESSAGE'), 5)\nTrue",
         "failure_message": "Make sure you are cleaning your message before computing the IC",
         "hidden": false,
         "locked": false,
         "points": 0
        },
        {
         "code": ">>> round(index_of_coincidence('test message'), 5)\n0.12727",
         "hidden": false,
         "locked": false,
         "points": 1
        }
       ],
       "scored": true,
       "setup": "",
       "teardown": "",
       "type": "doctest"
      }
     ]
    }
   }
  }
 },
 "nbformat": 4,
 "nbformat_minor": 5
}
