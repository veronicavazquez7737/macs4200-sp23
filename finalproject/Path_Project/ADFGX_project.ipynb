{
 "cells": [
  {
   "cell_type": "raw",
   "id": "98434154-7b29-4931-9ea3-b097eea24f74",
   "metadata": {},
   "source": [
    "# ASSIGNMENT CONFIG\n",
    "check_all_cell: false\n",
    "export_cell:\n",
    "  pdf: false\n",
    "  force_save: false\n",
    "  instructions: 'Before exporting, SAVE your notebook, then RESTART AND RUN ALL CELLS. This will run the export cell. Make sure you submit the most recent copy by using the date-time stamp on the file.'\n",
    "generate: true\n",
    "files: \n",
    "    - finaltoolkit.py"
   ]
  },
  {
   "cell_type": "markdown",
   "id": "78bd51ed-1dc1-4d0e-84f4-68a278c56129",
   "metadata": {},
   "source": [
    "# Path Cipher\n",
    "\n",
    "Let us suppose we wish to encipher a message of 136 characters. \n",
    "\n",
    "<i>\"I have grown to love secrecy. It seems to be the one thing that can make modern life mysterious or marvelous to us. The commonest thing is delightful if only one hides it.\"</i>\n",
    "\n",
    "We fear that the message might be intercepted by a cabal of clever character counters. Therefore, we cannot use a substitution cipher. What we can do is scramble the message provided our allies know how to unscramble it. Since it is a message of 136 characters, we can arrange it into a grid of 8 by 17."
   ]
  },
  {
   "cell_type": "code",
   "execution_count": 10,
   "id": "4904304d-afc0-483d-97dd-78fb015c38a6",
   "metadata": {},
   "outputs": [],
   "source": [
    "message = \"I have grown to love secrecy. It seems to be the one thing that can make modern life mysterious or marvelous to us. The commonest thing is delightful if only one hides it.\""
   ]
  },
  {
   "cell_type": "code",
   "execution_count": 12,
   "id": "01577895-9558-4f81-85c5-3958fcc6d384",
   "metadata": {},
   "outputs": [],
   "source": [
    "message = \"IHAVEGROWNTOLOVESECRECYITSEEMSTOBETHEONETHINGTHATCANMAKEMODERNLIFEMYSTERIOUSORMARVELOUSTOUSTHECOMMONESTTHINGISDELIGHTFULIFONLYONEHIDESIT\""
   ]
  },
  {
   "cell_type": "markdown",
   "id": "43f465a5-851b-4760-9a54-457d4a891d4a",
   "metadata": {},
   "source": [
    "![Error Message](message_grid.jpg \"Annoted error message\")"
   ]
  },
  {
   "cell_type": "code",
   "execution_count": null,
   "id": "8d81f3b1-6780-4361-9a40-6c16b2b5411e",
   "metadata": {},
   "outputs": [],
   "source": [
    "Then, we can transcribe the characters in a path "
   ]
  },
  {
   "cell_type": "code",
   "execution_count": 9,
   "id": "1c9439d3-f29a-499b-b30d-ee0a0b4de0d9",
   "metadata": {},
   "outputs": [
    {
     "name": "stdout",
     "output_type": "stream",
     "text": [
      "IHAVEGROWNTOLOVESECRECYITSEEMSTOBETHEONETHINGTHATCANMAKEMODERNLIFEMYSTERIOUSORMARVELOUSTOUSTHECOMMONESTTHINGISDELIGHTFULIFONLYONEHIDESIT\n",
      "136\n"
     ]
    },
    {
     "data": {
      "text/plain": [
       "17.0"
      ]
     },
     "execution_count": 9,
     "metadata": {},
     "output_type": "execute_result"
    }
   ],
   "source": [
    "x = 0\n",
    "message = message.replace(\" \",'').replace(',','').replace('.','').upper()\n",
    "print(message)\n",
    "for char in message:\n",
    "    x += 1\n",
    "print (x)\n",
    "136/8"
   ]
  },
  {
   "cell_type": "markdown",
   "id": "6b63209c-65da-4eb9-a0ea-6b7f58d2b071",
   "metadata": {},
   "source": [
    "# ADFGX \n",
    "\n",
    "The ADFGX, and it's more complicated cousin, the ADFGVX, are two of the best known field ciphers in the history of cryptography. The ADFGX was first heard ogn the airvaved during a crucial stade of World War I when the Kaiser's generals were initiating a major German offensive in March 1918.\n",
    "\n",
    "The ADFG(V)X was created by Colonel Fritz Nebel, a radio staff officer. His cryptograpic plan can be described by the following stages. As with some other fractionating forms, a matrix helped encipher plaintext letters or numbers with letter pairs- exactly like a Polybius square. The pairs were read from the side and then the top (e.g. XG enciphers q)."
   ]
  },
  {
   "cell_type": "code",
   "execution_count": null,
   "id": "eee5a59e-2f09-4275-89b9-cf3300b767ae",
   "metadata": {},
   "outputs": [],
   "source": []
  }
 ],
 "metadata": {
  "kernelspec": {
   "display_name": "Python 3 (ipykernel)",
   "language": "python",
   "name": "python3"
  },
  "language_info": {
   "codemirror_mode": {
    "name": "ipython",
    "version": 3
   },
   "file_extension": ".py",
   "mimetype": "text/x-python",
   "name": "python",
   "nbconvert_exporter": "python",
   "pygments_lexer": "ipython3",
   "version": "3.10.5"
  }
 },
 "nbformat": 4,
 "nbformat_minor": 5
}
