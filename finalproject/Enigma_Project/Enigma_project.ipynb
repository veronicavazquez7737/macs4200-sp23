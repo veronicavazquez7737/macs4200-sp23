{
 "cells": [
  {
   "cell_type": "code",
   "execution_count": null,
   "id": "1aa27035",
   "metadata": {
    "deletable": false,
    "editable": false
   },
   "outputs": [],
   "source": [
    "# Initialize Otter\n",
    "import otter\n",
    "grader = otter.Notebook(\"Enigma_project.ipynb\")"
   ]
  },
  {
   "cell_type": "markdown",
   "id": "c3fba866",
   "metadata": {},
   "source": [
    "# Porta's Disk\n",
    "\n",
    "The Porta's disk you made enciphers with a version of the Vigenere Cipher. To see how, try enciphering \"AAAAAAA\" using a key of B2.\n",
    "\n",
    "One way to program this cipher is to make a string, like this."
   ]
  },
  {
   "cell_type": "code",
   "execution_count": null,
   "id": "885cfa0e",
   "metadata": {},
   "outputs": [],
   "source": [
    "string = \"BCDEFGHIJKLMNOPQRSTUVWXYZA\""
   ]
  },
  {
   "cell_type": "markdown",
   "id": "b7af7a5f",
   "metadata": {},
   "source": [
    "Notice that the string now lines up very nicely with our LETTERS. Looking at our wheel and letting the LETTERS represent the plaintext, lowercase letters, of the inner wheel while the string called \"string\" represents the ciphertext, uppercase letters, of the outer wheel."
   ]
  },
  {
   "cell_type": "code",
   "execution_count": null,
   "id": "9e110bed",
   "metadata": {},
   "outputs": [],
   "source": [
    "string =  \"BCDEFGHIJKLMNOPQRSTUVWXYZA\" # ciphertext\n",
    "LETTERS = \"ABCDEFGHIJKLMNOPQRSTUVWXYZ\" # plaintext"
   ]
  },
  {
   "cell_type": "markdown",
   "id": "7e3c71d5",
   "metadata": {},
   "source": [
    "The trick is that with each letter we encipher or decipher, we need to make the string scoot <i>twice</i> to the left relative to LETTERS and the letter on the left needs to move to the back of the line each time. We can accomplish that with the indexing function that Python does for us.\n",
    "\n",
    "NOTE: The string scoots twice because the second part of the key is \"2\""
   ]
  },
  {
   "cell_type": "code",
   "execution_count": null,
   "id": "3f93273c",
   "metadata": {},
   "outputs": [],
   "source": [
    "string = \"BCDEFGHIJKLMNOPQRSTUVWXYZA\"\n",
    "key = (\"B\", 2)\n",
    "\n",
    "for i in range(key[1]):\n",
    "    string = string[1:] + string[0]\n",
    "    print(i + 1, string) # I use \"i + 1\" here to align more closely with the typical way we think about \n",
    "                         # these things- we rotate the wheel once and then twice.\n",
    "    print(' ', LETTERS.lower())"
   ]
  },
  {
   "cell_type": "markdown",
   "id": "c65e3bc6",
   "metadata": {},
   "source": [
    "Now, write a function that takes in a message and a key which you can use to decipher this message: \"UZKNS JMFSQ UJORA YCOX\" You will find text_clean and text_block in the toolkit as usual."
   ]
  },
  {
   "cell_type": "code",
   "execution_count": null,
   "id": "393ae435",
   "metadata": {},
   "outputs": [],
   "source": [
    "from project_toolkit import *"
   ]
  },
  {
   "cell_type": "code",
   "execution_count": null,
   "id": "2fbb5d60",
   "metadata": {
    "tags": []
   },
   "outputs": [],
   "source": [
    "def portasdisk(message, key, encipher = True, LETTERS = \"ABCDEFGHIJKLMNOPQRSTUVWXYZ\"):\n",
    "    output = ''\n",
    "    string = LETTERS\n",
    "    \n",
    "    ...\n",
    "    \n",
    "    if encipher == False:\n",
    "        return output.lower()\n",
    "    if encipher == True:\n",
    "        return text_block(output)\n"
   ]
  },
  {
   "cell_type": "code",
   "execution_count": null,
   "id": "f637551f",
   "metadata": {
    "deletable": false,
    "editable": false
   },
   "outputs": [],
   "source": [
    "grader.check(\"q1\")"
   ]
  },
  {
   "cell_type": "markdown",
   "id": "db28e252",
   "metadata": {},
   "source": [
    "# Enigma Machine: Part 1"
   ]
  },
  {
   "cell_type": "markdown",
   "id": "7c691e66",
   "metadata": {},
   "source": [
    "Take a close look at your pringles can enigma machine. In the cell below, I have lined up the letters with the rotors in order. The reason rotor III is in position \"D\" instead of \"C\" is because we turn the rotor before beginning to encipher the first letter. The reason is that, in the original machine, the action of pushing down the key provided the force to turn the rotor.\n",
    "\n",
    "Use these strings to write a program that can correctly encipher/decipher the first message from the activity: \"AEFAE  JXXBN  XYJTY\"\n",
    "\n",
    "Notice that the key is hard coded in this program. That's okay for now. Also, note that I have dropped the convention of lower case for plaintext and uppercase for ciphertext. I have also chosen not to block in this part of the assignment. This is to more closely approximate the function of the original enigma machine where such conventions were not possible."
   ]
  },
  {
   "cell_type": "code",
   "execution_count": null,
   "id": "16ed2418",
   "metadata": {},
   "outputs": [],
   "source": [
    "Letters =  \"ABCDEFGHIJKLMNOPQRSTUVWXYZ\"\n",
    "RoterIII = \"HJLCPRTXVZNYEIWGAKMUSQOBDF\" # position D\n",
    "RoterII =  \"OEAJDKSIRUXBLHWTMCQGZNPYFV\" # position B \n",
    "RoterI =   \"JEKMFLGDQVZNTOWYHXUSPAIBRC\" # position A\n",
    "Reflect =  \"YRUHQSLDPXNGOKMIEBFZCWVJAT\""
   ]
  },
  {
   "cell_type": "code",
   "execution_count": null,
   "id": "a2bac53a",
   "metadata": {
    "tags": []
   },
   "outputs": [],
   "source": [
    "def enigma(message, Letters =  \"ABCDEFGHIJKLMNOPQRSTUVWXYZ\"):\n",
    "    \n",
    "    RoterIII = \"HJLCPRTXVZNYEIWGAKMUSQOBDF\" # position D\n",
    "    RoterII =  \"OEAJDKSIRUXBLHWTMCQGZNPYFV\" # position B \n",
    "    RoterI =   \"JEKMFLGDQVZNTOWYHXUSPAIBRC\" # position A\n",
    "    Reflect =  \"YRUHQSLDPXNGOKMIEBFZCWVJAT\"\n",
    "    \n",
    "    output = ''\n",
    "    for i in message:\n",
    "        \n",
    "    ...\n",
    "  \n",
    "    return(output)"
   ]
  },
  {
   "cell_type": "code",
   "execution_count": null,
   "id": "83dfdc70",
   "metadata": {
    "deletable": false,
    "editable": false
   },
   "outputs": [],
   "source": [
    "grader.check(\"q2\")"
   ]
  },
  {
   "cell_type": "markdown",
   "id": "9a934511",
   "metadata": {},
   "source": [
    "# Enigma Machine: Part 2 "
   ]
  },
  {
   "cell_type": "markdown",
   "id": "919efa84",
   "metadata": {},
   "source": [
    "One of the things that made the Enigma machine code so difficult to crack was the different rotation frequencies of the different rotors. The middle rotor turns once only every 26 letters. Starting from position RBA on your pringles can, the middle rotor turns after three characters. In order to accomplish this, I have added a counter. The counter starts at position 23 and increments every letter. When it reaches 26, rotor two \"turns\".\n",
    "\n",
    "Try writing a function that can decipher this message \"MABEK GZXSG\"."
   ]
  },
  {
   "cell_type": "code",
   "execution_count": null,
   "id": "997d7b9c",
   "metadata": {},
   "outputs": [],
   "source": [
    "counter = 23\n",
    "Letters =  \"ABCDEFGHIJKLMNOPQRSTUVWXYZ\"\n",
    "RoterIII = \"GAKMUSQOBDFHJLCPRTXVZNYEIW\" #position s\n",
    "RoterII =  \"BLHWTMCQGZNPYFVOEAJDKSIRUX\" #position b \n",
    "RoterI =   \"JEKMFLGDQVZNTOWYHXUSPAIBRC\" #position A\n",
    "Reflect =  \"YRUHQSLDPXNGOKMIEBFZCWVJAT\""
   ]
  },
  {
   "cell_type": "code",
   "execution_count": null,
   "id": "e87ecd9a",
   "metadata": {
    "tags": []
   },
   "outputs": [],
   "source": [
    "def enigma2(message, Letters =  \"ABCDEFGHIJKLMNOPQRSTUVWXYZ\"):\n",
    "    output = \"\"\n",
    "    \n",
    "    counter = 23\n",
    "    \n",
    "    RoterIII = \"GAKMUSQOBDFHJLCPRTXVZNYEIW\" #position s\n",
    "    RoterII =  \"BLHWTMCQGZNPYFVOEAJDKSIRUX\" #position b \n",
    "    RoterI =   \"JEKMFLGDQVZNTOWYHXUSPAIBRC\" #position A\n",
    "    Reflect =  \"YRUHQSLDPXNGOKMIEBFZCWVJAT\"\n",
    "\n",
    "    ...\n",
    "    \n",
    "    return(output)"
   ]
  },
  {
   "cell_type": "code",
   "execution_count": null,
   "id": "5e15d15f",
   "metadata": {
    "deletable": false,
    "editable": false
   },
   "outputs": [],
   "source": [
    "grader.check(\"q3\")"
   ]
  },
  {
   "cell_type": "markdown",
   "id": "f7ca659b",
   "metadata": {},
   "source": [
    "# Enigma Machine: Part 3"
   ]
  },
  {
   "cell_type": "markdown",
   "id": "3c15a6de",
   "metadata": {},
   "source": [
    "With rotors I, II, and III in positions A, D, and S (really T) and the following message \"RZFOG FYHPL\", all three rotors will turn at least once. This time, we need to have two counters. When counter one reaches 26, it will cause rotor 2 to \"turn\". When counter two reaches 26, it will cause rotor 3 to turn. Watch out! When rotor 3 turns, this will effect the reflector as well- in a way that is not easy to predict! "
   ]
  },
  {
   "cell_type": "markdown",
   "id": "8d7a523b",
   "metadata": {},
   "source": [
    "<!-- BEGIN QUESTION -->\n",
    "\n"
   ]
  },
  {
   "cell_type": "code",
   "execution_count": null,
   "id": "803bdec3",
   "metadata": {},
   "outputs": [],
   "source": [
    "counter1 = 24\n",
    "counter2 = 23\n",
    "letters =  \"ABCDEFGHIJKLMNOPQRSTUVWXYZ\"\n",
    "rotorIII = \"AKMUSQOBDFHJLCPRTXVZNYEIWGA\" # position T\n",
    "rotorII =  \"LHWTMCQGZNPYFVOEAJDKSIRUXB\"  # position D \n",
    "rotorI =   \"RCJEKMFLGDQVZNTOWYHXUSPAIB\"  # position A\n",
    "reflect =  \"YRUHQSLDPXNGOKMIEBFZCWVJAT\""
   ]
  },
  {
   "cell_type": "code",
   "execution_count": null,
   "id": "fa458b87",
   "metadata": {
    "tags": []
   },
   "outputs": [],
   "source": [
    "def enigma3(message):\n",
    "    output = \"\"\n",
    "\n",
    "    ...\n",
    "        \n",
    "    return(output)    \n",
    "    \n"
   ]
  },
  {
   "cell_type": "code",
   "execution_count": null,
   "id": "bcedd372",
   "metadata": {
    "deletable": false,
    "editable": false
   },
   "outputs": [],
   "source": [
    "grader.check(\"q4\")"
   ]
  },
  {
   "cell_type": "markdown",
   "id": "608ab3e4",
   "metadata": {},
   "source": [
    "<!-- END QUESTION -->\n",
    "\n",
    "# BONUS\n",
    "\n",
    "Can you find a way to write function that will take in a message and a key and will automatically set the rotors so that it is consistent with the key? There is no test for this program beyond that which you can perform using your pringles can."
   ]
  },
  {
   "cell_type": "code",
   "execution_count": null,
   "id": "94dc5cd2",
   "metadata": {},
   "outputs": [],
   "source": [
    "def enigma_epic(message, key):\n",
    "    output = ''\n",
    "    "
   ]
  },
  {
   "cell_type": "markdown",
   "id": "e2520035",
   "metadata": {},
   "source": [
    "# Submitting Your Project\n",
    "\n",
    "When you finish this project, rename it with a unique part of your name– for example, your first name, if your first name is unique in the class. Otherwise, your first name and first initial of your last name. Then, download this notebook and send it to me attached to an email with the word \"project\" in the subject line.\n",
    "\n",
    "In the body of your email, give me at <b>least three</b> messages that I can successfully decipher with your program."
   ]
  },
  {
   "cell_type": "code",
   "execution_count": null,
   "id": "607dd745",
   "metadata": {},
   "outputs": [],
   "source": []
  },
  {
   "cell_type": "markdown",
   "id": "24b4e2d5",
   "metadata": {
    "deletable": false,
    "editable": false
   },
   "source": [
    "## Submission\n",
    "\n",
    "Make sure you have run all cells in your notebook in order before running the cell below, so that all images/graphs appear in the output. The cell below will generate a zip file for you to submit. **Please save before exporting!**\n",
    "\n",
    "Before exporting, SAVE your notebook, then RESTART AND RUN ALL CELLS. This will run the export cell. Make sure you submit the most recent copy by using the date-time stamp on the file."
   ]
  },
  {
   "cell_type": "code",
   "execution_count": null,
   "id": "3c248ef1",
   "metadata": {
    "deletable": false,
    "editable": false
   },
   "outputs": [],
   "source": [
    "# Save your notebook first, then run this cell to export your submission.\n",
    "grader.export(pdf=False)"
   ]
  },
  {
   "cell_type": "markdown",
   "id": "c0340c9b",
   "metadata": {},
   "source": [
    " "
   ]
  }
 ],
 "metadata": {
  "kernelspec": {
   "display_name": "Python 3 (ipykernel)",
   "language": "python",
   "name": "python3"
  },
  "language_info": {
   "codemirror_mode": {
    "name": "ipython",
    "version": 3
   },
   "file_extension": ".py",
   "mimetype": "text/x-python",
   "name": "python",
   "nbconvert_exporter": "python",
   "pygments_lexer": "ipython3",
   "version": "3.10.5"
  },
  "otter": {
   "tests": {
    "q1": {
     "name": "q1",
     "points": 2,
     "suites": [
      {
       "cases": [
        {
         "code": ">>> portasdisk(\"It always seems impossible until it's done\", (\"M\", 5)) != None\nTrue",
         "failure_message": "Check that you are returning values, not printing them",
         "hidden": false,
         "locked": false,
         "points": 0
        },
        {
         "code": ">>> portasdisk(\"UKWMC LONSJ OBMHQ YCLQL JYWRP AUCEU YOEIE\", (\"M\", 5), False)\n'italwaysseemsimpossibleuntilitsdone'",
         "failure_message": "Check that you are returning values, not printing them",
         "hidden": false,
         "locked": false,
         "points": 0
        }
       ],
       "scored": true,
       "setup": "",
       "teardown": "",
       "type": "doctest"
      }
     ]
    },
    "q2": {
     "name": "q2",
     "points": 2,
     "suites": [
      {
       "cases": [
        {
         "code": ">>> enigma(\"CUQXRFZCSAX\") != None\nTrue",
         "failure_message": "Check that you are returning values, not printing them",
         "hidden": false,
         "locked": false,
         "points": 0
        },
        {
         "code": ">>> enigma(\"CUQXRFZCSAX\")\n'ACHIEVEMENT'",
         "failure_message": "Check that you are returning values, not printing them",
         "hidden": false,
         "locked": false,
         "points": 2
        }
       ],
       "scored": true,
       "setup": "",
       "teardown": "",
       "type": "doctest"
      }
     ]
    },
    "q3": {
     "name": "q3",
     "points": 2,
     "suites": [
      {
       "cases": [
        {
         "code": ">>> enigma2(\"PGDOBIIFSBLU\") != None\nTrue",
         "failure_message": "Check that you are returning values, not printing them",
         "hidden": false,
         "locked": false,
         "points": 0
        },
        {
         "code": ">>> enigma2(\"PGDOBIIFSBLU\")\n'FLYINGCOLORS'",
         "failure_message": "Check that you are returning values, not printing them",
         "hidden": false,
         "locked": false,
         "points": 2
        }
       ],
       "scored": true,
       "setup": "",
       "teardown": "",
       "type": "doctest"
      }
     ]
    },
    "q4": {
     "name": "q4",
     "points": 2,
     "suites": [
      {
       "cases": [
        {
         "code": ">>> enigma3(\"RBFBD\") != None\nTrue",
         "failure_message": "Check that you are returning values, not printing them",
         "hidden": false,
         "locked": false,
         "points": 0
        },
        {
         "code": ">>> enigma3(\"RBFBD\")\n'THREE'",
         "failure_message": "Check that you are returning values, not printing them",
         "hidden": false,
         "locked": false,
         "points": 2
        }
       ],
       "scored": true,
       "setup": "",
       "teardown": "",
       "type": "doctest"
      }
     ]
    }
   }
  }
 },
 "nbformat": 4,
 "nbformat_minor": 5
}
