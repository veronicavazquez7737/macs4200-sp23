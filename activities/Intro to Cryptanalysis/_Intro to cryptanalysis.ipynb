{
 "cells": [
  {
   "cell_type": "markdown",
   "id": "009f3b71-e66b-441d-a9d9-8793371121ac",
   "metadata": {},
   "source": [
    "# Introduction to Cryptanalysis #"
   ]
  },
  {
   "cell_type": "markdown",
   "id": "3ca33266-c6ea-4f96-a1f2-eb01ec89cc2e",
   "metadata": {},
   "source": [
    "The goal of this activity is to use frequency analysis to discover the identity of the two pieces of text, mystery text 1 and mystery text 2. Use letter frequency to identify the cyptosystem and the key. Decipher a portion of the text and identify it."
   ]
  },
  {
   "cell_type": "markdown",
   "id": "4e7e6fcb-c8ba-4476-9404-0713ea2e6692",
   "metadata": {},
   "source": [
    "In the box below, replace the ellipses to import the first mystery text."
   ]
  },
  {
   "cell_type": "code",
   "execution_count": 1,
   "id": "c3d34f8c-e271-4cad-8264-39912b2fc065",
   "metadata": {},
   "outputs": [],
   "source": [
    "with open(\"mystery_text_1.txt\",\"r\") as f:\n",
    "    text1 = f.read()"
   ]
  },
  {
   "cell_type": "code",
   "execution_count": 2,
   "id": "1d7f99ca-3ddd-4e3f-a6e7-1faec31104fc",
   "metadata": {},
   "outputs": [
    {
     "data": {
      "text/plain": [
       "'PEPHH PVTID XCSXP QN'"
      ]
     },
     "execution_count": 2,
     "metadata": {},
     "output_type": "execute_result"
    }
   ],
   "source": [
    "text1[:20]"
   ]
  },
  {
   "cell_type": "markdown",
   "id": "55b1d2d1-9cf8-46a5-aa93-b096907b3ebb",
   "metadata": {},
   "source": [
    "In the box below, replace the ellipses to create a list that will find the frequencies of the letters in the text."
   ]
  },
  {
   "cell_type": "code",
   "execution_count": 7,
   "id": "55391b55-2ea3-42bc-859b-7ad6f9d82de4",
   "metadata": {},
   "outputs": [],
   "source": [
    "LETTERS = 'ABCDEFGHIJKLMNOPQRSTUVWXYZ'\n",
    "letter_frequencies = []\n",
    "text_length = len(text1)\n",
    "\n",
    "for char in LETTERS:\n",
    "    #letter_frequencies.append(100*....count(char)/text_length)\n",
    "    letter_frequencies.append(100*text1.count(char)/text_length)\n"
   ]
  },
  {
   "cell_type": "code",
   "execution_count": 8,
   "id": "61069dc0-9765-4f89-be3f-dc8e20ed8630",
   "metadata": {},
   "outputs": [
    {
     "name": "stdout",
     "output_type": "stream",
     "text": [
      "[3.41364878746411, 2.159551646660399, 5.69915461874358, 6.191174495548046, 1.4335909283948645, 0.12613567479863663, 4.738708588478278, 5.178822273926758, 7.515145355484814, 2.538866121954141, 0.7922046338072647, 1.8374065779300681, 0.1353916739565222, 1.6105438534720886, 0.17041927861283426, 6.751253189689906, 1.251193297930649, 2.0029256216946103, 3.9913320290239094, 10.546938805141254, 1.6370414196887806, 1.6541014965680207, 5.3692054722918945, 5.847795075808448, 0.10272344163457316, 0.6381194713554049]\n"
     ]
    }
   ],
   "source": [
    "print(letter_frequencies)"
   ]
  },
  {
   "cell_type": "markdown",
   "id": "8c094d48-cbcc-49fe-bf53-21557938dce6",
   "metadata": {},
   "source": [
    "Run the cell below to import a plotting library."
   ]
  },
  {
   "cell_type": "code",
   "execution_count": 9,
   "id": "eaefe647-7dd1-42f8-b261-c503663ab686",
   "metadata": {},
   "outputs": [],
   "source": [
    "import matplotlib.pyplot as plt"
   ]
  },
  {
   "cell_type": "markdown",
   "id": "22cfe1fd-dad7-4bd0-8cbf-adaa8da8caee",
   "metadata": {},
   "source": [
    "Try these:"
   ]
  },
  {
   "cell_type": "code",
   "execution_count": 10,
   "id": "1bf4ecdb-ea25-4ad4-8cf3-a070ae7f78f5",
   "metadata": {},
   "outputs": [
    {
     "data": {
      "text/plain": [
       "<BarContainer object of 26 artists>"
      ]
     },
     "execution_count": 10,
     "metadata": {},
     "output_type": "execute_result"
    },
    {
     "data": {
      "image/png": "[encoded data removed]",
      "text/plain": [
       "<Figure size 432x288 with 1 Axes>"
      ]
     },
     "metadata": {
      "needs_background": "light"
     },
     "output_type": "display_data"
    }
   ],
   "source": [
    "plt.bar(list(LETTERS), letter_frequencies)"
   ]
  },
  {
   "cell_type": "code",
   "execution_count": 16,
   "id": "4031be0d-42bb-44d4-aa42-3aa5db65239c",
   "metadata": {},
   "outputs": [
    {
     "data": {
      "text/plain": [
       "<BarContainer object of 26 artists>"
      ]
     },
     "execution_count": 16,
     "metadata": {},
     "output_type": "execute_result"
    },
    {
     "data": {
      "image/png": "[encoded data removed]",
      "text/plain": [
       "<Figure size 432x288 with 1 Axes>"
      ]
     },
     "metadata": {
      "needs_background": "light"
     },
     "output_type": "display_data"
    }
   ],
   "source": [
    "plt.bar(list(LETTERS), letter_frequencies, color = \"magenta\")"
   ]
  },
  {
   "cell_type": "code",
   "execution_count": 17,
   "id": "5f46682f-164e-42c6-a3d1-038697b8e79b",
   "metadata": {},
   "outputs": [
    {
     "data": {
      "text/plain": [
       "Text(0.5, 1.0, 'Frequency Analysis')"
      ]
     },
     "execution_count": 17,
     "metadata": {},
     "output_type": "execute_result"
    },
    {
     "data": {
      "image/png": "[encoded data removed]",
      "text/plain": [
       "<Figure size 432x288 with 1 Axes>"
      ]
     },
     "metadata": {
      "needs_background": "light"
     },
     "output_type": "display_data"
    }
   ],
   "source": [
    "plt.bar(list(LETTERS), letter_frequencies)\n",
    "plt.xlabel('Letters')\n",
    "plt.ylabel('Frequency')\n",
    "plt.title('Frequency Analysis')\n",
    "#plt.show()"
   ]
  },
  {
   "cell_type": "markdown",
   "id": "c14f6436-35db-4879-ae9b-446168af1482",
   "metadata": {},
   "source": [
    "Guess the key! And decipher the message."
   ]
  },
  {
   "cell_type": "markdown",
   "id": "7681fe06-c7db-47e0-87a7-e61e3339afa4",
   "metadata": {},
   "source": [
    "Now try mystery_text_2!"
   ]
  }
 ],
 "metadata": {
  "kernelspec": {
   "display_name": "Python 3 (ipykernel)",
   "language": "python",
   "name": "python3"
  },
  "language_info": {
   "codemirror_mode": {
    "name": "ipython",
    "version": 3
   },
   "file_extension": ".py",
   "mimetype": "text/x-python",
   "name": "python",
   "nbconvert_exporter": "python",
   "pygments_lexer": "ipython3",
   "version": "3.10.5"
  }
 },
 "nbformat": 4,
 "nbformat_minor": 5
}
