{
 "cells": [
  {
   "cell_type": "markdown",
   "id": "009f3b71-e66b-441d-a9d9-8793371121ac",
   "metadata": {},
   "source": [
    "# Introduction to Cryptanalysis #"
   ]
  },
  {
   "cell_type": "markdown",
   "id": "3ca33266-c6ea-4f96-a1f2-eb01ec89cc2e",
   "metadata": {},
   "source": [
    "The goal of this activity is to use frequency analysis to discover the identity of the two pieces of text, mystery text 1 and mystery text 2. Use letter frequency to identify the cyptosystem and the key. Decipher a portion of the text and identify it."
   ]
  },
  {
   "cell_type": "markdown",
   "id": "4e7e6fcb-c8ba-4476-9404-0713ea2e6692",
   "metadata": {},
   "source": [
    "In the box below, replace the ellipses to import the first mystery text."
   ]
  },
  {
   "cell_type": "code",
   "execution_count": 17,
   "id": "c3d34f8c-e271-4cad-8264-39912b2fc065",
   "metadata": {},
   "outputs": [],
   "source": [
    "with open(...,\"r\") as f:\n",
    "    ... = f.read()"
   ]
  },
  {
   "cell_type": "markdown",
   "id": "55b1d2d1-9cf8-46a5-aa93-b096907b3ebb",
   "metadata": {},
   "source": [
    "In the box below, replace the ellipses to create a list that will find the frequencies of the letters in the text."
   ]
  },
  {
   "cell_type": "code",
   "execution_count": null,
   "id": "55391b55-2ea3-42bc-859b-7ad6f9d82de4",
   "metadata": {},
   "outputs": [],
   "source": [
    "LETTERS = 'ABCDEFGHIJKLMNOPQRSTUVWXYZ'\n",
    "letter_frequencies = []\n",
    "text_length = len(...)\n",
    "\n",
    "for char in LETTERS:\n",
    "    letter_frequencies.append(100*....count(char)/text_length)\n"
   ]
  },
  {
   "cell_type": "markdown",
   "id": "8c094d48-cbcc-49fe-bf53-21557938dce6",
   "metadata": {},
   "source": [
    "Run the cell below to import a plotting library."
   ]
  },
  {
   "cell_type": "code",
   "execution_count": null,
   "id": "eaefe647-7dd1-42f8-b261-c503663ab686",
   "metadata": {},
   "outputs": [],
   "source": [
    "import matplotlib.pyplot as plt"
   ]
  },
  {
   "cell_type": "markdown",
   "id": "22cfe1fd-dad7-4bd0-8cbf-adaa8da8caee",
   "metadata": {},
   "source": [
    "Try these:"
   ]
  },
  {
   "cell_type": "code",
   "execution_count": null,
   "id": "1bf4ecdb-ea25-4ad4-8cf3-a070ae7f78f5",
   "metadata": {},
   "outputs": [],
   "source": [
    "plt.bar(list(LETTERS), letter_frequencies)"
   ]
  },
  {
   "cell_type": "code",
   "execution_count": null,
   "id": "4031be0d-42bb-44d4-aa42-3aa5db65239c",
   "metadata": {},
   "outputs": [],
   "source": [
    "plt.bar(list(LETTERS), letter_frequencies, color = \"green\")"
   ]
  },
  {
   "cell_type": "code",
   "execution_count": null,
   "id": "5f46682f-164e-42c6-a3d1-038697b8e79b",
   "metadata": {},
   "outputs": [],
   "source": [
    "plt.bar(list(LETTERS), letter_frequencies)\n",
    "plt.xlabel('Letters')\n",
    "plt.ylabel('Frequency')\n",
    "plt.title('Frequency Analysis')\n",
    "plt.show()"
   ]
  },
  {
   "cell_type": "markdown",
   "id": "c14f6436-35db-4879-ae9b-446168af1482",
   "metadata": {},
   "source": [
    "Guess the key! And decipher the message."
   ]
  },
  {
   "cell_type": "markdown",
   "id": "7681fe06-c7db-47e0-87a7-e61e3339afa4",
   "metadata": {},
   "source": [
    "Now try mystery_text_2!"
   ]
  }
 ],
 "metadata": {
  "kernelspec": {
   "display_name": "Python 3 (ipykernel)",
   "language": "python",
   "name": "python3"
  },
  "language_info": {
   "codemirror_mode": {
    "name": "ipython",
    "version": 3
   },
   "file_extension": ".py",
   "mimetype": "text/x-python",
   "name": "python",
   "nbconvert_exporter": "python",
   "pygments_lexer": "ipython3",
   "version": "3.10.5"
  }
 },
 "nbformat": 4,
 "nbformat_minor": 5
}
