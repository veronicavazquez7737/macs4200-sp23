{
 "cells": [
  {
   "cell_type": "markdown",
   "id": "cf962999-8a49-491b-a964-efffac313faf",
   "metadata": {},
   "source": [
    "# Activity 11: Encrypt the Classics"
   ]
  },
  {
   "cell_type": "markdown",
   "id": "0bf3e098-75ac-415b-a1bd-9705cb1d37de",
   "metadata": {},
   "source": [
    "Project Gutenberg (https://www.gutenberg.org) is a website that hosts the world’s great literature, with focus on older works for which U.S. copyright has expired. As such, it provides legal access to thousands of books, many of which are stored in a .txt file that can be imported into your Python workflow.\n",
    "\n",
    "## Directions:\n",
    "\n",
    "1. **Choose a book to work with**. Navigate to the Top 100 downloaded books section (https://www.gutenberg.org/browse/scores/top) and find a book that calls to you. Click on the list for the book to load the information page for that specific book.\n",
    "2. **Download a copy of the book** You'll see that each book is available in a few different formats. You could view in HTML (for your web browser), EPUB (for your eBook reader), or Plain Text UTF-8 (a .txt file for your Python notebook). You should right click on the link for the Plain Text UTF-8 .txt file and save it to your local computer. You can open it on your computer to verify it downloaded correctly, it should open in Notepad (Windows) or TextEdit (Mac).\n",
    "3. **Upload the text file to the activities folder** in your course folder on Datahub (where this file is)\n",
    "4. **Load the text in the file as a string** (refer back to Lab 02 to see how to do this)."
   ]
  },
  {
   "cell_type": "code",
   "execution_count": null,
   "id": "1ab737f1-74d3-4c50-852b-91b0eb821561",
   "metadata": {},
   "outputs": [],
   "source": []
  },
  {
   "cell_type": "markdown",
   "id": "7076425b-8814-4045-8212-10846dec92ed",
   "metadata": {},
   "source": [
    "5. **Clean the text using the `text_clean` function from Activity 10**. Save the cleaned version for use in this activity. When complete the string should only contain the 26 uppercase English letters, without spaces or punctuation."
   ]
  },
  {
   "cell_type": "code",
   "execution_count": null,
   "id": "5136cd94-5c88-40f4-bb29-f4f69d3ac1f2",
   "metadata": {},
   "outputs": [],
   "source": []
  },
  {
   "cell_type": "markdown",
   "id": "c306864d-d543-4dd1-8e63-3e3784cae60d",
   "metadata": {},
   "source": [
    "6. **Use `Matplotlib` to create a bar chart**. Compare how the frequencies of the 26 letters are similar/different to what is expected with the English language. You'll probably see something similar, but don't be surprised that if the English translation from the ancient Greek version of *The Republic* by Plato doesn't quite follow the same letter distribution as a book from a more modern era!"
   ]
  },
  {
   "cell_type": "code",
   "execution_count": null,
   "id": "4dd4a221-85f2-455b-a1e9-890fdba4568e",
   "metadata": {},
   "outputs": [],
   "source": []
  },
  {
   "cell_type": "markdown",
   "id": "473bec22-5aa9-4c80-8878-ac6e464a697d",
   "metadata": {},
   "source": [
    "7. **Encrypt your message using the Affine cipher.** You should already have a function written to do this for the Caesar cipher you wrote back in Activity 08 (didn't do that? Now's a good time to catch up!). Modifying your Caesar function to encrypt a message for the Affine cipher should only involve taking in another parameter (for the multiplicative key) and then using that key with some multiplication inside the encryption loop. You don't need to have the function decipher messages for this activity, but you *could* think about how you'd do that. I'd try to use the `mult_inverse` function you wrote in Activity 10 to help out!\n"
   ]
  },
  {
   "cell_type": "code",
   "execution_count": null,
   "id": "3ca10a55-2e4f-4e20-9d3c-ec5db2468b77",
   "metadata": {},
   "outputs": [],
   "source": []
  },
  {
   "cell_type": "markdown",
   "id": "3faf9da8-b7ce-4258-9ee5-291fb8d1c7c9",
   "metadata": {},
   "source": [
    "8. **Use `Matplotlib` to create a bar chart (again)**. Create a bar chart of your ciphertext. I wouldn't expect this one to follow the patterns of the English language!"
   ]
  },
  {
   "cell_type": "code",
   "execution_count": null,
   "id": "df0083c8-dcc2-40be-bc17-08548317af5b",
   "metadata": {},
   "outputs": [],
   "source": []
  },
  {
   "cell_type": "markdown",
   "id": "44503f2a-7e2c-4f17-a563-61d7f8c4b855",
   "metadata": {},
   "source": [
    "9. **Post the bar chart to EdSTEM**. \n",
    "Create a new response to the post your instructor created in the Activities section of EdSTEM for Activity 11, and which includes the image of your bar chart for your encrypted text. To create the image you can either take a screen shot of your bar chart OR if you right click on the bar chart, you should have an option to \"Create a New View for Output\". This will put the image into a new window. If you right click on the image in the new window, you should have an option to save it to your computer. Either way, once you have an image file on your computer, you can post that to the EdSTEM discussion board."
   ]
  },
  {
   "cell_type": "markdown",
   "id": "086e04dd-6226-46a6-b38c-5ac0ce714e1c",
   "metadata": {},
   "source": [
    "10. **Guess someone elses keys!** Here's the fun part. See if you can use someone else's bar chart to determine the keys that they used to encrypt their message. You'll need to set up a system of congruences and solve for the keys! Be careful, since if you don't guess the correct plaintext to ciphertext mappings, you may not be able to solve the system you create. Once you think you've determined the keys, reply to the poster's message so they can confirm that you're correct (or let you know you've got some more work to do!)"
   ]
  }
 ],
 "metadata": {
  "kernelspec": {
   "display_name": "Python 3 (ipykernel)",
   "language": "python",
   "name": "python3"
  },
  "language_info": {
   "codemirror_mode": {
    "name": "ipython",
    "version": 3
   },
   "file_extension": ".py",
   "mimetype": "text/x-python",
   "name": "python",
   "nbconvert_exporter": "python",
   "pygments_lexer": "ipython3",
   "version": "3.10.5"
  }
 },
 "nbformat": 4,
 "nbformat_minor": 5
}
