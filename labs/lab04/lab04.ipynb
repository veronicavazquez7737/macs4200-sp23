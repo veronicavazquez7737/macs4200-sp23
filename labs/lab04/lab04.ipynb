{
 "cells": [
  {
   "cell_type": "code",
   "execution_count": null,
   "id": "1ef82ce5",
   "metadata": {
    "deletable": false,
    "editable": false
   },
   "outputs": [],
   "source": [
    "# Initialize Otter\n",
    "import otter\n",
    "grader = otter.Notebook(\"lab04.ipynb\")"
   ]
  },
  {
   "cell_type": "markdown",
   "id": "a9c96e48",
   "metadata": {},
   "source": [
    "# Lab 04: Cracking the Vigenere Cipher\n",
    "\n",
    "In today's lab, you'll learn how to crack the Vigenere cipher using the Index of Coincidence\n",
    "\n",
    "Let's get started!\n",
    "\n",
    "Run the cell below to import a function that you've written in the past:\n",
    "* `text_clean`"
   ]
  },
  {
   "cell_type": "code",
   "execution_count": null,
   "id": "cfc2c0f0",
   "metadata": {},
   "outputs": [],
   "source": [
    "from lab04toolkit import text_clean"
   ]
  },
  {
   "cell_type": "markdown",
   "id": "52b526e3",
   "metadata": {},
   "source": [
    "You can now use these functions in this notebook as if you'd written them here in the notebook:"
   ]
  },
  {
   "cell_type": "code",
   "execution_count": null,
   "id": "5e556e17",
   "metadata": {},
   "outputs": [],
   "source": [
    "print( text_clean('Hello World!') )"
   ]
  },
  {
   "cell_type": "markdown",
   "id": "dc25fd5f",
   "metadata": {},
   "source": [
    "Throughout this lab we'll be attempting to crack the following ciphertext. Run the cell to load it as a string assigned to the variable `ciphertext`."
   ]
  },
  {
   "cell_type": "code",
   "execution_count": null,
   "id": "f57288e1",
   "metadata": {},
   "outputs": [],
   "source": [
    "ciphertext = 'CSMULERWDLKAUVZRIASYLBMITFXAYMUSHZMLAQEKDFLWYAZWVLVGUBYIDHRCHVUSHOENPVXRQALAUOKSFVSFJMFVVDMULAYIJHHHLMGIFPRLVBYIDVSCOMIWKZXWYERWTLEVPVXFWAMLOIURQWMUACIIUVVUVVMITZELPWEWKUMLHVUAJHXAZBYIWZIGMISSQRXZVCXLVHPAJMNMVOSMAXZGVBVWZWIGQUZWYARXKVRKZWJLGDEKJWEWKKIJPVXMPOIJVEEQKUHSZEVPNHWKOMTSWSHXVZKLGOSLKIPQCKIZLZWIGSZWYGJPGLTQHVUWVBTAKEYIVOIJAPVTNLEKBZVSHTECPVXEFHMKFKYEKUAGBTUFGDSJAPKLGAVGBJCIQMKWABZRIBTSULGMERMFNBYIFHMKPMJAJLRKBLUIPSCSDPZXGYETIQKAKALHPVBIALWJHVTPQZITFPVVVOIJLERWPVXZPVXWQCIJFZVQCYOSITVMPALSAVFVFPHSSQTIVOMFRQKWQCIJFULGJVYLVNKLGDEQAWYICYXZLZRFDPXKHGKSKAWWSNFLFLEJVPUICYMKOICPDLPSAMNLGUWZLBYSWNLLPBFZGYEXAMIACYHKPBFGEBVJLLKSJLVLOIKWJLSMNPKXQOENLEFRFLVWKIKXJPWTBBRXVOILPUVMVHPDZMVQGKUMPBVRCAYJHTSYVDLWUBYITHFTPBRGVBEDSGKSQREOHBTLQBXGMQKWYHMKAKFEVWSURMKEPKPGVSVHCAMLHVUXJLRZBZIMGKSFHTZGGZXSYBVHVVLWYNVIVMSJPBWPCZLWKITVQZWZLZDMPKXZHBJLGOEVUMMITIIXVZVWGLRSYISFKAAAAPVMVOIJHERMUAGGHBGSERILVZRACAGZAWKEMLSMAWWMVHRVICIRKUKOPBYGWYMGZQKCUOIJHVRGTVWKAPVJKLPVHNKITPXSULWSTAYFHBVPADEKQCJXKUXATMKSULIAAXFTFVAFHTRVILVSIJZXJVPWBVUITALWOMUKG'\n",
    "print(ciphertext)"
   ]
  },
  {
   "cell_type": "markdown",
   "id": "7e08f386",
   "metadata": {},
   "source": [
    "## Question 1: The Index of Coincidence\n",
    "\n",
    "The index of coincidence is a numerical statistic that indicates how likely it is that you select two letters from your ciphertext and those two letters are the same (e.g. both A's, or both B's, or both C's, etc.). Write a function that calculates this score.\n",
    "\n",
    "When computing the probability of selecting 2 of a particular character we will use the *exact* calculation of:\n",
    "\n",
    "$$\\frac{n_A}{n} \\cdot \\frac{n_{A - 1}}{n - 1} + \\frac{n_B}{n} \\cdot \\frac{n_{B - 1}}{n - 1} + \\frac{n_C}{n} \\cdot \\frac{n_{C - 1}}{n - 1} + ... + \\frac{n_Z}{n} \\cdot \\frac{n_{Z - 1}}{n - 1}$$\n",
    "\n",
    "where $n_A$ is the number of A's in a message of length $n$ instead of the approximate calculation of: \n",
    "\n",
    "$$p_A ^ 2 + p_B^2 + p_C^2 + ... + p_Z^2$$\n",
    "\n",
    "where $p_A$ is the proportion of A's in the message. \n",
    "\n",
    "For longer messages the difference in the calculation methods are fairly negligible, but if there is an error it will always be because the simplified calculation is a bit larger than the exact calculation. In this lab we're working with fairly short messages, hence we are using the **exact IC**, not the approximation."
   ]
  },
  {
   "cell_type": "code",
   "execution_count": null,
   "id": "fca2861d",
   "metadata": {
    "tags": []
   },
   "outputs": [],
   "source": [
    "def index_of_coincidence(message, LETTERS='ABCDEFGHIJKLMNOPQRSTUVWXYZ'):\n",
    "    cleaned_message = text_clean(message, LETTERS)\n",
    "    total = 0\n",
    "    message_length = len(cleaned_message)\n",
    "    # YOUR CODE GOES BELOW THIS LINE\n",
    "    \n",
    "\n",
    "index_of_coincidence(ciphertext)"
   ]
  },
  {
   "cell_type": "code",
   "execution_count": null,
   "id": "b58985c1",
   "metadata": {
    "deletable": false,
    "editable": false
   },
   "outputs": [],
   "source": [
    "grader.check(\"q1\")"
   ]
  },
  {
   "cell_type": "markdown",
   "id": "11e660cf",
   "metadata": {},
   "source": [
    "## Question 2: Guess the Cipher Type\n",
    "\n",
    "Recall that the index of coincidence changes based on the nature of the text. The English language, or a ciphertext produced from a monoalphabetic cipher, should have an index value of around 0.068. A *perfect* polyalphabetic cipher, one that results in every ciphertext character being in equal proportion, would have an index value of 0.038. When computing the index of coincidence for a message, you're attempting to learn more about which type of cipher most likely produced the message.\n",
    "\n",
    "For each of the following ciphertexts, guess the type of cipher that was used to create the message based on it's index of coincidence. Assign a value of 1 for a monoalphabetic cipher, and a value of 2 for a polyalphabetic cipher."
   ]
  },
  {
   "cell_type": "code",
   "execution_count": null,
   "id": "0e2c5c30",
   "metadata": {},
   "outputs": [],
   "source": [
    "print('Sample Ciphertext #1', index_of_coincidence(\"Dolu pu aol Jvbyzl vm obthu lcluaz, pa iljvtlz uljlzzhyf mvy vul wlvwsl av kpzzvscl aol wvspapjhs ihukz dopjo ohcl jvuuljalk aolt dpao huvaoly, huk av hzzbtl htvun aol wvdlyz vm aol lhyao, aol zlwhyhal huk lxbhs zahapvu av dopjo aol Shdz vm Uhabyl huk vm Uhabyl'z Nvk luapasl aolt, h kljlua ylzwlja av aol vwpupvuz vm thurpuk ylxbpylz aoha aolf zovbsk kljshyl aol jhbzlz dopjo ptwls aolt av aol zlwhyhapvu.\"))\n",
    "print('Sample Ciphertext #2', index_of_coincidence('ZLGYIETAMQBXVUPOWHNUOAHZGYTJIMJSPRQGDNVCXAGNUCHZRFNXXSBSPGEOUILACYYIVSEGOEQHVFENMAEDLEVVFLJLVVCHVBRFXGOTYEFEWGKEPZTYEKIBQWSCDSLMXIABQKVSEGOPMFFRJVSEVAKBVGKIUPPRRTBSNQHGBURLLBOGLSPEONHBKVGKINLWJOYVOGXVGLNUOYVOGXVGDGFDXVHVWPGEHVMTLSPHRVCEJPXKHGRXJPOGIGQCAVSHXAEKBVREHUWTRVSMPOGWLGJSYONTRQHGNLRVTAMQNXWGDWYIVPWZSINEHVMMWHUHWGAAIAMQCA'))\n",
    "print('Sample Ciphertext #3', index_of_coincidence(\"Tdlr vv gal Gqiljw st mbgmn rzzrgl, ab ufgqaqw frggwksrp dtf fbr ttsdap xh rlakgzgz xal tdztbbkcl mbnqv odpkj ohvz gqbargvxh walq ieba hnbhalv, rnq wh oskmgq emabt zal tdkavj gt yal ierka, aal wwtprrtx enq hukul dlttbwb gh kdpkj aal Plwo gt Sntnlv enq rt Sntnlv'w Yur hrgbbep xalq, m dhggrg kvwhtgv mh hal sdxvvwbf gt rmnxsvq uvukczvw laht malc qzvifo ghgnlrv xal gcumww odpkj pubtp ealq fh hal wwtprrtbwb.\"))\n",
    "print('Sample Ciphertext #4', index_of_coincidence(\"Jr ubyq gurfr gehguf gb or frys-rivqrag, gung nyy zra ner perngrq rdhny, gung gurl ner raqbjrq ol gurve Perngbe jvgu pregnva hanyvranoyr Evtugf, gung nzbat gurfr ner Yvsr, Yvoregl naq gur chefhvg bs Unccvarff.--Gung gb frpher gurfr evtugf, Tbireazragf ner vafgvghgrq nzbat Zra, qrevivat gurve whfg cbjref sebz gur pbafrag bs gur tbirearq, --Gung jurarire nal Sbez bs Tbireazrag orpbzrf qrfgehpgvir bs gurfr raqf, vg vf gur Evtug bs gur Crbcyr gb nygre be gb nobyvfu vg, naq gb vafgvghgr arj Tbireazrag, ynlvat vgf sbhaqngvba ba fhpu cevapvcyrf naq betnavmvat vgf cbjref va fhpu sbez, nf gb gurz funyy frrz zbfg yvxryl gb rssrpg gurve Fnsrgl naq Unccvarff.\"))"
   ]
  },
  {
   "cell_type": "code",
   "execution_count": null,
   "id": "74886935",
   "metadata": {
    "tags": []
   },
   "outputs": [],
   "source": [
    "# For each ciphertext, assign a value of 1 for a monoalphabetic cipher, \n",
    "# and a value of 2 for a polyalphabetic cipher.\n",
    "ciphertext_1 = ...\n",
    "ciphertext_2 = ...\n",
    "ciphertext_3 = ...\n",
    "ciphertext_4 = ..."
   ]
  },
  {
   "cell_type": "code",
   "execution_count": null,
   "id": "e5ec6dbf",
   "metadata": {
    "deletable": false,
    "editable": false
   },
   "outputs": [],
   "source": [
    "grader.check(\"q2\")"
   ]
  },
  {
   "cell_type": "markdown",
   "id": "14790ca5",
   "metadata": {},
   "source": [
    "We'll assume that the `ciphertext` we loaded in at the start of this Lab was created with a Vigenere cipher (polyalphabetic) to complete the rest of the lab."
   ]
  },
  {
   "cell_type": "markdown",
   "id": "4df494df",
   "metadata": {},
   "source": [
    "## Question 3: Splitting Text\n",
    "\n",
    "In order to use the Index of Coincidence to crack the Vigenere cipher you will need to be able to work with particular subgroups of the ciphertext, where each group is created by collecting characters that would have been enciphered using the same letter in the keyword. To do this, you should write a function `text_group` to handle the dirty work.\n",
    "\n",
    "The function should take in a ciphertext message, `message` and an integer `n`, and return back a list of strings, one for each group created assuming a key of length `n`. Make sure you clean the message before breaking it down into the groups.\n",
    "\n",
    "**Hint:** String slicing, e.g. `message[a:b:c]`, could make this really simple! Think about the starting indices and the step size you'd want to use, and how they relate to the parameter `n`."
   ]
  },
  {
   "cell_type": "code",
   "execution_count": null,
   "id": "045ab436",
   "metadata": {
    "tags": []
   },
   "outputs": [],
   "source": [
    "def text_group(message, n):\n",
    "    cleaned_message = text_clean(message)\n",
    "    groups = []\n",
    "    # YOUR CODE GOES BELOW THIS LINE\n",
    "    \n",
    "\n",
    "# Sample use of the function\n",
    "text_group(ciphertext, 7)"
   ]
  },
  {
   "cell_type": "code",
   "execution_count": null,
   "id": "101c303d",
   "metadata": {
    "deletable": false,
    "editable": false
   },
   "outputs": [],
   "source": [
    "grader.check(\"q3\")"
   ]
  },
  {
   "cell_type": "markdown",
   "id": "171dce1d",
   "metadata": {},
   "source": [
    "## Question 4: Average Index of Coincidence\n",
    "\n",
    "Once you have a ciphertext message that you believe to be enciphered using the Vigenere cipher, you'll know you guessed the keyword length correctly if the Index of Coincidence for each grouping of text that's created is approximately the same as English. This occurs because that means you successfully put all the characters from the ciphertext together with the other characters that were enciphered by the same letter in the keyword. Essentially all the characters in each group underwent the same Caesar cipher, so they should \"look and feel\" like characters you obtained from a Caesar cipher, including their Index of Coincidence.\n",
    "\n",
    "Write a function `average_IC` that takes in a list of strings `groups`, where the list contains grouped text as determined by the `text_group function`. The function should compute the index of coincidence for each string, and then returns a float that represents the average Index of Coincidence of all the strings in the list. Your code should be flexible enough that you don't need to know how many strings are in the list ahead of time, it should work equally well for 2 groups or 200 groups!"
   ]
  },
  {
   "cell_type": "code",
   "execution_count": null,
   "id": "953b251f",
   "metadata": {
    "tags": []
   },
   "outputs": [],
   "source": [
    "def average_IC(groups):\n",
    "    total = 0\n",
    "    # YOUR CODE GOES BELOW THIS LINE\n",
    "    \n",
    "\n",
    "# Sample use of the function\n",
    "average_IC(text_group(ciphertext, 7))"
   ]
  },
  {
   "cell_type": "code",
   "execution_count": null,
   "id": "2cbe3b93",
   "metadata": {
    "deletable": false,
    "editable": false
   },
   "outputs": [],
   "source": [
    "grader.check(\"q4\")"
   ]
  },
  {
   "cell_type": "markdown",
   "id": "87f4cc1c",
   "metadata": {},
   "source": [
    "## Question 5: Putting it All Together\n",
    "\n",
    "Write a function, `get_keyword_length` that takes in a ciphertext, `message`, and then uses the functions `text_group` and `average_IC` to return the most likely length of the keyword. You should try several key lengths, starting with length 2, and increment the length by 1 until you compute an average index of coincidence that seems likely. Your function should give up if it doesn't find a likely key that is smaller than 10. If it doesn't find a key, it should return the integer -1."
   ]
  },
  {
   "cell_type": "code",
   "execution_count": null,
   "id": "fb355169",
   "metadata": {
    "tags": []
   },
   "outputs": [],
   "source": [
    "def get_keyword_length(message):\n",
    "    cleaned_message = text_clean(message)\n",
    "    # YOUR CODE GOES BELOW THIS LINE\n",
    "    \n",
    "\n",
    "# Sample use of the function\n",
    "get_keyword_length(ciphertext)"
   ]
  },
  {
   "cell_type": "code",
   "execution_count": null,
   "id": "3e16a2cd",
   "metadata": {
    "deletable": false,
    "editable": false
   },
   "outputs": [],
   "source": [
    "grader.check(\"q5\")"
   ]
  },
  {
   "cell_type": "markdown",
   "id": "41461515",
   "metadata": {},
   "source": [
    "You should now have a good idea about how long the keyword was that enciphered `ciphertext`. While not part of this lab, at this point you should easily be able to create a bar chart for each group of characters to determine the letter of the keyword that enciphered the characters in that group. Once you have all the letters in the keyword, you should easily be able to decipher the message!"
   ]
  },
  {
   "cell_type": "markdown",
   "id": "6b61f1e6",
   "metadata": {
    "deletable": false,
    "editable": false
   },
   "source": [
    "## Submission\n",
    "\n",
    "Make sure you have run all cells in your notebook in order before running the cell below, so that all images/graphs appear in the output. The cell below will generate a zip file for you to submit. **Please save before exporting!**"
   ]
  },
  {
   "cell_type": "code",
   "execution_count": null,
   "id": "68375af7",
   "metadata": {
    "deletable": false,
    "editable": false
   },
   "outputs": [],
   "source": [
    "# Save your notebook first, then run this cell to export your submission.\n",
    "grader.export(pdf=False)"
   ]
  },
  {
   "cell_type": "markdown",
   "id": "15b901bd",
   "metadata": {},
   "source": [
    " "
   ]
  }
 ],
 "metadata": {
  "kernelspec": {
   "display_name": "Python 3 (ipykernel)",
   "language": "python",
   "name": "python3"
  },
  "language_info": {
   "codemirror_mode": {
    "name": "ipython",
    "version": 3
   },
   "file_extension": ".py",
   "mimetype": "text/x-python",
   "name": "python",
   "nbconvert_exporter": "python",
   "pygments_lexer": "ipython3",
   "version": "3.10.5"
  },
  "otter": {
   "tests": {
    "q1": {
     "name": "q1",
     "points": 2,
     "suites": [
      {
       "cases": [
        {
         "code": ">>> index_of_coincidence('Hello', LETTERS='ABCDEFGHIJKLMNOPQRSTUVWXYZ')\n0.1",
         "hidden": false,
         "locked": false
        },
        {
         "code": ">>> round(index_of_coincidence('This is not a very long sentence but I hope that it will be long enough that the index score is about what you would expect from the english language or a mono alphabetic cipher'), 5)\n0.06116",
         "hidden": false,
         "locked": false
        },
        {
         "code": ">>> round(index_of_coincidence('CSMULERWDLKAUVZRIASYLBMITFXAYMUSHZMLAQEKDFLWYAZWVLVGUBYIDHRCHVUSHOENPVXRQALAUOKSFVSFJMFVVDMULAYIJHHHLMGIFPRLVBYIDVSCOMIWKZXWYERWTLEVPVXFWAMLOIURQWMUACIIUVVUVVMITZELPWEWKUMLHVUAJHXAZBYIWZIGMISSQRXZVCXLVHPAJMNMVOSMAXZGVBVWZWIGQUZWYARXKVRKZWJLGDEKJWEWKKIJPVXMPOIJVEEQKUHSZEVPNHWKOMTSWSHXVZKLGOSLKIPQCKIZLZWIGSZWYGJPGLTQHVUWVBTAKEYIVOIJAPVTNLEKBZVSHTECPVXEFHMKFKYEKUAGBTUFGDSJAPKLGAVGBJCIQMKWABZRIBTSULGMERMFNBYIFHMKPMJAJLRKBLUIPSCSDPZXGYETIQKAKALHPVBIALWJHVTPQZITFPVVVOIJLERWPVXZPVXWQCIJFZVQCYOSITVMPALSAVFVFPHSSQTIVOMFRQKWQCIJFULGJVYLVNKLGDEQAWYICYXZLZRFDPXKHGKSKAWWSNFLFLEJVPUICYMKOICPDLPSAMNLGUWZLBYSWNLLPBFZGYEXAMIACYHKPBFGEBVJLLKSJLVLOIKWJLSMNPKXQOENLEFRFLVWKIKXJPWTBBRXVOILPUVMVHPDZMVQGKUMPBVRCAYJHTSYVDLWUBYITHFTPBRGVBEDSGKSQREOHBTLQBXGMQKWYHMKAKFEVWSURMKEPKPGVSVHCAMLHVUXJLRZBZIMGKSFHTZGGZXSYBVHVVLWYNVIVMSJPBWPCZLWKITVQZWZLZDMPKXZHBJLGOEVUMMITIIXVZVWGLRSYISFKAAAAPVMVOIJHERMUAGGHBGSERILVZRACAGZAWKEMLSMAWWMVHRVICIRKUKOPBYGWYMGZQKCUOIJHVRGTVWKAPVJKLPVHNKITPXSULWSTAYFHBVPADEKQCJXKUXATMKSULIAAXFTFVAFHTRVILVSIJZXJVPWBVUITALWOMUKG'), 5)\n0.04374",
         "hidden": false,
         "locked": false
        },
        {
         "code": ">>> round(index_of_coincidence('IODKNNSFXUASXHROHAJGDSRSHNKMWFELFIRJOZHIAFKTEAHFCOAWZKCHIYTNJRREVNKUXUHODKRAMQWCHSZXLKTESSPPDSJJVMMEWGIIRPAAYGDOZHJDWFIUWBPWBBKTMPDGTIJWGDEGDSDZNEBRMSPSQRLAODSYZXAANOJQVLPOXPGDWZEAZPDSJJOZHEAAURQARARRKTMGBHHRSEOVQRRRSDWRAAQHGKYZSJSVMXGKRAAVPVTIEHCZKYEANWJDWOLJAFQZRNMYYPDWZLRNKMCFDSTEQWRQGVZSPQBQHTEPKAUGNHBAWRWBPWUWFBKEWMQCROKTMPDOBTRWFQHGKGQIRRSDCGDWZKNJRIIEAPKXHNBEJVAFOISQBZCBNHTSHCVFJHHVQVYKBSXUEQWLNEFIEFDSDSAAPQEHPMNYGEHIEFQGGEYHMNYAZZQHVJHAEAAHFSOACGXBBVQVJWMDSHJRELBQZPIEOVMHWKPUKUWBPWNJRRIRPORPLWKMCYKCWXBDSDGYKHTIFWBPXUAIZGBITAVGWPXINLDQEEWBOIBBOSMEHKTSJWGDECERXCFDCAXVJUGTVJHAEJKAMRNJRPMQJHXMXAWFIYENMFRPVAVOAHTEFAJQVLKBQGNHZQHUAFIEFWFAWLOAASGDVMMEARNVVCVFILARSMEHCRXUEFFIRJKUXUWGTCZWBZIEWHUQVZJAMPAOZHNLSMGRBIXIKLFQWFECZAUEQTANOGQPQKAPMFPIDFRZVQVSWHTIEYOXPRZVQVYEHFPRIWEWGNOZUHEZUXLWBPXUABMQROIUXRZVQVRTQQPYABFPLBCDWUAGQIZARFSYEJQMAWVMTCUKAVYZCRLRNCIRBJZKZRJHGVVJUAYGPCYIRPHTISAKILBIGTIGNIEXRZOZHYKJQHNIMFLBQUTXUAMAYACSEXJWGMQBOHUQCKFFEAPDQVFKBURUAFAAAKDURVKBMXYAOEXNNSSYYWFERBSAMMQABIMGDPXYRAMQWNJRKIYHCILNEFOYEHWZKBJVQVFDCGPQAFETNHSMRQOZQRQAFMRQWZIELOQMVEUWZKUAFEIYBZUORWMAYACZMHLIWZHSQZAJUAFYEAJSDWJDOFXUAQTEEWQFIEOCRXUATAYEOWEXRNGIIEAKQAVHZXINRSFSOATAYAZCGX'), 5)\n0.0411",
         "hidden": false,
         "locked": false
        }
       ],
       "scored": true,
       "setup": "",
       "teardown": "",
       "type": "doctest"
      }
     ]
    },
    "q2": {
     "name": "q2",
     "points": 2,
     "suites": [
      {
       "cases": [
        {
         "code": ">>> ciphertext_1 in [1, 2] and ciphertext_2 in [1, 2] and ciphertext_3 in [1, 2] and ciphertext_4 in [1, 2]\nTrue",
         "hidden": false,
         "locked": false
        }
       ],
       "scored": true,
       "setup": "",
       "teardown": "",
       "type": "doctest"
      }
     ]
    },
    "q3": {
     "name": "q3",
     "points": 1,
     "suites": [
      {
       "cases": [
        {
         "code": ">>> text_group('hello there', 5)\n['HT', 'EH', 'LE', 'LR', 'OE']",
         "hidden": false,
         "locked": false
        },
        {
         "code": ">>> text_group('hi', 3)\n['H', 'I', '']",
         "hidden": false,
         "locked": false
        },
        {
         "code": ">>> text_group('whoa', 3)\n['WA', 'H', 'O']",
         "hidden": false,
         "locked": false
        },
        {
         "code": ">>> text_group('This is a longer message, did you group it correctly?', 8)\n['TOSOTL', 'HNAUCY', 'IGGGO', 'SEERR', 'IRDOR', 'SMIUE', 'AEDPC', 'LSYIT']",
         "hidden": false,
         "locked": false
        }
       ],
       "scored": true,
       "setup": "",
       "teardown": "",
       "type": "doctest"
      }
     ]
    },
    "q4": {
     "name": "q4",
     "points": 1,
     "suites": [
      {
       "cases": [
        {
         "code": ">>> average_IC(['TOSOTL', 'HNAUCY', 'IGGGO', 'SEERR', 'IRDOR', 'SMIUE', 'AEDPC', 'LSYIT'])\n0.09166666666666666",
         "hidden": false,
         "locked": false
        },
        {
         "code": ">>> average_IC(['QEANEGLEXOAWYTAVCEMEWMRXLNHILLXSGPTWIIAUBFMHUBVUHELXHECHFNESXOKOEEHTWIEKZHWLHZMPJNAVKAKUIFIHUNESMFSOEFINLLSGYTLYHEXCFLSWNOZIIAHOEHIVYUJMHLBYZODWFRLYAKMHUCPDBMGBSHLTG',\n...  'ZHNZWUKIHEHVFMTWIEFWSSSOGYEHYOAMLWBPDNCDUDOCHSYOFWELYWLUOZLNLUSEUOYBPOLOLYALNEWUAWHEMFTLITOCHZFWGHTJUDXUUWADFCLLYAWYTWJCLNEHHOKZACHRICELUTWMODXCSYHUOEOCHEYTWNTWYASCN'])\n0.048300073909829995",
         "hidden": false,
         "locked": false
        },
        {
         "code": ">>> average_IC(['QHNWLIOHYMVIMWMSLYIYXMPBINUUMCBYHWXYCUNLXUOUHBILZYLNMUNHKFUIICNFMHOUIULAYCYYXYLJNNIHHZHHYCMUBMOXFYYOMCCYBNBYLC',\n...  'ZAZGKXEWFAWEFWSXGHHLAGWWDADFOUSUFLLELFZSLKEEYWOKLWLZWJWVMKLFOUZSGSJFXLWGFLLEWFWWLZHAKECVIJLLWZDWSLUKOUEDWGWHSG',\n...  'ENEUEHAVTTCEESRONELOSLTPICBDHHVOEEHWHOENOSEOTPEOHAHEPAAEATITHHEWFTEDNUSDTLHACTSCOEIOOAIRUEHTYODCRHAEHHPTMTSATN'])\n0.07311648596052266",
         "hidden": false,
         "locked": false
        }
       ],
       "scored": true,
       "setup": "",
       "teardown": "",
       "type": "doctest"
      }
     ]
    },
    "q5": {
     "name": "q5",
     "points": 2,
     "suites": [
      {
       "cases": [
        {
         "code": ">>> get_keyword_length('CSMULERWDLKAUVZRIASYLBMITFXAYMUSHZMLAQEKDFLWYAZWVLVGUBYIDHRCHVUSHOENPVXRQALAUOKSFVSFJMFVVDMULAYIJHHHLMGIFPRLVBYIDVSCOMIWKZXWYERWTLEVPVXFWAMLOIURQWMUACIIUVVUVVMITZELPWEWKUMLHVUAJHXAZBYIWZIGMISSQRXZVCXLVHPAJMNMVOSMAXZGVBVWZWIGQUZWYARXKVRKZWJLGDEKJWEWKKIJPVXMPOIJVEEQKUHSZEVPNHWKOMTSWSHXVZKLGOSLKIPQCKIZLZWIGSZWYGJPGLTQHVUWVBTAKEYIVOIJAPVTNLEKBZVSHTECPVXEFHMKFKYEKUAGBTUFGDSJAPKLGAVGBJCIQMKWABZRIBTSULGMERMFNBYIFHMKPMJAJLRKBLUIPSCSDPZXGYETIQKAKALHPVBIALWJHVTPQZITFPVVVOIJLERWPVXZPVXWQCIJFZVQCYOSITVMPALSAVFVFPHSSQTIVOMFRQKWQCIJFULGJVYLVNKLGDEQAWYICYXZLZRFDPXKHGKSKAWWSNFLFLEJVPUICYMKOICPDLPSAMNLGUWZLBYSWNLLPBFZGYEXAMIACYHKPBFGEBVJLLKSJLVLOIKWJLSMNPKXQOENLEFRFLVWKIKXJPWTBBRXVOILPUVMVHPDZMVQGKUMPBVRCAYJHTSYVDLWUBYITHFTPBRGVBEDSGKSQREOHBTLQBXGMQKWYHMKAKFEVWSURMKEPKPGVSVHCAMLHVUXJLRZBZIMGKSFHTZGGZXSYBVHVVLWYNVIVMSJPBWPCZLWKITVQZWZLZDMPKXZHBJLGOEVUMMITIIXVZVWGLRSYISFKAAAAPVMVOIJHERMUAGGHBGSERILVZRACAGZAWKEMLSMAWWMVHRVICIRKUKOPBYGWYMGZQKCUOIJHVRGTVWKAPVJKLPVHNKITPXSULWSTAYFHBVPADEKQCJXKUXATMKSULIAAXFTFVAFHTRVILVSIJZXJVPWBVUITALWOMUKG')\n8",
         "hidden": false,
         "locked": false
        },
        {
         "code": ">>> get_keyword_length('IODKNNSFXUASXHROHAJGDSRSHNKMWFELFIRJOZHIAFKTEAHFCOAWZKCHIYTNJRREVNKUXUHODKRAMQWCHSZXLKTESSPPDSJJVMMEWGIIRPAAYGDOZHJDWFIUWBPWBBKTMPDGTIJWGDEGDSDZNEBRMSPSQRLAODSYZXAANOJQVLPOXPGDWZEAZPDSJJOZHEAAURQARARRKTMGBHHRSEOVQRRRSDWRAAQHGKYZSJSVMXGKRAAVPVTIEHCZKYEANWJDWOLJAFQZRNMYYPDWZLRNKMCFDSTEQWRQGVZSPQBQHTEPKAUGNHBAWRWBPWUWFBKEWMQCROKTMPDOBTRWFQHGKGQIRRSDCGDWZKNJRIIEAPKXHNBEJVAFOISQBZCBNHTSHCVFJHHVQVYKBSXUEQWLNEFIEFDSDSAAPQEHPMNYGEHIEFQGGEYHMNYAZZQHVJHAEAAHFSOACGXBBVQVJWMDSHJRELBQZPIEOVMHWKPUKUWBPWNJRRIRPORPLWKMCYKCWXBDSDGYKHTIFWBPXUAIZGBITAVGWPXINLDQEEWBOIBBOSMEHKTSJWGDECERXCFDCAXVJUGTVJHAEJKAMRNJRPMQJHXMXAWFIYENMFRPVAVOAHTEFAJQVLKBQGNHZQHUAFIEFWFAWLOAASGDVMMEARNVVCVFILARSMEHCRXUEFFIRJKUXUWGTCZWBZIEWHUQVZJAMPAOZHNLSMGRBIXIKLFQWFECZAUEQTANOGQPQKAPMFPIDFRZVQVSWHTIEYOXPRZVQVYEHFPRIWEWGNOZUHEZUXLWBPXUABMQROIUXRZVQVRTQQPYABFPLBCDWUAGQIZARFSYEJQMAWVMTCUKAVYZCRLRNCIRBJZKZRJHGVVJUAYGPCYIRPHTISAKILBIGTIGNIEXRZOZHYKJQHNIMFLBQUTXUAMAYACSEXJWGMQBOHUQCKFFEAPDQVFKBURUAFAAAKDURVKBMXYAOEXNNSSYYWFERBSAMMQABIMGDPXYRAMQWNJRKIYHCILNEFOYEHWZKBJVQVFDCGPQAFETNHSMRQOZQRQAFMRQWZIELOQMVEUWZKUAFEIYBZUORWMAYACZMHLIWZHSQZAJUAFYEAJSDWJDOFXUAQTEEWQFIEOCRXUATAYEOWEXRNGIIEAKQAVHZXINRSFSOATAYAZCGX')\n5",
         "hidden": false,
         "locked": false
        },
        {
         "code": ">>> get_keyword_length('QLLVCEARNGYLAWVSWBYTIHVCOWXCZCFVGFGIZVYTLCBEBPOSISEYTLWJCLDXHSJBSCZVNLLXICPDRGKCKEEHJQLPKBYHFNGYEWITXVXXOMGNPDQEXFCLVVRHHAWUJZEVIKDXRXXYYTVEYIZYOXRVNEIXYNLLAYGHBJXORWHVULUPZBUKPYWXYNQMTLKBISIQJVPWEDLAIRRUIJUINLYOBKYUNRKMKFIAPYDHNNGOECVVWGYGABIKOOXTSERSEWFZQHVEZUNAIALRVVWKBEABBVFCQSECMHVGCUVLBBVJKDWOJFLZGYCQWMFKOOVXYKQIJIGUVHBCFU')\n-1",
         "hidden": false,
         "locked": false
        }
       ],
       "scored": true,
       "setup": "",
       "teardown": "",
       "type": "doctest"
      }
     ]
    }
   }
  }
 },
 "nbformat": 4,
 "nbformat_minor": 5
}
