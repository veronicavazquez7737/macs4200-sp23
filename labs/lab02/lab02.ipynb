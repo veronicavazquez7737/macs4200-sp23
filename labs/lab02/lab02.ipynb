{
 "cells": [
  {
   "cell_type": "code",
   "execution_count": null,
   "id": "a73b4d89",
   "metadata": {
    "deletable": false,
    "editable": false
   },
   "outputs": [],
   "source": [
    "# Initialize Otter\n",
    "import otter\n",
    "grader = otter.Notebook(\"lab02.ipynb\")"
   ]
  },
  {
   "cell_type": "markdown",
   "id": "baec7c37",
   "metadata": {},
   "source": [
    "# Lab 02: Caesar Cipher\n",
    "\n",
    "In today's lab, you'll learn how to:\n",
    "\n",
    "1. implement the Caesar cipher\n",
    "2. implement the Caesar cipher with other alphabets\n",
    "3. read text from a file\n",
    "4. clean and format text\n",
    "\n",
    "This lab covers parts of [Chapter 4](https://macs4200.org/chapters/04/2/caesar-cipher.html) and [Chapter 5](https://macs4200.org/chapters/05/3/file-io.html) of the online textbook. Let's get started!"
   ]
  },
  {
   "cell_type": "markdown",
   "id": "0b78e1af",
   "metadata": {},
   "source": [
    "## Part 1: Caesar Cipher\n",
    "\n",
    "So far we've seen the Caesar cipher described mathematically as:\n",
    "\n",
    "$$ C \\equiv P + k \\pmod m$$\n",
    "\n",
    "where:\n",
    "* $C$ is a ciphertext character represented as an integer\n",
    "* $P$ is a plaintext character represented as an integer\n",
    "* $k$ is an integer key\n",
    "* $m$ is the number of characters in the used alphabet"
   ]
  },
  {
   "cell_type": "markdown",
   "id": "402cfd90",
   "metadata": {},
   "source": [
    "### Question 1.1\n",
    "\n",
    "In the cell below, you'll find the set up for completing a Caesar cipher using the standard 26 letter alphabet. To start:\n",
    "\n",
    "* Choose a plaintext that contains a single character\n",
    "* choose a valid key for the Caesar cipher\n",
    "\n",
    "Then, complete the code so the plaintext is converted to ciphertext using the Caesar cipher algorithm. You should convert the plaintext character to an integer, apply the key to obtain an integer for the ciphertext, and then convert the ciphertext integer to a character.\n",
    "\n",
    "**Hint**: Using the `.find` method and string indexing will be helpful for a few of these steps!"
   ]
  },
  {
   "cell_type": "code",
   "execution_count": null,
   "id": "1b4c9b83",
   "metadata": {
    "tags": []
   },
   "outputs": [],
   "source": [
    "LETTERS = 'ABCDEFGHIJKLMNOPQRSTUVWXYZ'\n",
    "plaintext = ...\n",
    "key = ...\n",
    "\n",
    "plaintext_numerical = ...\n",
    "ciphertext_numerical = ...\n",
    "ciphertext = ...\n",
    "print(ciphertext)"
   ]
  },
  {
   "cell_type": "code",
   "execution_count": null,
   "id": "57b25093",
   "metadata": {
    "deletable": false,
    "editable": false
   },
   "outputs": [],
   "source": [
    "grader.check(\"q1_1\")"
   ]
  },
  {
   "cell_type": "markdown",
   "id": "b8fceb7b",
   "metadata": {},
   "source": [
    "### `.upper` and `.replace`\n",
    "\n",
    "In the next few questions we'll be updating the code so it will work on string longer than 1 character. However, as soon as we start inputting text as strings it could easily open the door to unpredictability. Will the plaintext be all uppercase? All lowercase? Will it contain spaces, numbers, or other characters? These things make a difference because if a computer is expecting to use an uppercase letter but it gets a space or lowercase letter, your code will likely not work. We will need to take care to \"sanitize\" our plaintext to ensure the string we're using is predictably formatted.\n"
   ]
  },
  {
   "cell_type": "markdown",
   "id": "c1771f20",
   "metadata": {},
   "source": [
    "One quick way to clean your string is to make all characters uppercase using the `.upper` method. Another way to is look for common characters someone may include, but are not part of our 26 character alphabet, and replace them. There is a string method named `.replace` that can do this for you.\n",
    "\n",
    "Run the cell below to see `.replace` in action."
   ]
  },
  {
   "cell_type": "code",
   "execution_count": null,
   "id": "fb81076c",
   "metadata": {},
   "outputs": [],
   "source": [
    "message = 'Hello, my friend! How are you? I am well'\n",
    "partially_cleaned = message.replace(' ', '')\n",
    "print( partially_cleaned )"
   ]
  },
  {
   "cell_type": "markdown",
   "id": "5c8b99f1",
   "metadata": {},
   "source": [
    "You can see that `.replace` works by attaching it to the end of a string (or a variable that contains a string) and providing two pieces of information: the character you want to replace (in this case a space, `' '`) and what you want to replace it with (in this case an empty string `''`).\n",
    "\n",
    "You can also chain together two `.replace` calls if you need to replace more than one character from a message."
   ]
  },
  {
   "cell_type": "code",
   "execution_count": null,
   "id": "f621be38",
   "metadata": {},
   "outputs": [],
   "source": [
    "more_cleaned = message.replace(' ', '').replace('!', '')\n",
    "print( more_cleaned )"
   ]
  },
  {
   "cell_type": "markdown",
   "id": "6d15db35",
   "metadata": {},
   "source": [
    "You can also combine `.replace` with other string methods, like `.upper`"
   ]
  },
  {
   "cell_type": "code",
   "execution_count": null,
   "id": "9cdbcaa1",
   "metadata": {},
   "outputs": [],
   "source": [
    "print( message.replace(' ', '').replace('!', '').upper() )"
   ]
  },
  {
   "cell_type": "markdown",
   "id": "46e8e26e",
   "metadata": {},
   "source": [
    "This is a simple way to take a plaintext message and prepare it for use in a cipher, since our alphabet is currently defined to be the characters A-Z (all uppercase). You'll notice the code above would *not* have removed any other punctuation besides the exclamation point, so it's not perfect. It's actually **really** difficult to explain all the different characters you don't want to work with. Later on in the course we'll cover a better way to prepare text that allows us to explain what characters we **do** want to work with, and any character not on the list won't be kept.\n",
    "\n",
    "For now, assume that all messages will only contain uppercase letters, lowercase letters, spaces, commas, question marks, and periods. Before being passed onto to be encrypted, all characters should be made uppercase, and other characters removed. Don't worry about numbers or other punctuation right now."
   ]
  },
  {
   "cell_type": "markdown",
   "id": "3adc30dd",
   "metadata": {},
   "source": [
    "### Question 1.2\n",
    "\n",
    "In the cell below, use `.replace` and `.upper` to fully prepare the string stored to `message` to be encrypted. Save the cleaned string to `fully_cleaned`"
   ]
  },
  {
   "cell_type": "code",
   "execution_count": null,
   "id": "820a60ab",
   "metadata": {
    "tags": []
   },
   "outputs": [],
   "source": [
    "fully_cleaned = ...\n",
    "print(fully_cleaned)"
   ]
  },
  {
   "cell_type": "code",
   "execution_count": null,
   "id": "00fb6548",
   "metadata": {
    "deletable": false,
    "editable": false
   },
   "outputs": [],
   "source": [
    "grader.check(\"q1_2\")"
   ]
  },
  {
   "cell_type": "markdown",
   "id": "ceb79711",
   "metadata": {},
   "source": [
    "### Question 1.3\n",
    "\n",
    "Now you're ready to start enciphering messages that are longer than 1 character.\n",
    "\n",
    "Below you'll find the plaintext message, \"What is the answer, you ask? I will tell you!\" stored to the string `plaintext`. You should first \"clean\" this message as discussed in the previous question. A key has already been chosen for you.\n",
    "\n",
    "A `for` loop has already been started that will iterate over the string `clean_plaintext` one character at a time. You should complete the lines of code inside the loop so that when the loop finishes, all the characters of the ciphertext are stored in the string `ciphertext`. The last line of code will print it to the screen to help you verify it ran correct."
   ]
  },
  {
   "cell_type": "code",
   "execution_count": null,
   "id": "0729dd1b",
   "metadata": {
    "tags": []
   },
   "outputs": [],
   "source": [
    "LETTERS = 'ABCDEFGHIJKLMNOPQRSTUVWXYZ'\n",
    "plaintext = 'What is the answer, you ask? I will tell you!'\n",
    "clean_plaintext = ...\n",
    "key = 15\n",
    "\n",
    "# Creating an empty string that will eventually store your ciphertext\n",
    "ciphertext = ''\n",
    "\n",
    "for char in clean_plaintext:\n",
    "    plaintext_numerical = ...\n",
    "    ciphertext_numerical = ...\n",
    "    ciphertext = ...\n",
    "    \n",
    "print(ciphertext)"
   ]
  },
  {
   "cell_type": "code",
   "execution_count": null,
   "id": "33bcbef6",
   "metadata": {
    "deletable": false,
    "editable": false
   },
   "outputs": [],
   "source": [
    "grader.check(\"q1_3\")"
   ]
  },
  {
   "cell_type": "markdown",
   "id": "17458621",
   "metadata": {},
   "source": [
    "At this point you've got some great code that is enciphering messages like a champion! Let's see how it does deciphering a message. But let's make it interesting! Instead of a short message, let's see how you can read in a long message from a file."
   ]
  },
  {
   "cell_type": "markdown",
   "id": "be78f54e",
   "metadata": {},
   "source": [
    "### File Input / Output\n",
    "\n",
    "In Python, you can read in text from a simple text file that's generated by word processors. These types of files are not fancy, you can not have different fonts, font sizes, images, or the like. They just contain the characters. Most word processors like Word and Google Docs have an option to save your documents as `.txt` files, but you can also use Notepad (on Windows) or Text Editor (Mac) to easily make these files.\n",
    "\n",
    "Assuming you have such a file in the same folder as your notebook, you can read the text it contains into your notebook as a string and assign it to a variable. Alongside this lab notebook you'll find a file named `caesar-ciphertext.txt`. Here's the command to read it in as a string named `caesar_ciphertext`."
   ]
  },
  {
   "cell_type": "code",
   "execution_count": null,
   "id": "dea4aeb4",
   "metadata": {},
   "outputs": [],
   "source": [
    "with open('caesar-ciphertext.txt') as f:\n",
    "    caesar_ciphertext = f.read()\n",
    "    \n",
    "print(caesar_ciphertext)"
   ]
  },
  {
   "cell_type": "markdown",
   "id": "b5c59d83",
   "metadata": {},
   "source": [
    "You can see that this is an encrypted message that has only capital letters and spaces to group the characters into blocks of length 5. We'll attempt to decipher this message."
   ]
  },
  {
   "cell_type": "markdown",
   "id": "f9a36876",
   "metadata": {},
   "source": [
    "### Question 1.4\n",
    "\n",
    "In the cell below you'll find similar starter code as the previous problem (the words plaintext and ciphertext have been swapped to indicate the change in our goal). The ciphertext from the file has been cleaned by removing the spaces.\n",
    "\n",
    "You should make an initial guess for the key, then complete the loop below to decipher the message. You should be able to reuse your code from an earlier problem, and just make a few minor tweaks.\n",
    "\n",
    "It's unlikely that you'll guess the key on the first attempt, so keep trying keys until you have successfully deciphered the message.\n",
    "\n",
    "**Note:** Don't forget, plaintext letters should be lowercase!"
   ]
  },
  {
   "cell_type": "markdown",
   "id": "734908ac",
   "metadata": {},
   "source": [
    "_Type your answer here, replacing this text._"
   ]
  },
  {
   "cell_type": "code",
   "execution_count": null,
   "id": "5e97748e",
   "metadata": {
    "tags": []
   },
   "outputs": [],
   "source": [
    "LETTERS = 'ABCDEFGHIJKLMNOPQRSTUVWXYZ'\n",
    "\n",
    "# Remove all the spaces\n",
    "clean_ciphertext = caesar_ciphertext.replace(' ', '')\n",
    "\n",
    "key = ...\n",
    "\n",
    "# Creating an empty string that will eventually store your ciphertext\n",
    "plaintext = ''\n",
    "\n",
    "for char in clean_ciphertext:\n",
    "    ciphertext_numerical = ...\n",
    "    plaintext_numerical = ...\n",
    "    plaintext = ...\n",
    "    \n",
    "print(plaintext)"
   ]
  },
  {
   "cell_type": "code",
   "execution_count": null,
   "id": "75e95580",
   "metadata": {
    "deletable": false,
    "editable": false
   },
   "outputs": [],
   "source": [
    "grader.check(\"q1_4\")"
   ]
  },
  {
   "cell_type": "markdown",
   "id": "7836bcf7",
   "metadata": {},
   "source": [
    "You can also save a string to a text file, allowing you to send it by email, upload the file to Google Drive, etc. The code to save a string stored in `plaintext` to a file named `caesar-plaintext.txt` is shown below."
   ]
  },
  {
   "cell_type": "code",
   "execution_count": null,
   "id": "d716cf2e",
   "metadata": {},
   "outputs": [],
   "source": [
    "with open('caesar-plaintext.txt', 'w') as f:\n",
    "    print(plaintext, file=f, end='')"
   ]
  },
  {
   "cell_type": "markdown",
   "id": "ee70fbc1",
   "metadata": {},
   "source": [
    "You should see `caesar-plaintext.txt` appear in your folder after a few moments. For more details on all the configuration options for writing to a file you can read [Chapter 5, Section 3] (https://macs4200.org/chapters/05/3/file-io.html)."
   ]
  },
  {
   "cell_type": "markdown",
   "id": "1d922d48",
   "metadata": {},
   "source": [
    "## Part 2: Big Alphabets\n",
    "\n",
    "In this section you'll complete the Caesar cipher on alphabets that contain more than 26 characters."
   ]
  },
  {
   "cell_type": "markdown",
   "id": "5e508c5c",
   "metadata": {},
   "source": [
    "Suppose we extend the alphabet to include uppercase letters and lowercase letters. We'll now have 52 characters to work with. Let's agree that capital letters will come first and use the positional numbers of 0 - 25, and then lowercase letters will come second and use the position numbers 26 - 51."
   ]
  },
  {
   "cell_type": "code",
   "execution_count": null,
   "id": "fbe718b1",
   "metadata": {},
   "outputs": [],
   "source": [
    "BIG_LETTERS = 'ABCDEFGHIJKLMNOPQRSTUVWXYZabcdefghijklmnopqrstuvwxyz'"
   ]
  },
  {
   "cell_type": "markdown",
   "id": "3481db9b",
   "metadata": {},
   "source": [
    "Remember, to Python 'Q' and 'q' are two different characters. They'll have different numerical values in our system as well."
   ]
  },
  {
   "cell_type": "code",
   "execution_count": null,
   "id": "f25abd52",
   "metadata": {},
   "outputs": [],
   "source": [
    "print( BIG_LETTERS[16] )"
   ]
  },
  {
   "cell_type": "code",
   "execution_count": null,
   "id": "dba630d0",
   "metadata": {},
   "outputs": [],
   "source": [
    "print( BIG_LETTERS[42] )"
   ]
  },
  {
   "cell_type": "markdown",
   "id": "2f4781cf",
   "metadata": {},
   "source": [
    "### Question 2.1\n",
    "\n",
    "Below you'll find similar code used in an earlier problem. You'll even find the same plaintext message. However, since we now want to consider uppercase and lowercase letters as valid, you'll need to change the way you clean the text. Additionally, the alphabet is now larger. What else will you need to change to ensure that all 52 possible plaintext letters are mapped to 52 different ciphertext letters.\n",
    "\n",
    "**Note:** Don't forget, the alphabet is now stored to `BIG_LETTERS`, not `LETTERS` so adjust accordingly!"
   ]
  },
  {
   "cell_type": "code",
   "execution_count": null,
   "id": "e5cc642a",
   "metadata": {
    "tags": []
   },
   "outputs": [],
   "source": [
    "BIG_LETTERS = 'ABCDEFGHIJKLMNOPQRSTUVWXYZabcdefghijklmnopqrstuvwxyz'\n",
    "plaintext = 'What is the answer, you ask? I will tell you!'\n",
    "clean_plaintext = ...\n",
    "key = 37\n",
    "\n",
    "# Creating an empty string that will eventually store your ciphertext\n",
    "ciphertext = ''\n",
    "\n",
    "for char in clean_plaintext:\n",
    "    plaintext_numerical = ...\n",
    "    ciphertext_numerical = ...\n",
    "    ciphertext = ...\n",
    "    \n",
    "print(ciphertext)"
   ]
  },
  {
   "cell_type": "code",
   "execution_count": null,
   "id": "9b47cc27",
   "metadata": {
    "deletable": false,
    "editable": false
   },
   "outputs": [],
   "source": [
    "grader.check(\"q2_1\")"
   ]
  },
  {
   "cell_type": "markdown",
   "id": "4f1d13d5",
   "metadata": {},
   "source": [
    "It's important to realize that we could define the alphabet to contain as many characters as we want! For most messages up through the introduction of computers, English messages contained only the 26 character alphabet we've been using so far. However, there's no mathematical reason why the alphabets couldn't be larger or smaller, as long as we tend to modulus of our calculations. We'll explore other sized alphabets throughout the course.\n",
    "\n",
    "Now that you've got a good handle on implementing the Caesar cipher for various size alphabets, let's turn our attention to formatting the ciphertext. Ciphertext is conventionally printed grouped into blocks of length 5, so let's see if we can figure out how to take an unblocked message and group it appropriately. "
   ]
  },
  {
   "cell_type": "markdown",
   "id": "4e449ae3",
   "metadata": {},
   "source": [
    "### `if` statements\n",
    "\n",
    "To help out with this task, you may find `if` statements to be helpful. These allow you to run a line of code only **`if`** a certain criteria is met. Run the example below for different values of x and take note of the structure of the statement."
   ]
  },
  {
   "cell_type": "code",
   "execution_count": null,
   "id": "010b8f11",
   "metadata": {},
   "outputs": [],
   "source": [
    "x = 5\n",
    "if x > 3:\n",
    "    print('x is larger than 3')"
   ]
  },
  {
   "cell_type": "markdown",
   "id": "5a97116f",
   "metadata": {},
   "source": [
    "The `print` statement is only run with the numerical value stored to `x` meets the criteria of `x > 3`. If `x` does not meet that criteria, then no additional code is run."
   ]
  },
  {
   "cell_type": "markdown",
   "id": "94357d56",
   "metadata": {},
   "source": [
    "### Question 2.2\n",
    "\n",
    "Below you'll find some starter code that will iterate over the string `unformatted`. You should add to this code so that when completed the string `formatted` contains the same characters as `unformatted` but grouped into blocks of length 5. If the last block doesn't have 5 characters, that's okay!\n",
    "\n",
    "For this code, try using the following strategy inside the loop:\n",
    "* append `char` to the `formatted` string\n",
    "* check to see if `formatted` has a multiple of 5 characters in it (not counting spaces)\n",
    "  * if it does, also append a space\n",
    "  * if it doesn't, do nothing!"
   ]
  },
  {
   "cell_type": "code",
   "execution_count": null,
   "id": "95d9bad5",
   "metadata": {
    "tags": []
   },
   "outputs": [],
   "source": [
    "unformatted = 'HELLOTHISISFORTESTING'\n",
    "formatted = ''\n",
    "\n",
    "for char in unformatted:\n",
    "    ...\n",
    "\n",
    "print(formatted)"
   ]
  },
  {
   "cell_type": "code",
   "execution_count": null,
   "id": "7f4f22c8",
   "metadata": {
    "deletable": false,
    "editable": false
   },
   "outputs": [],
   "source": [
    "grader.check(\"q2_2\")"
   ]
  },
  {
   "cell_type": "markdown",
   "id": "e7dce176",
   "metadata": {},
   "source": [
    "# Submitting your work\n",
    "You're done with this Lab! All assignments in the course will be distributed as notebooks like this one, and you will submit your work by doing the following:\n",
    "* Save your notebook\n",
    "* Restart the kernel and run up to this cell.\n",
    "* Run all the tests by running the cell containing `grader.check_all()`. Make sure they pass the way you expect them to.\n",
    "* Run the cell below with the code `grader.export(...)`.\n",
    "* Download the file named `labXX.zip`, found in the explorer pane on the left side of the screen.\n",
    "* Upload `labXX-<date-time stamp>.zip` to the corresponding lab assignment on Canvas."
   ]
  },
  {
   "cell_type": "markdown",
   "id": "2e33d778",
   "metadata": {
    "deletable": false,
    "editable": false
   },
   "source": [
    "## Submission\n",
    "\n",
    "Make sure you have run all cells in your notebook in order before running the cell below, so that all images/graphs appear in the output. The cell below will generate a zip file for you to submit. **Please save before exporting!**\n",
    "\n",
    "When done exporting, find the `.zip` file in the left side of the screen in the file browser, right-click, and select **Download**. You'll submit this `.zip` file for the assignment Gradescope for grading."
   ]
  },
  {
   "cell_type": "code",
   "execution_count": null,
   "id": "646ba3b6",
   "metadata": {
    "deletable": false,
    "editable": false
   },
   "outputs": [],
   "source": [
    "# Save your notebook first, then run this cell to export your submission.\n",
    "grader.export(pdf=False)"
   ]
  },
  {
   "cell_type": "markdown",
   "id": "1223f91b",
   "metadata": {},
   "source": [
    " "
   ]
  }
 ],
 "metadata": {
  "kernelspec": {
   "display_name": "Python 3 (ipykernel)",
   "language": "python",
   "name": "python3"
  },
  "language_info": {
   "codemirror_mode": {
    "name": "ipython",
    "version": 3
   },
   "file_extension": ".py",
   "mimetype": "text/x-python",
   "name": "python",
   "nbconvert_exporter": "python",
   "pygments_lexer": "ipython3",
   "version": "3.10.5"
  },
  "otter": {
   "tests": {
    "q1_1": {
     "name": "q1_1",
     "points": 1,
     "suites": [
      {
       "cases": [
        {
         "code": ">>> len(plaintext) == 1 \nTrue",
         "failure_message": "Your string is too long",
         "hidden": false,
         "locked": false
        },
        {
         "code": ">>> type(key) == int\nTrue",
         "failure_message": "Your key is not an integer",
         "hidden": false,
         "locked": false
        },
        {
         "code": ">>> ciphertext_numerical != (-1 + key) % len(LETTERS)\nTrue",
         "failure_message": "It looks like you didn't convert your plaintext to an upper case letter before using .find. Try using .upper() to ensure it can be found in LETTERS.",
         "hidden": false,
         "locked": false
        },
        {
         "code": ">>> LETTERS[(LETTERS.find(plaintext.upper())+key)%len(LETTERS)] == ciphertext\nTrue",
         "hidden": false,
         "locked": false
        }
       ],
       "scored": true,
       "setup": "",
       "teardown": "",
       "type": "doctest"
      }
     ]
    },
    "q1_2": {
     "name": "q1_2",
     "points": 1,
     "suites": [
      {
       "cases": [
        {
         "code": ">>> '!' not in fully_cleaned\nTrue",
         "hidden": false,
         "locked": false
        },
        {
         "code": ">>> ' ' not in fully_cleaned\nTrue",
         "hidden": false,
         "locked": false
        },
        {
         "code": ">>> '?' not in fully_cleaned\nTrue",
         "hidden": false,
         "locked": false
        },
        {
         "code": ">>> ',' not in fully_cleaned\nTrue",
         "hidden": false,
         "locked": false
        },
        {
         "code": ">>> '.' not in fully_cleaned\nTrue",
         "hidden": false,
         "locked": false
        },
        {
         "code": ">>> fully_cleaned\n'HELLOMYFRIENDHOWAREYOUIAMWELL'",
         "hidden": false,
         "locked": false
        }
       ],
       "scored": true,
       "setup": "",
       "teardown": "",
       "type": "doctest"
      }
     ]
    },
    "q1_3": {
     "name": "q1_3",
     "points": 1,
     "suites": [
      {
       "cases": [
        {
         "code": ">>> any( bad_chars in clean_plaintext for bad_chars in ['?', '!', ' ', '.', ','] )\nFalse",
         "failure_message": "You still have some punctuation in your message after cleaning",
         "hidden": false,
         "locked": false
        },
        {
         "code": ">>> clean_plaintext.upper() == clean_plaintext\nTrue",
         "failure_message": "You didn't make the characters uppercase",
         "hidden": false,
         "locked": false
        },
        {
         "code": ">>> ciphertext\n'LWPIXHIWTPCHLTGNDJPHZXLXAAITAANDJ'",
         "hidden": false,
         "locked": false
        }
       ],
       "scored": true,
       "setup": "",
       "teardown": "",
       "type": "doctest"
      }
     ]
    },
    "q1_4": {
     "name": "q1_4",
     "points": 1,
     "suites": [
      {
       "cases": [
        {
         "code": ">>> plaintext == plaintext.lower()\nTrue",
         "failure_message": "You didn't make the plaintext lowercase",
         "hidden": false,
         "locked": false
        },
        {
         "code": ">>> len(plaintext)\n1154",
         "failure_message": "Your message isn't the correct length",
         "hidden": false,
         "locked": false
        },
        {
         "code": ">>> (key * 123) % 472\n203",
         "failure_message": "If this test fails, but you obtained readable plaintext check to make sure you are subtracting the key value, not adding the inverse key.",
         "hidden": false,
         "locked": false
        },
        {
         "code": ">>> plaintext\n'weleftinprettygoodtimeandcameafternightfalltoklausenburghhereistoppedforthenightatthehotelroyaleihadfordinnerorrathersupperachickendoneupsomewaywithredpepperwhichwasverygoodbutthirstymemgetrecipeforminaiaskedthewaiterandhesaiditwascalledpaprikahendlandthatasitwasanationaldishishouldbeabletogetitanywherealongthecarpathiansifoundmysmatteringofgermanveryusefulhereindeedidontknowhowishouldbeabletogetonwithoutithavinghadsometimeatmydisposalwheninlondonihadvisitedthebritishmuseumandmadesearchamongthebooksandmapsinthelibraryregardingtransylvaniaithadstruckmethatsomeforeknowledgeofthecountrycouldhardlyfailtohavesomeimportanceindealingwithanoblemanofthatcountryifindthatthedistricthenamedisintheextremeeastofthecountryjustonthebordersofthreestatestransylvaniamoldaviaandbukovinainthemidstofthecarpathianmountainsoneofthewildestandleastknownportionsofeuropeiwasnotabletolightonanymaporworkgivingtheexactlocalityofthecastledraculaastherearenomapsofthiscountryasyettocomparewithourownordnancesurveymapsbutifoundthatbistritztheposttownnamedbycountdraculaisafairlywellknownplaceishallenterheresomeofmynotesastheymayrefreshmymemorywhenitalkovermytravelswithmina'",
         "hidden": false,
         "locked": false
        }
       ],
       "scored": true,
       "setup": "",
       "teardown": "",
       "type": "doctest"
      }
     ]
    },
    "q2_1": {
     "name": "q2_1",
     "points": 1,
     "suites": [
      {
       "cases": [
        {
         "code": ">>> any( bad_chars in clean_plaintext for bad_chars in ['?', '!', ' ', '.', ','] )\nFalse",
         "failure_message": "You still have some punctuation in your message after cleaning",
         "hidden": false,
         "locked": false
        },
        {
         "code": ">>> ciphertext\n'HSLeTdeSPLYdhPcjZfLdVthTWWePWWjZf'",
         "hidden": false,
         "locked": false
        }
       ],
       "scored": true,
       "setup": "",
       "teardown": "",
       "type": "doctest"
      }
     ]
    },
    "q2_2": {
     "name": "q2_2",
     "points": 1,
     "suites": [
      {
       "cases": [
        {
         "code": ">>> formatted.count(' ')\n4",
         "failure_message": "There should be 4 spaces (5 blocks) in this message",
         "hidden": false,
         "locked": false
        },
        {
         "code": ">>> len(formatted)\n25",
         "failure_message": "There should be 25 total characters in the string (including spaces)",
         "hidden": false,
         "locked": false
        },
        {
         "code": ">>> formatted\n'HELLO THISI SFORT ESTIN G'",
         "hidden": false,
         "locked": false
        }
       ],
       "scored": true,
       "setup": "",
       "teardown": "",
       "type": "doctest"
      }
     ]
    }
   }
  }
 },
 "nbformat": 4,
 "nbformat_minor": 5
}
