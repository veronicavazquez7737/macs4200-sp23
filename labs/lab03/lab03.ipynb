{
 "cells": [
  {
   "cell_type": "code",
   "execution_count": null,
   "id": "39c1a270",
   "metadata": {
    "deletable": false,
    "editable": false
   },
   "outputs": [],
   "source": [
    "# Initialize Otter\n",
    "import otter\n",
    "grader = otter.Notebook(\"lab03.ipynb\")"
   ]
  },
  {
   "cell_type": "markdown",
   "id": "02fad0b2",
   "metadata": {},
   "source": [
    "# Lab 03: Creating a Toolkit of Functions\n",
    "\n",
    "In today's lab, you'll learn how to:\n",
    "\n",
    "1. program the Extended Euclidean algorithm to determine a multiplicative inverse in any modulus.\n",
    "2. store the functions you've written into a personal \"toolkit\" that you can use in your coursework or other projects.\n",
    "\n",
    "Let's get started!"
   ]
  },
  {
   "cell_type": "markdown",
   "id": "a4099638",
   "metadata": {},
   "source": [
    "## Part 1: Extended Euclidean Algorithm\n",
    "\n",
    "Now that you know a little about lists, programming the Extended Euclidean algorithm should be a little bit easier to think about. Recall the example from an earlier lesson, where you were looking to find the multiplicative inverse of 707 in modulus 979. We set up the following table:\n",
    "\n",
    "$$\\begin{array}{c|rr}\n",
    "     & 979 & 707 \\\\ \\hline\n",
    " 979 & 1 & 0 \\\\\n",
    " 707 & 0 & 1 \\\\\n",
    " 272 & 1 & -1 \\\\\n",
    " 163 & -2 & 3 \\\\\n",
    " 109 & 3 & -4 \\\\\n",
    "  54 & -5 & 7 \\\\\\\n",
    "   1 & 13 & -18\n",
    "\\end{array}$$\n",
    "\n",
    "This table allowed a structure in which we performed operations on the top two rows to generate information about a new third row. Then, we repeated the process with the second and third rows as our \"new\" first and second rows to generate a \"new\" third row. This process repeated until we obtained a row whose first element was 1. Let's remember what those operations were that we used to generate new rows in the table."
   ]
  },
  {
   "cell_type": "markdown",
   "id": "1d866a05",
   "metadata": {},
   "source": [
    "We started with the top two rows, which are always set up the same. The larger number goes in the first row, with a 1 and then a 0, and the smaller number went into the second row, followed by a 0 and then a 1.\n",
    "\n",
    "$$\\begin{array}{c|rr}\n",
    "     & 979 & 707 \\\\ \\hline\n",
    " 979 & 1 & 0 \\\\\n",
    " 707 & 0 & 1 \n",
    "\\end{array}$$"
   ]
  },
  {
   "cell_type": "markdown",
   "id": "7b680d10",
   "metadata": {},
   "source": [
    "To obtain the next row in the table, we saw we could subtract 707 **once** from 979 (without obtaining a result less than our goal of 1).  We then also subtract 0 **once** from 1 (second column) and 1 **once** from 0 (third column) to obtain the third row of $272, 1,$ and $-1$. \n",
    "\n",
    "$$\\begin{array}{c|rr}\n",
    "     & 979 & 707 \\\\ \\hline\n",
    " 979 & 1 & 0 \\\\\n",
    " 707 & 0 & 1 \\\\\n",
    " 272 & 1 & -1\n",
    "\\end{array}$$"
   ]
  },
  {
   "cell_type": "markdown",
   "id": "c79838d2",
   "metadata": {},
   "source": [
    "How did we know to only subtract off one multiple of the elements in row 2 from row 1? We could have visually inspected the numbers 707 and 979 to determine that, but it would be helpful for us to think about how to **compute** this value so we can instruct our computer to do the same operation. For example, if rows 1 and 2 had the numbers $13475942$ and $324235$, it would be a lot tricker to do this calculation by hand. You'd have to compute some multiples of $324235$ to see how many it takes to get the result larger than $13475942$. Not too *difficult* to do, but it could take awhile... and don't we have some mathematical operation that computes how many multiples of a number \"go into\" a larger number?\n",
    "\n",
    "You may remember from an earlier math class learning about the long division algorithm. If you need a refresher, check out this link: https://www.mathsisfun.com/long_division.html\n",
    "\n",
    "$$3{\\overline{\\smash{\\big)}\\,130\\phantom{)}}}$$\n",
    "\n",
    "Using the algorithm you could compute that 3 (the divisor) \"goes into\" 130 (the dividend), 43 times (the quotient) with a remainder of 1. It turns out, Python can compute each of those values for you using some operators, one of which you already know.\n",
    "\n",
    "* The `//` (double division symbol) operator in Python will compute the quotient (`130 // 3`). In mathematics this is often represented with the help of the floor function $\\lfloor \\phantom{x} \\rfloor$, for example $\\lfloor 130\\phantom{x}/\\phantom{x}3 \\rfloor$\n",
    "* The `%` operator will compute for you the remainder, a fact that you may have already picked up on in our earlier work in the course. \n",
    "\n",
    "To see these operators in action, run the following cells."
   ]
  },
  {
   "cell_type": "code",
   "execution_count": null,
   "id": "e87c3c1e",
   "metadata": {},
   "outputs": [],
   "source": [
    "print( 130 // 3 )"
   ]
  },
  {
   "cell_type": "code",
   "execution_count": null,
   "id": "89568c9a",
   "metadata": {},
   "outputs": [],
   "source": [
    "print( 130 % 3 )"
   ]
  },
  {
   "cell_type": "markdown",
   "id": "83d33d5d",
   "metadata": {},
   "source": [
    "The `//` operator gives us a way to quickly compute how many multiples of the second row should be subtracted off from the first row, even when the numbers are large!"
   ]
  },
  {
   "cell_type": "code",
   "execution_count": null,
   "id": "cb3f331f",
   "metadata": {},
   "outputs": [],
   "source": [
    "print( 13475942 // 324235 )"
   ]
  },
  {
   "cell_type": "markdown",
   "id": "8ef708fb",
   "metadata": {},
   "source": [
    "For the task at hand, let's take a look at how many times 272 \"goes into\" 707."
   ]
  },
  {
   "cell_type": "code",
   "execution_count": null,
   "id": "39c34f82",
   "metadata": {},
   "outputs": [],
   "source": [
    "print( 707 // 272 )"
   ]
  },
  {
   "cell_type": "markdown",
   "id": "88aefdfd",
   "metadata": {},
   "source": [
    "Now that we know it should be twice the number in the second row subtracted from the number in the first row, we can compute the third row.\n",
    "\n",
    "$$\\begin{array}{c|rr}\n",
    "     & 979 & 707 \\\\ \\hline\n",
    " 707 & 0 & 1 \\\\\n",
    " 272 & 1 & -1 \\\\\n",
    " 163 = 707 - 2(272) & -2 = 0 - 2(1) & 3 = 1 - 2(-1)\n",
    "\\end{array}$$\n",
    "\n",
    "We can now keep doing this process until we compute a row that starts with 1. The last few rows of this example are:\n",
    "\n",
    "$$\\begin{array}{c|rr}\n",
    "     & 979 & 707 \\\\ \\hline\n",
    " 109 & 3 & -4 \\\\\n",
    "  54 & -5 & 7 \\\\\\\n",
    "   1 = 109 - 2(54) & 13 = 3 - 2(-5) & -18 = -4 - 2(7)\n",
    "\\end{array}$$\n",
    "\n",
    "Once we have the final row, we know that: $$1 = 979(13) + 707(-18)$$ which implies that $$1 \\equiv 707(-18) \\pmod{979}$$\n",
    "\n",
    "We can quickly compute the multiplicative inverse of 707 by taking the last number in the last row, and modding by the modulus, 979."
   ]
  },
  {
   "cell_type": "code",
   "execution_count": null,
   "id": "55d0fcb0",
   "metadata": {},
   "outputs": [],
   "source": [
    "print( -18 % 979 )"
   ]
  },
  {
   "cell_type": "markdown",
   "id": "7f8b6a00",
   "metadata": {},
   "source": [
    "Let's think about how we could generalize this process so we can write a function to do all this for us!\n",
    "\n",
    "Suppose we start with two numbers, $n$ and $m$ where $m$ is assumed to be the larger of the two numbers. The goal is to find the multiplicative inverse of $n$ in modulus $m$. Recall that this means $1 \\equiv n \\cdot n^{-1} \\pmod{m}$ \n",
    "\n",
    "We could set up row 1 and row 2 in the table:\n",
    "\n",
    "$$\\begin{array}{c|rr}\n",
    "     & m & n \\\\ \\hline\n",
    " m & 1 & 0 \\\\\n",
    " n & 0 & 1 \n",
    "\\end{array}$$\n",
    "\n",
    "To compute row 3, we need to know how many multiples of $n$ (we'll call this value $k$) to subtract off from $m$. We can compute $k$ using the `//` operator, `k = m // n`, and then determine row 3 as:\n",
    "\n",
    "$$\\begin{array}{c|rr}\n",
    "     & m & n \\\\ \\hline\n",
    " m & 1 & 0 \\\\\n",
    " n & 0 & 1 \\\\\n",
    " m-kn & 1 - k(0) & 0 - k(1) \\\\\n",
    "\\end{array}$$"
   ]
  },
  {
   "cell_type": "markdown",
   "id": "4e7b841e",
   "metadata": {},
   "source": [
    "After you do this for a few rows, you'd end up with a table in the form of:\n",
    "\n",
    "$$\\begin{array}{c|rr}\n",
    "     & m & n \\\\ \\hline\n",
    " ... & ... & ... \\\\\n",
    " p & b_p & a_p \\\\\n",
    " q & b_q & a_q \\\\\n",
    " p - kq & b_p - kb_p & a_p - kq_q\n",
    "\\end{array}$$\n",
    "\n",
    "If we ever get a row that starts with $1$, then the GCD between $m$ and $n$ is 1, which implies that $a$ (or $a \\pmod{m})$ is a multiplicative inverse of $n$ modulo $m$."
   ]
  },
  {
   "cell_type": "markdown",
   "id": "b8351ed0",
   "metadata": {},
   "source": [
    "### Question 1.1\n",
    "\n",
    "We'll start off with two values for $m$ and $n$ such that $m > n$. \n",
    "\n",
    "Create the first two rows of the Extended Euclidean Algorithm table, where each row is represented at a list. The first element of the list should store the value from the first column of the table, the second element in the list should store the value from the third column of the table, and the third element of the list should store the value from the third column of the table."
   ]
  },
  {
   "cell_type": "code",
   "execution_count": null,
   "id": "05ae6ce2",
   "metadata": {
    "tags": []
   },
   "outputs": [],
   "source": [
    "m = 1323\n",
    "n = 220\n",
    "\n",
    "row1 = ...\n",
    "row2 = ..."
   ]
  },
  {
   "cell_type": "code",
   "execution_count": null,
   "id": "499c7b6e",
   "metadata": {
    "deletable": false,
    "editable": false
   },
   "outputs": [],
   "source": [
    "grader.check(\"q1_1\")"
   ]
  },
  {
   "cell_type": "markdown",
   "id": "26e0494a",
   "metadata": {},
   "source": [
    "### Question 1.2\n",
    "\n",
    "Now, compute the number of multiples of row 2, $k$, that should be subtracted from row 1. You should reference the values at index 0 in each list (row 1 and row 2), not the values for $m$ and $n$ directly."
   ]
  },
  {
   "cell_type": "code",
   "execution_count": null,
   "id": "f00227af",
   "metadata": {
    "tags": []
   },
   "outputs": [],
   "source": [
    "k = ...\n",
    "print( k )"
   ]
  },
  {
   "cell_type": "code",
   "execution_count": null,
   "id": "eb23c92e",
   "metadata": {
    "deletable": false,
    "editable": false
   },
   "outputs": [],
   "source": [
    "grader.check(\"q1_2\")"
   ]
  },
  {
   "cell_type": "markdown",
   "id": "5f8f3953",
   "metadata": {},
   "source": [
    "### Question 1.3\n",
    "\n",
    "Now that we've defined row 1 and row 2 as lists, and we know how many multiples of row 2 need to be subtracted off from row 1, let's define a list for row 3, based on the two lists that hold the information about the previous 2 rows. Your definition should take the form of:\n",
    "\n",
    "`row3 = [ <computation for element 0>, <computation for element 1>, <computation for element 2> ]`"
   ]
  },
  {
   "cell_type": "code",
   "execution_count": null,
   "id": "3c1b88e8",
   "metadata": {
    "tags": []
   },
   "outputs": [],
   "source": [
    "row3 = ...\n",
    "print( row3 )"
   ]
  },
  {
   "cell_type": "code",
   "execution_count": null,
   "id": "5de78c9a",
   "metadata": {
    "deletable": false,
    "editable": false
   },
   "outputs": [],
   "source": [
    "grader.check(\"q1_3\")"
   ]
  },
  {
   "cell_type": "markdown",
   "id": "e038f3d4",
   "metadata": {},
   "source": [
    "### Question 1.4\n",
    "\n",
    "We'll now want define the rows such that row 2 $\\rightarrow$ row 1, and row 3 $\\rightarrow$ row 2 so we can repeat the process over and over until the list we compute in row 3, has a 1 as the first element.\n",
    "\n",
    "We're ready to take our work and move it into a function so we can try it out with different values for $n$ and $m$. As you fill in the function below, you should be able to reuse some of your code from earlier questions. The part you'll want to think carefully about is how to write a loop (what kind? when should it stop running?) so that when the function is done running, `row2` contains the list `[1, b, a]` where `b` and `a` are the final coefficients. \n",
    "\n",
    "**Remember:** The final `a` value in row 2 will be the multiplicative inverse of $n$ modulo $m$."
   ]
  },
  {
   "cell_type": "code",
   "execution_count": null,
   "id": "6cd4be18",
   "metadata": {
    "tags": []
   },
   "outputs": [],
   "source": [
    "def mult_inverse(n, m):\n",
    "    row1 = ...\n",
    "    row2 = ...\n",
    "    \n",
    "    # What kind of loop should go here, and under what condition should it stop running?\n",
    "    ...\n",
    "        k = ...\n",
    "\n",
    "        row3 = ...\n",
    "\n",
    "        row1 = ...\n",
    "        row2 = ...\n",
    "    \n",
    "    inverse = ...\n",
    "    \n",
    "    return inverse"
   ]
  },
  {
   "cell_type": "code",
   "execution_count": null,
   "id": "f6d0d728",
   "metadata": {
    "deletable": false,
    "editable": false
   },
   "outputs": [],
   "source": [
    "grader.check(\"q1_4\")"
   ]
  },
  {
   "cell_type": "markdown",
   "id": "87914b45",
   "metadata": {},
   "source": [
    "## Part 2: Building a Toolkit\n",
    "\n",
    "Now that you have this function you like, you should plan to hold on to it for future use! You can copy it's code and put it into a Python file for reference later. This part will walk you through creating your own Python module that you can use in a similar manner to how we've used `matplotlib` to generate bar charts."
   ]
  },
  {
   "cell_type": "markdown",
   "id": "7b5f5abd",
   "metadata": {},
   "source": [
    "### Importing From a Python File\n",
    "You'll notice there is a file named `lab03toolkit.py` in the same folder as this notebook. This file is called a Python file, and it contains ONLY Python code. It's different from a Python Notebook that we mostly work in, mostly because it can't hold any other text, images, links, etc AND when you run a Python file all the code runs at once. You can't break it down into smaller chunks of code.\n",
    "\n",
    "Double clicking on this file will open it in a new tab. You'll notice there is code for the `text_clean` function that you were asked to write in previous activities. If you wanted to use this function in your notebook, you could do so by running the cell below:"
   ]
  },
  {
   "cell_type": "code",
   "execution_count": null,
   "id": "32b1e5a3",
   "metadata": {},
   "outputs": [],
   "source": [
    "from lab03toolkit import text_clean"
   ]
  },
  {
   "cell_type": "markdown",
   "id": "82878794",
   "metadata": {},
   "source": [
    "You can probably tell from the wording that this line of code will import the `text_clean` function from the file named `lab03toolkit`. (**Notice:** you don't include the `.py` in the import statement). This import method will only work if your toolkit file is in the same folder as your notebook! There *are* ways to pull in other Python files in different folders, but it's beyond the scope of this course.\n",
    "\n",
    "Run the cell below to verify that it correct imported `text_clean`."
   ]
  },
  {
   "cell_type": "code",
   "execution_count": null,
   "id": "f7769326",
   "metadata": {},
   "outputs": [],
   "source": [
    "print( text_clean('Messy T3xt!') )"
   ]
  },
  {
   "cell_type": "markdown",
   "id": "5ae7b0f1",
   "metadata": {},
   "source": [
    "Using a Python file as a toolkit to hold all your most-used functions allows you to quickly copy your toolkit into a folder with a notebook and immediately have access to your favorite tools! In this course, I will always provide the necessary functions for a Lab or Homework assignment in an accompanying toolkit file, but that won't always be the case for an activity."
   ]
  },
  {
   "cell_type": "markdown",
   "id": "61e559ee",
   "metadata": {},
   "source": [
    "### Question 2.1\n",
    "\n",
    "Copy your `mult_inverse` function from this notebook, paste it into `lab03toolkit.py`, **rename the function to `multiplicative_inverse`**, and then save the file. In the cell below, import the newly renamed function from the toolkit, then run the tests to make sure you did this correctly."
   ]
  },
  {
   "cell_type": "code",
   "execution_count": null,
   "id": "9654e44c",
   "metadata": {
    "tags": []
   },
   "outputs": [],
   "source": [
    "..."
   ]
  },
  {
   "cell_type": "code",
   "execution_count": null,
   "id": "462dfddd",
   "metadata": {
    "deletable": false,
    "editable": false
   },
   "outputs": [],
   "source": [
    "grader.check(\"q2_1\")"
   ]
  },
  {
   "cell_type": "markdown",
   "id": "17fcd654",
   "metadata": {
    "deletable": false,
    "editable": false
   },
   "source": [
    "## Submission\n",
    "\n",
    "Make sure you have run all cells in your notebook in order before running the cell below, so that all images/graphs appear in the output. The cell below will generate a zip file for you to submit. **Please save before exporting!**\n",
    "\n",
    "When done exporting, find the `.zip` file in the left side of the screen in the file browser, right-click, and select **Download**. You'll submit this `.zip` file for the assignment Gradescope for grading."
   ]
  },
  {
   "cell_type": "code",
   "execution_count": null,
   "id": "3ffa5d59",
   "metadata": {
    "deletable": false,
    "editable": false
   },
   "outputs": [],
   "source": [
    "# Save your notebook first, then run this cell to export your submission.\n",
    "grader.export(pdf=False)"
   ]
  },
  {
   "cell_type": "markdown",
   "id": "25280e7d",
   "metadata": {},
   "source": [
    " "
   ]
  }
 ],
 "metadata": {
  "kernelspec": {
   "display_name": "Python 3 (ipykernel)",
   "language": "python",
   "name": "python3"
  },
  "language_info": {
   "codemirror_mode": {
    "name": "ipython",
    "version": 3
   },
   "file_extension": ".py",
   "mimetype": "text/x-python",
   "name": "python",
   "nbconvert_exporter": "python",
   "pygments_lexer": "ipython3",
   "version": "3.10.5"
  },
  "otter": {
   "tests": {
    "q1_1": {
     "name": "q1_1",
     "points": 1,
     "suites": [
      {
       "cases": [
        {
         "code": ">>> m > n\nTrue",
         "hidden": false,
         "locked": false
        },
        {
         "code": ">>> type(row1) == list\nTrue",
         "hidden": false,
         "locked": false
        },
        {
         "code": ">>> type(row2) == list\nTrue",
         "hidden": false,
         "locked": false
        },
        {
         "code": ">>> len(row1) == 3\nTrue",
         "hidden": false,
         "locked": false
        },
        {
         "code": ">>> len(row2) == 3\nTrue",
         "hidden": false,
         "locked": false
        },
        {
         "code": ">>> row1 == [m, 1, 0]\nTrue",
         "hidden": false,
         "locked": false
        },
        {
         "code": ">>> row2 == [n, 0, 1]\nTrue",
         "hidden": false,
         "locked": false
        }
       ],
       "scored": true,
       "setup": "",
       "teardown": "",
       "type": "doctest"
      }
     ]
    },
    "q1_2": {
     "name": "q1_2",
     "points": 1,
     "suites": [
      {
       "cases": [
        {
         "code": ">>> k\n6",
         "hidden": false,
         "locked": false
        }
       ],
       "scored": true,
       "setup": "",
       "teardown": "",
       "type": "doctest"
      }
     ]
    },
    "q1_3": {
     "name": "q1_3",
     "points": 1,
     "suites": [
      {
       "cases": [
        {
         "code": ">>> len(row3) == 3\nTrue",
         "hidden": false,
         "locked": false
        },
        {
         "code": ">>> row3\n[3, 1, -6]",
         "hidden": false,
         "locked": false
        }
       ],
       "scored": true,
       "setup": "",
       "teardown": "",
       "type": "doctest"
      }
     ]
    },
    "q1_4": {
     "name": "q1_4",
     "points": 2,
     "suites": [
      {
       "cases": [
        {
         "code": ">>> mult_inverse(220, 1323)\n439",
         "failure_message": "Your function incorrectly determined 220^-1 in modulo 1323",
         "hidden": false,
         "locked": false,
         "success_message": "Your function correctly determined 220^-1 in modulo 1323"
        },
        {
         "code": ">>> mult_inverse(707, 979)\n961",
         "failure_message": "Your function incorrectly determined 707^-1 in modulo 979",
         "hidden": false,
         "locked": false,
         "success_message": "Your function correctly determined 707^-1 in modulo 979"
        },
        {
         "code": ">>> error = False\n>>> try:\n...     mult_inverse(6, 18)\n... except ZeroDivisionError:\n...     error = True\n>>> error == True\nTrue",
         "failure_message": "Your function should produce a ZeroDivisonError if the gcd(n, m) != 1.",
         "hidden": false,
         "locked": false
        }
       ],
       "scored": true,
       "setup": "",
       "teardown": "",
       "type": "doctest"
      }
     ]
    },
    "q2_1": {
     "name": "q2_1",
     "points": 1,
     "suites": [
      {
       "cases": [
        {
         "code": ">>> imported = True\n>>> try:\n...     from lab03toolkit import multiplicative_inverse\n... except ImportError:\n...     imported = False\n>>> \n>>> imported == True\nTrue",
         "failure_message": "Your function was not imported correctly",
         "hidden": false,
         "locked": false
        },
        {
         "code": ">>> multiplicative_inverse(13, 27)\n25",
         "failure_message": "Your function was unable to compute the correct inverse",
         "hidden": false,
         "locked": false
        }
       ],
       "scored": true,
       "setup": "",
       "teardown": "",
       "type": "doctest"
      }
     ]
    }
   }
  }
 },
 "nbformat": 4,
 "nbformat_minor": 5
}
