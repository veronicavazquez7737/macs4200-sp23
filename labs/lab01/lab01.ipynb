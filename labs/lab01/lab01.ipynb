{
 "cells": [
  {
   "cell_type": "code",
   "execution_count": null,
   "id": "f9029395",
   "metadata": {
    "deletable": false,
    "editable": false
   },
   "outputs": [],
   "source": [
    "# Initialize Otter\n",
    "import otter\n",
    "grader = otter.Notebook(\"lab01.ipynb\")"
   ]
  },
  {
   "cell_type": "markdown",
   "id": "ed3c91e0",
   "metadata": {
    "cell_id": "00001-1912b5bd-0ef9-42a1-9621-6bf543733836",
    "deepnote_cell_type": "markdown"
   },
   "source": [
    "# Lab 01: Expressions\n",
    "\n",
    "Welcome to MA/CS 4200: *Cryptography*!  Throughout the course you'll complete a lab assignments like this one.  You can't learn technical subjects without hands-on practice, so labs are an important part of the course.\n",
    "\n",
    "Collaborating on labs is more than okay -- it's encouraged! You should rarely remain stuck for more than a few minutes on questions in labs, so ask a classmate or an instructor for help. Explaining things is beneficial, too -- the best way to solidify your knowledge of a subject is to explain it. You should **not** _just_ copy/paste someone else's code, but rather work together to gain understanding of the task you need to complete. \n",
    "\n",
    "## Today's lab\n",
    "\n",
    "In today's lab, you'll learn how to:\n",
    "\n",
    "1. navigate Jupyter notebooks (like this one);\n",
    "2. write and evaluate some basic *expressions* in Python, the computer language of the course;\n",
    "3. call *functions* to use code other people have written; and\n",
    "4. break down Python code into smaller parts to understand it.\n",
    "\n",
    "This lab covers parts of [Chapter 3](http://www.inferentialthinking.com/chapters/03/programming-in-python.html) of the online textbook. You should read the examples in the book, but not right now. Instead, let's get started!"
   ]
  },
  {
   "cell_type": "markdown",
   "id": "553a43aa",
   "metadata": {
    "cell_id": "00002-b1424b2b-a4ad-4684-ab4d-9cb9e9c0f4e8",
    "deepnote_cell_type": "markdown"
   },
   "source": [
    "# 1. Jupyter notebooks\n",
    "This webpage is called a Jupyter notebook. A notebook is a place to write programs and view their results, and also to write text.\n",
    "\n",
    "## 1.1. Text cells\n",
    "In a notebook, each rectangle containing text or code is called a *cell*.\n",
    "\n",
    "Text cells (like this one) can be edited by double-clicking on them. They're written in a simple format called [Markdown](http://daringfireball.net/projects/markdown/syntax) to add formatting and section headings.  You don't need to learn Markdown, but you might want to.\n",
    "\n",
    "After you edit a text cell, click the \"run cell\" button at the top that looks like ▶ or hold down `shift` + `return` to confirm any changes and automatically select the next cell. (Try not to delete the instructions of the lab.)"
   ]
  },
  {
   "cell_type": "markdown",
   "id": "a3ef2953",
   "metadata": {
    "cell_id": "00003-2fe87af9-06c6-432c-a989-62d48992a62b",
    "deepnote_cell_type": "markdown"
   },
   "source": [
    "#### Question 1.1.1.\n",
    "This paragraph is in its own text cell.  Try editing it so that this sentence is the last sentence in the paragraph, and then click the \"run cell\" ▶ button or hold down `shift` + `return`.  \n",
    "\n",
    "This sentence, for example, should be deleted.  So should this one."
   ]
  },
  {
   "cell_type": "markdown",
   "id": "3fb4fcfd",
   "metadata": {
    "cell_id": "00004-1946200e-e610-43f6-865d-99912e7d5d3f",
    "deepnote_cell_type": "markdown"
   },
   "source": [
    "## 1.2. Code cells\n",
    "Other cells contain code in the Python 3 language. Running a code cell will execute all of the code it contains.\n",
    "\n",
    "To run the code in a code cell, first click on that cell to activate it.  It'll be highlighted with a blue rectangle to the left of the cell.  Next, just like with a Markdown (text) cell, either click \"Run\" ▶ or hold down `shift` + `return` to run the code the cell contains, and then automatically move to the next cell in the notebook.\n",
    "\n",
    "Try running the cells below. Don't worry about understanding them for now, we'll go into more detail about what the code they contain do in a little bit."
   ]
  },
  {
   "cell_type": "code",
   "execution_count": null,
   "id": "5b21c56b",
   "metadata": {
    "cell_id": "00005-9f4f05a3-1116-4e8b-85fa-dfa17508f683",
    "deepnote_cell_type": "code",
    "deepnote_to_be_reexecuted": false,
    "execution_millis": 25112,
    "execution_start": 1638987379830,
    "output_cleared": false,
    "source_hash": "eba54b6"
   },
   "outputs": [],
   "source": [
    "print(\"Hello, World!\")"
   ]
  },
  {
   "cell_type": "code",
   "execution_count": null,
   "id": "508abe19",
   "metadata": {
    "cell_id": "00007-bdffc5fe-dfa6-4f9e-bad4-0508fe218dce",
    "deepnote_cell_type": "code",
    "deepnote_to_be_reexecuted": false,
    "execution_millis": 8,
    "execution_start": 1638987379832,
    "output_cleared": false,
    "source_hash": "3086cb8b"
   },
   "outputs": [],
   "source": [
    "print(\"\\N{WAVING HAND SIGN}, \\N{EARTH GLOBE ASIA-AUSTRALIA}!\")"
   ]
  },
  {
   "cell_type": "markdown",
   "id": "dbf0cfac",
   "metadata": {
    "cell_id": "00008-5fc9c341-e6e0-41d4-b253-50d1e85a2e58",
    "colab_type": "text",
    "deepnote_cell_type": "markdown",
    "id": "Z2CgrnEnlK3m"
   },
   "source": [
    "The fundamental building block of Python code is an expression. Code cells can contain multiple lines with multiple expressions. When you run a cell, the lines of code are executed in the order in which they appear. Every `print` expression prints a line. Run the next cell and notice the order of the output."
   ]
  },
  {
   "cell_type": "code",
   "execution_count": null,
   "id": "7ba886c3",
   "metadata": {
    "cell_id": "00009-758bde48-7c5c-46ba-a1b0-2718f9575387",
    "colab": {
     "base_uri": "https://localhost:8080/",
     "height": 52
    },
    "colab_type": "code",
    "deepnote_cell_type": "code",
    "deepnote_to_be_reexecuted": false,
    "execution_millis": 6,
    "execution_start": 1638987379834,
    "id": "O61iJwP-laL9",
    "outputId": "3b810e91-964e-4a4f-e59a-ba9089fa3e18",
    "output_cleared": false,
    "source_hash": "94679ded"
   },
   "outputs": [],
   "source": [
    "print('This is line one')\n",
    "print('and this is line two.')"
   ]
  },
  {
   "cell_type": "markdown",
   "id": "411fed50",
   "metadata": {
    "cell_id": "00010-74ab9a01-eb88-47b1-b646-f9619b2fff5c",
    "deepnote_cell_type": "markdown"
   },
   "source": [
    "#### Question 1.2.1.\n",
    "Change the cell above so that it prints out:\n",
    "\n",
    "    First this line,\n",
    "    then the whole 🌏,\n",
    "    and then this one.\n",
    "\n",
    "*Hint:* If you're stuck on the Earth symbol for more than a few minutes, try talking to a classmate or a teacher. That's good advice for any lab problem that you're stuck on!."
   ]
  },
  {
   "cell_type": "markdown",
   "id": "3afa46b6",
   "metadata": {
    "cell_id": "00011-e9a9b67f-952a-4457-8fc9-9a4b84df4fe6",
    "deepnote_cell_type": "markdown"
   },
   "source": [
    "## 1.3. Writing Jupyter notebooks\n",
    "You can use Jupyter notebooks for your own projects or documents.  When you make your own notebook, you'll need to create your own cells for text and code.\n",
    "\n",
    "To add a cell, click the + button in the menu bar.  It'll start out as a code cell.  You can change it to a text cell by clicking inside it so it's highlighted, clicking the drop-down box next to the restart (⟳) button in the menu bar, and choosing \"Markdown\"."
   ]
  },
  {
   "cell_type": "markdown",
   "id": "2cd3b127",
   "metadata": {
    "cell_id": "00012-385137a6-b246-463e-be91-b51d0fb21a05",
    "deepnote_cell_type": "markdown"
   },
   "source": [
    "#### Question 1.3.1.\n",
    "Add a code cell below this one.  Write code in it that prints out:\n",
    "   \n",
    "    A whole new cell! ♪🌏♪\n",
    "\n",
    "(That musical note symbol is like the Earth symbol.  Its long-form name is `\\N{EIGHTH NOTE}`.)\n",
    "\n",
    "Run your cell to verify that it works."
   ]
  },
  {
   "cell_type": "markdown",
   "id": "eb13d7ce",
   "metadata": {
    "cell_id": "00013-02fadbab-9516-4181-ade2-cb02fc229f22",
    "deepnote_cell_type": "markdown"
   },
   "source": [
    "## 1.4. Errors\n",
    "Python is a language, and like natural human languages, it has rules.  It differs from natural language in two important ways:\n",
    "1. The rules are *simple*.  You can learn most of them in a few weeks and gain reasonable proficiency with the language in a semester.\n",
    "2. The rules are *rigid*.  If you're proficient in a natural language, you can understand a non-proficient speaker, glossing over small mistakes.  A computer running Python code is not smart enough to do that.\n",
    "\n",
    "Whenever you write code, you'll make mistakes.  When you run a code cell that has errors, Python will sometimes produce error messages to tell you what you did wrong.\n",
    "\n",
    "Errors are okay; even experienced programmers make many errors.  When you make an error, you just have to find the source of the problem, fix it, and move on.\n",
    "\n",
    "We have made an error in the next cell.  Run it and see what happens."
   ]
  },
  {
   "cell_type": "code",
   "execution_count": null,
   "id": "9a356979",
   "metadata": {
    "cell_id": "00014-c4b593d3-752c-4f0e-b46f-75f3177227cf",
    "deepnote_cell_type": "code",
    "deepnote_output_heights": [
     78.75
    ],
    "deepnote_to_be_reexecuted": false,
    "execution_millis": 29,
    "execution_start": 1638987379847,
    "output_cleared": false,
    "source_hash": "4f28ac3c"
   },
   "outputs": [],
   "source": [
    "print(\"This line is missing something.\""
   ]
  },
  {
   "cell_type": "markdown",
   "id": "2e5dd837",
   "metadata": {
    "cell_id": "00015-6641c408-2154-4af0-a330-a14bb874a7a9",
    "deepnote_cell_type": "markdown"
   },
   "source": [
    "**Note:** In the toolbar, there is the option to click `Run > Run All Cells`, which will run all the code cells in this notebook in order. However, the notebook stops running code cells if it hits an error, like the one in the cell above."
   ]
  },
  {
   "cell_type": "markdown",
   "id": "c2e0d586",
   "metadata": {
    "cell_id": "00016-406af013-aa16-44c7-a608-c68702ea28df",
    "deepnote_cell_type": "markdown"
   },
   "source": [
    "You should see something like this (minus our annotations):\n",
    "![Error Message](error.jpg \"Annoted error message\")\n",
    "\n",
    "The last line of the error output attempts to tell you what went wrong.  The *syntax* of a language is its structure, and this `SyntaxError` tells you that you have created an illegal structure.  \"`EOF`\" means \"end of file,\" so the message is saying Python expected you to write something more (in this case, a right parenthesis) before finishing the cell.\n",
    "\n",
    "There's a lot of terminology in programming languages, but you don't need to know it all in order to program effectively. If you see a cryptic message like this, you can often get by without deciphering it.  (Of course, if you're frustrated, ask a classmate or teacher for help.)\n",
    "\n",
    "**Try to fix the code above so that you can run the cell and see the intended message instead of an error.**"
   ]
  },
  {
   "cell_type": "markdown",
   "id": "8887eca7",
   "metadata": {
    "cell_id": "00017-5cc3bdd1-182e-46ee-aec4-be7d39682a4b",
    "deepnote_cell_type": "markdown"
   },
   "source": [
    "## 1.5. The Kernel\n",
    "The kernel is a program that executes the code inside your notebook and outputs the results. In the top right of your window, you can see a circle that indicates the status of your kernel. If the circle is empty (⚪), the kernel is idle and ready to execute code. If the circle is filled in (⚫), the kernel is busy running some code. \n",
    "\n",
    "Next to every code cell, you'll see some square brackets that look like: `[ ]`. Before you run the cell, you'll see `[ ]`. When the cell is running, you'll see `[*]`. If you see an asterisk (\\*) next to a cell that doesn't go away, it's likely that the code inside the cell is taking too long to run, and it might be a good time to interrupt the kernel (discussed below). When a cell is finished running, you'll see a number inside the brackets, like so: `[1]`. The number corresponds to the order in which you run the cells; so, the first cell you run will show a 1 when it's finished running, the second will show a 2, and so on. \n",
    "\n",
    "You may run into problems where your kernel is stuck for an excessive amount of time, your notebook is very slow and unresponsive, or your kernel loses its connection. If this happens, try the following steps:\n",
    "1. At the top of your screen, click **Kernel**, then **Interrupt**. Trying running your code again.\n",
    "2. If that doesn't help, click **Kernel**, then **Restart**. If you do this, you will have to run your code cells from the start of your notebook up until where you paused your work.\n",
    "3. If that doesn't help, restart your server. This is very rarely needed, but it's good to know how to do just in case! First, save your work by clicking **File** at the top left of your screen, then **Save**. Next, click **File** again and choose **Hub Control Panel** and select **Stop by Server** to shut it down. Then, after a few moments select **Start My Server** to start it back up. Then, navigate back to the notebook you were working on. You'll still have to run your code cells again."
   ]
  },
  {
   "cell_type": "markdown",
   "id": "d8c67eba",
   "metadata": {
    "cell_id": "00018-781e3b2c-7b39-4403-8972-5642cfe8bcfd",
    "deepnote_cell_type": "markdown"
   },
   "source": [
    "# 2. Numbers\n",
    "\n",
    "Quantitative information arises everywhere in cryptography. In addition to representing commands to print out lines, expressions can represent numbers and methods of combining numbers. The expression `3.2500` evaluates to the number 3.25. (Run the cell and see.)"
   ]
  },
  {
   "cell_type": "code",
   "execution_count": null,
   "id": "3ea28102",
   "metadata": {
    "cell_id": "00018-086988be-cb58-4089-9272-2626c0630aaf",
    "deepnote_cell_type": "code",
    "deepnote_output_heights": [
     21.1875
    ],
    "deepnote_to_be_reexecuted": false,
    "execution_millis": 3,
    "execution_start": 1638987389396,
    "output_cleared": false,
    "source_hash": "1a2bb36e",
    "tags": []
   },
   "outputs": [],
   "source": [
    "3 + 2"
   ]
  },
  {
   "cell_type": "code",
   "execution_count": null,
   "id": "ca85276c",
   "metadata": {
    "cell_id": "00019-cd353104-155d-487a-a1cb-f4d90682d8ee",
    "deepnote_cell_type": "code",
    "deepnote_output_heights": [
     21.1875
    ],
    "deepnote_to_be_reexecuted": false,
    "execution_millis": 92,
    "execution_start": 1638987389397,
    "output_cleared": false,
    "source_hash": "6b5a05b0"
   },
   "outputs": [],
   "source": [
    "3.2500"
   ]
  },
  {
   "cell_type": "markdown",
   "id": "75259326",
   "metadata": {
    "cell_id": "00020-ed86825b-632f-4251-90a7-86475c44771a",
    "deepnote_cell_type": "markdown"
   },
   "source": [
    "Notice that we didn't have to `print`. When you run a notebook cell, if the last line has a value, then Jupyter helpfully prints out that value for you. However, it won't print out prior lines automatically."
   ]
  },
  {
   "cell_type": "code",
   "execution_count": null,
   "id": "01f17933",
   "metadata": {
    "cell_id": "00021-7adad50e-4075-47c1-87f9-05ad96f60301",
    "deepnote_cell_type": "code",
    "deepnote_output_heights": [
     null,
     21.1875
    ],
    "deepnote_to_be_reexecuted": false,
    "execution_millis": 86,
    "execution_start": 1638987389403,
    "output_cleared": false,
    "source_hash": "200996a9"
   },
   "outputs": [],
   "source": [
    "print(2)\n",
    "3\n",
    "4"
   ]
  },
  {
   "cell_type": "markdown",
   "id": "d9254b8f",
   "metadata": {
    "cell_id": "00022-a8a29173-72bb-40d0-b701-02634dc316f3",
    "deepnote_cell_type": "markdown"
   },
   "source": [
    "Above, you should see that 4 is the value of the last expression, 2 is printed, but 3 is lost forever because it was neither printed nor last.\n",
    "\n",
    "You don't want to print everything all the time anyway.  But if you feel sorry for 3, change the cell above to print it."
   ]
  },
  {
   "cell_type": "markdown",
   "id": "9011fe83",
   "metadata": {
    "cell_id": "00023-6f4bba2a-8068-48af-8a70-5f433f2159be",
    "deepnote_cell_type": "markdown"
   },
   "source": [
    "## 2.1. Arithmetic\n",
    "The line in the next cell subtracts.  Its value is what you'd expect.  Run it."
   ]
  },
  {
   "cell_type": "code",
   "execution_count": null,
   "id": "6322be19",
   "metadata": {
    "cell_id": "00024-506a32bd-2e6b-4e46-8fcc-ce53d9666123",
    "deepnote_cell_type": "code",
    "deepnote_output_heights": [
     21.1875
    ],
    "deepnote_to_be_reexecuted": false,
    "execution_millis": 72,
    "execution_start": 1638987389417,
    "output_cleared": false,
    "source_hash": "e40f2e60"
   },
   "outputs": [],
   "source": [
    "3.25 - 1.5"
   ]
  },
  {
   "cell_type": "markdown",
   "id": "4d9d6e2d",
   "metadata": {
    "cell_id": "00025-4114f720-eee5-478e-ba6c-b73e93fac730",
    "deepnote_cell_type": "markdown"
   },
   "source": [
    "Many basic arithmetic operations are built into Python.  The textbook section on [Expressions](http://www.inferentialthinking.com/chapters/03/1/expressions.html) describes all the arithmetic operators used in the course.  The common operator that differs from typical math notation is `**`, which raises one number to the power of the other. So, `2**3` stands for $2^3$ and evaluates to 8. \n",
    "\n",
    "The order of operations is the same as what you learned in elementary school, and Python also has parentheses.  For example, compare the outputs of the cells below. The second cell uses parentheses for a happy new year!"
   ]
  },
  {
   "cell_type": "code",
   "execution_count": null,
   "id": "10db6259",
   "metadata": {
    "cell_id": "00026-19425875-a5e6-4723-9491-8d7ea625da94",
    "deepnote_cell_type": "code",
    "deepnote_output_heights": [
     21.1875
    ],
    "deepnote_to_be_reexecuted": false,
    "execution_millis": 12,
    "execution_start": 1638987438994,
    "output_cleared": false,
    "source_hash": "658dfa7d"
   },
   "outputs": [],
   "source": [
    "6+6*5-6*3**2*2**3/4*7"
   ]
  },
  {
   "cell_type": "code",
   "execution_count": null,
   "id": "947e1eda",
   "metadata": {
    "cell_id": "00027-55540e2c-d9c5-4e4b-b049-8afc43a013df",
    "deepnote_cell_type": "code",
    "deepnote_output_heights": [
     21.1875
    ],
    "deepnote_to_be_reexecuted": false,
    "execution_millis": 2,
    "execution_start": 1638987439649,
    "output_cleared": false,
    "source_hash": "6a3eb170"
   },
   "outputs": [],
   "source": [
    "6+(6*5-(6*3))**2*((2**3)/4*7)"
   ]
  },
  {
   "cell_type": "markdown",
   "id": "03cc87ce",
   "metadata": {
    "cell_id": "00028-9294a43e-cb11-4e55-804e-a2d6ec7f775f",
    "deepnote_cell_type": "markdown"
   },
   "source": [
    "In standard math notation, the first expression is\n",
    "\n",
    "$$6 + 6 \\times 5 - 6 \\times 3^2 \\times \\frac{2^3}{4} \\times 7,$$\n",
    "\n",
    "while the second expression is\n",
    "\n",
    "$$6 + (6 \\times 5 - \\left(6 \\times 3)\\right)^2 \\times \\left(\\frac{(2^3)}{4} \\times 7\\right).$$"
   ]
  },
  {
   "cell_type": "markdown",
   "id": "579a9e09",
   "metadata": {
    "cell_id": "00029-84d92049-be75-43d7-98c3-049fb36a9b04",
    "deepnote_cell_type": "markdown"
   },
   "source": [
    "#### Question 2.1.1.\n",
    "Write a Python expression in this next cell that's equal to $5 \\times (3 \\frac{10}{11}) - 50 \\frac{1}{3} + 2^{.5 \\times 22} - \\frac{7}{33} + 5$.  That's five times three and ten elevenths, minus fifty and a third, plus two to the power of half twenty-two, minus seven thirty-thirds plus three.  By \"$3 \\frac{10}{11}$\" we mean $3+\\frac{10}{11}$, not $3 \\times \\frac{10}{11}$.\n",
    "\n",
    "Replace the ellipses (`...`) with your expression.  Try to use parentheses only when necessary.\n",
    "\n",
    "*Hint:* The correct output should start with a familiar number."
   ]
  },
  {
   "cell_type": "code",
   "execution_count": null,
   "id": "7c1bd6d4",
   "metadata": {
    "cell_id": "00030-f07642cf-73a6-48f6-8fd2-0ca5bed44b4a",
    "deepnote_cell_type": "code",
    "deepnote_output_heights": [
     21.1875
    ],
    "deepnote_to_be_reexecuted": false,
    "execution_millis": 2,
    "execution_start": 1638987515071,
    "output_cleared": false,
    "source_hash": "5e8b440d"
   },
   "outputs": [],
   "source": [
    "5*(3 + 10 /11 ) - (50 + 1/3) + 2 ** (.5 * 22) - 7/33 + 5 # SOLUTION"
   ]
  },
  {
   "cell_type": "markdown",
   "id": "a0fd72d8",
   "metadata": {
    "cell_id": "00031-2d906aba-4bf4-407a-8ace-d87ea4184ee5",
    "deepnote_cell_type": "markdown"
   },
   "source": [
    "# 3. Names\n",
    "In natural language, we have terminology that lets us quickly reference very complicated concepts.  We don't say, \"That's a large mammal with brown fur and sharp teeth!\"  Instead, we just say, \"Bear!\"\n",
    "\n",
    "In Python, we do this with *assignment statements*. An assignment statement has a name on the left side of an `=` sign and an expression to be evaluated on the right.\n",
    "\n",
    "For example, run the code cell below to assign a value to the name `ten`."
   ]
  },
  {
   "cell_type": "code",
   "execution_count": null,
   "id": "d312560d",
   "metadata": {
    "cell_id": "00032-e765b013-e8e5-4251-a3e1-abb9e9a3c90e",
    "deepnote_cell_type": "code",
    "deepnote_to_be_reexecuted": false,
    "execution_millis": 0,
    "execution_start": 1638987389446,
    "output_cleared": true,
    "source_hash": "42fbeeaf"
   },
   "outputs": [],
   "source": [
    "ten = 3 * 2 + 4"
   ]
  },
  {
   "cell_type": "markdown",
   "id": "ddd5259a",
   "metadata": {
    "cell_id": "00033-86497fe2-01ce-44f4-8c4d-316506dfc015",
    "deepnote_cell_type": "markdown"
   },
   "source": [
    "When you run that cell, Python first computes the value of the expression on the right-hand side, `3 * 2 + 4`, which is the number 10.  Then it assigns that value to the name `ten`.  At that point, the code in the cell is done running.\n",
    "\n",
    "After you run that cell, the value 10 is bound to the name `ten`:"
   ]
  },
  {
   "cell_type": "code",
   "execution_count": null,
   "id": "0a72a455",
   "metadata": {
    "cell_id": "00034-122dab0d-2550-4935-994b-46fa5c4d6337",
    "deepnote_cell_type": "code",
    "deepnote_output_heights": [
     21.1875
    ],
    "deepnote_to_be_reexecuted": false,
    "execution_millis": 42,
    "execution_start": 1638987389447,
    "output_cleared": false,
    "source_hash": "d8b71231"
   },
   "outputs": [],
   "source": [
    "ten"
   ]
  },
  {
   "cell_type": "markdown",
   "id": "d672ecf3",
   "metadata": {
    "cell_id": "00035-cf9412ff-e3ad-4a76-975e-ed72eac06def",
    "deepnote_cell_type": "markdown"
   },
   "source": [
    "The statement `ten = 3 * 2 + 4` is not asserting that `ten` is *already* equal to `3 * 2 + 4`, as we might expect by analogy with math notation.  Rather, that line of code *changes* what `ten` means; it now refers to the value 10, whereas before running the code cell it meant nothing at all.\n",
    "\n",
    "If the designers of Python had been ruthlessly pedantic, they might have made us write\n",
    "\n",
    "    define the name ten to hereafter have the value of 3 * 2 + 4 \n",
    "\n",
    "instead.  You will probably appreciate the brevity of \"`=`\"!  But keep in mind that this is the real meaning."
   ]
  },
  {
   "cell_type": "markdown",
   "id": "6114aac3",
   "metadata": {
    "cell_id": "00036-6a76af47-d3b3-4b73-b2b5-101aee27b4be",
    "deepnote_cell_type": "markdown"
   },
   "source": [
    "#### Question 3.1.\n",
    "In the cell below, write an expression that uses the name of a value that that hasn't been assigned to anything yet.  You'll see an error, and that's okay!"
   ]
  },
  {
   "cell_type": "code",
   "execution_count": null,
   "id": "25e7bda5",
   "metadata": {
    "cell_id": "00037-16640b57-e27b-498b-92fb-008e3cf96e17",
    "deepnote_cell_type": "code",
    "deepnote_output_heights": [
     21.1875
    ],
    "deepnote_to_be_reexecuted": false,
    "execution_millis": 38,
    "execution_start": 1638987389451,
    "output_cleared": false,
    "source_hash": "64b154da"
   },
   "outputs": [],
   "source": [
    "# Replace the ellipsis below with code that uses\n",
    "# a name that hasn't been assigned to a value\n",
    "# Note the error message you get!\n",
    "..."
   ]
  },
  {
   "cell_type": "markdown",
   "id": "b25ca8e1",
   "metadata": {
    "cell_id": "00038-4b1111b9-3683-4737-b3eb-7b70d8e91a95",
    "deepnote_cell_type": "markdown"
   },
   "source": [
    "A common pattern in Jupyter notebooks is to assign a value to a name and then immediately evaluate the name in the last line in the cell so that the value is displayed as output. "
   ]
  },
  {
   "cell_type": "code",
   "execution_count": null,
   "id": "f7fac670",
   "metadata": {
    "cell_id": "00039-ac765011-aaf2-4aab-b25c-ee2fd39273ed",
    "deepnote_cell_type": "code",
    "deepnote_output_heights": [
     21.1875
    ],
    "deepnote_to_be_reexecuted": false,
    "execution_millis": 42,
    "execution_start": 1638987389459,
    "output_cleared": false,
    "source_hash": "84e41d80"
   },
   "outputs": [],
   "source": [
    "close_to_pi = 355/113\n",
    "close_to_pi"
   ]
  },
  {
   "cell_type": "markdown",
   "id": "6c3f782d",
   "metadata": {
    "cell_id": "00040-eead7678-f9bc-42d9-90e2-7c9029c844f7",
    "deepnote_cell_type": "markdown"
   },
   "source": [
    "Another common pattern is that a series of lines in a single cell will build up a complex computation in stages, naming the intermediate results."
   ]
  },
  {
   "cell_type": "code",
   "execution_count": null,
   "id": "eaa9c452",
   "metadata": {
    "cell_id": "00041-0a3a4ae2-359f-46df-b444-0374e8157100",
    "deepnote_cell_type": "code",
    "deepnote_output_heights": [
     21.1875
    ],
    "deepnote_to_be_reexecuted": false,
    "execution_millis": 37,
    "execution_start": 1638987389464,
    "output_cleared": false,
    "source_hash": "f49d2e00"
   },
   "outputs": [],
   "source": [
    "semimonthly_salary = 841.25\n",
    "monthly_salary = 2 * semimonthly_salary\n",
    "number_of_months_in_a_year = 12\n",
    "yearly_salary = number_of_months_in_a_year * monthly_salary\n",
    "yearly_salary"
   ]
  },
  {
   "cell_type": "markdown",
   "id": "8dec5851",
   "metadata": {
    "cell_id": "00042-e4918be8-217e-40b8-b367-0d008b814f6f",
    "deepnote_cell_type": "markdown"
   },
   "source": [
    "Names in Python can have letters (upper- and lower-case letters are both okay and count as different letters), underscores, and numbers.  The first character can't be a number (otherwise a name might look like a number).  And names can't contain spaces, since spaces are used to separate pieces of code from each other.\n",
    "\n",
    "Other than those rules, what you name something doesn't matter *to Python*.  For example, this cell does the same thing as the above cell, except everything has a different name:"
   ]
  },
  {
   "cell_type": "code",
   "execution_count": null,
   "id": "f8dc9354",
   "metadata": {
    "cell_id": "00043-7531d7ee-d0dd-4779-9858-d732a473f310",
    "deepnote_cell_type": "code",
    "deepnote_output_heights": [
     21.1875
    ],
    "deepnote_to_be_reexecuted": false,
    "execution_millis": 37,
    "execution_start": 1638987389464,
    "output_cleared": false,
    "source_hash": "fa245a47"
   },
   "outputs": [],
   "source": [
    "a = 841.25\n",
    "b = 2 * a\n",
    "c = 12\n",
    "d = c * b\n",
    "d"
   ]
  },
  {
   "cell_type": "markdown",
   "id": "e36f0457",
   "metadata": {
    "cell_id": "00044-ada5e2db-223a-4075-85ca-19677ce52170",
    "deepnote_cell_type": "markdown"
   },
   "source": [
    "**However**, names are very important for making your code *readable* to yourself and others.  The cell above is shorter, but it's totally useless without an explanation of what it does."
   ]
  },
  {
   "cell_type": "markdown",
   "id": "ba9e56d1",
   "metadata": {
    "cell_id": "00045-e85649fd-381c-4620-a4e8-a98ab3bbd663",
    "deepnote_cell_type": "markdown"
   },
   "source": [
    "## 3.1. Checking your code\n",
    "Now that you know how to name things, you can start using the built-in *tests* to check whether your work is correct. Sometimes, there are multiple tests for a single question, and passing all of them is required to receive credit for the question. A test cell will always look like:\n",
    "\n",
    "```\n",
    "grader.check(\"q1_2_1\")\n",
    "```\n",
    "\n",
    "Go ahead and attempt Question 3.1.1. Running the test cell directly after it will test whether you have assigned `seconds_in_a_decade` correctly in Question 3.1.1. If you haven't, this particular test will tell you the correct answer. Resist the urge to just copy it, and instead try to adjust your expression. Additionally, if you make a common error sometimes the tests will give hints about what went wrong."
   ]
  },
  {
   "cell_type": "markdown",
   "id": "3f74c040",
   "metadata": {
    "cell_id": "00046-cd2aaa68-16e8-4575-9287-20a009637978",
    "deepnote_cell_type": "markdown"
   },
   "source": [
    "#### Question 3.1.1.\n",
    "Assign the name `seconds_in_a_decade` to the number of seconds between midnight January 1, 2010 and midnight January 1, 2020. Note that there are two leap years in this span of a decade. A non-leap year has 365 days and a leap year has 366 days.\n",
    "\n",
    "*Hint:* If you're stuck, the next section shows you how to get hints."
   ]
  },
  {
   "cell_type": "code",
   "execution_count": null,
   "id": "b70a66ec",
   "metadata": {
    "cell_id": "00047-8edc0463-044a-4cc3-b5cf-534e470bb439",
    "deepnote_cell_type": "code",
    "deepnote_output_heights": [
     21.1875
    ],
    "deepnote_to_be_reexecuted": false,
    "execution_millis": 27,
    "execution_start": 1638987389503,
    "output_cleared": false,
    "source_hash": "9a4f443",
    "tags": []
   },
   "outputs": [],
   "source": [
    "# Change the next line \n",
    "# so that it computes the number of seconds in a decade \n",
    "# and assigns that number the name, seconds_in_a_decade.\n",
    "\n",
    "seconds_in_a_decade = ...\n",
    "\n",
    "# We've put this line in this cell \n",
    "# so that it will print the value you've given to seconds_in_a_decade when you run it.  \n",
    "# You don't need to change this.\n",
    "seconds_in_a_decade"
   ]
  },
  {
   "cell_type": "code",
   "execution_count": null,
   "id": "6967c221",
   "metadata": {
    "deletable": false,
    "editable": false
   },
   "outputs": [],
   "source": [
    "grader.check(\"q3_1_1\")"
   ]
  },
  {
   "cell_type": "markdown",
   "id": "c60d2636",
   "metadata": {
    "cell_id": "00052-1f8ea259-66be-48a4-8931-fa416cfb26cb",
    "deepnote_cell_type": "markdown"
   },
   "source": [
    "# 3.2. Comments\n",
    "You may have noticed these lines in the cell in which you answered Question 3.2:\n",
    "\n",
    "    # Change the next line \n",
    "    # so that it computes the number of seconds in a decade \n",
    "    # and assigns that number the name, seconds_in_a_decade.\n",
    "    \n",
    "This is called a *comment*. It doesn't make anything happen in Python; Python ignores anything on a line after a `#`.  Instead, it's there to communicate something about the code to you, the human reader. Comments are extremely useful. \n",
    "\n",
    "\n",
    "<img src=\"http://imgs.xkcd.com/comics/future_self.png\">\n",
    "Source: http://imgs.xkcd.com/comics/future_self.png"
   ]
  },
  {
   "cell_type": "markdown",
   "id": "27fa8b77",
   "metadata": {
    "cell_id": "00053-a075b131-1081-440c-a2a7-0d715e383fa2",
    "deepnote_cell_type": "markdown"
   },
   "source": [
    "## 3.3. Application: A physics experiment\n",
    "\n",
    "On the Apollo 15 mission to the Moon, astronaut David Scott famously replicated Galileo's physics experiment in which he showed that gravity accelerates objects of different mass at the same rate. Because there is no air resistance for a falling object on the surface of the Moon, even two objects with very different masses and densities should fall at the same rate. David Scott compared a feather and a hammer.\n",
    "\n",
    "You can run the following cell to watch a video of the experiment."
   ]
  },
  {
   "cell_type": "code",
   "execution_count": null,
   "id": "dc62f0f8",
   "metadata": {
    "cell_id": "00054-aa52b881-c086-4ec9-accc-cd99b316acc4",
    "deepnote_cell_type": "code",
    "deepnote_output_heights": [
     362
    ],
    "deepnote_to_be_reexecuted": false,
    "execution_millis": 49,
    "execution_start": 1638987389521,
    "output_cleared": false,
    "source_hash": "a5611280"
   },
   "outputs": [],
   "source": [
    "from IPython.display import YouTubeVideo\n",
    "# The original URL is: \n",
    "# https://www.youtube.com/watch?v=U7db6ZeLR5s\n",
    "\n",
    "YouTubeVideo(\"U7db6ZeLR5s\")"
   ]
  },
  {
   "cell_type": "markdown",
   "id": "0685ab2b",
   "metadata": {
    "cell_id": "00055-95b7d994-0569-487e-81b6-75f2722f03ed",
    "deepnote_cell_type": "markdown"
   },
   "source": [
    "Here's the transcript of the video:\n",
    "\n",
    "**167:22:06 Scott**: Well, in my left hand, I have a feather; in my right hand, a hammer. And I guess one of the reasons we got here today was because of a gentleman named Galileo, a long time ago, who made a rather significant discovery about falling objects in gravity fields. And we thought where would be a better place to confirm his findings than on the Moon. And so we thought we'd try it here for you. The feather happens to be, appropriately, a falcon feather for our Falcon. And I'll drop the two of them here and, hopefully, they'll hit the ground at the same time. \n",
    "\n",
    "**167:22:43 Scott**: How about that!\n",
    "\n",
    "**167:22:45 Allen**: How about that! (Applause in Houston)\n",
    "\n",
    "**167:22:46 Scott**: Which proves that Mr. Galileo was correct in his findings."
   ]
  },
  {
   "cell_type": "markdown",
   "id": "c36c81aa",
   "metadata": {
    "cell_id": "00056-49c83a9b-c9e0-4e2a-b92f-c54b893a84d8",
    "deepnote_cell_type": "markdown"
   },
   "source": [
    "**Newton's Law.** Using this footage, we can also attempt to confirm another famous bit of physics: Newton's law of universal gravitation. Newton's laws predict that any object dropped near the surface of the Moon should fall\n",
    "\n",
    "$$\\frac{1}{2} G \\frac{M}{R^2} t^2 \\text{ meters}$$\n",
    "\n",
    "after $t$ seconds, where $G$ is a universal constant, $M$ is the moon's mass in kilograms, and $R$ is the moon's radius in meters.  So if we know $G$, $M$, and $R$, then Newton's laws let us predict how far an object will fall over any amount of time.\n",
    "\n",
    "To verify the accuracy of this law, we will calculate the difference between the predicted distance the hammer drops and the actual distance.  (If they are different, it might be because Newton's laws are wrong, or because our measurements are imprecise, or because there are other factors affecting the hammer for which we haven't accounted.)\n",
    "\n",
    "Someone studied the video and estimated that the hammer was dropped 113 cm from the surface. Counting frames in the video, the hammer falls for 1.2 seconds (36 frames)."
   ]
  },
  {
   "cell_type": "markdown",
   "id": "fc73019c",
   "metadata": {
    "cell_id": "00057-1a678d6b-8c51-46ca-a0d9-d5e5de81b9e2",
    "deepnote_cell_type": "markdown"
   },
   "source": [
    "#### Question 3.3.1.\n",
    "Complete the code in the next cell to fill in the data from the experiment.\n",
    "\n",
    "*Hint:* No computation required; just fill in data from the paragraph above."
   ]
  },
  {
   "cell_type": "code",
   "execution_count": null,
   "id": "1530590b",
   "metadata": {
    "cell_id": "00058-f09f6b6c-c81c-45aa-aa30-8a2010e1fbfe",
    "deepnote_cell_type": "code",
    "deepnote_to_be_reexecuted": false,
    "execution_millis": 3,
    "execution_start": 1638987389559,
    "output_cleared": true,
    "source_hash": "a554459e",
    "tags": []
   },
   "outputs": [],
   "source": [
    "# t, the duration of the fall in the experiment, in seconds.\n",
    "# Fill this in.\n",
    "time = ...\n",
    "\n",
    "# The estimated distance the hammer actually fell, in meters.\n",
    "# Fill this in.\n",
    "estimated_distance_m = ..."
   ]
  },
  {
   "cell_type": "code",
   "execution_count": null,
   "id": "7b115ada",
   "metadata": {
    "deletable": false,
    "editable": false
   },
   "outputs": [],
   "source": [
    "grader.check(\"q3_3_1\")"
   ]
  },
  {
   "cell_type": "markdown",
   "id": "7b060e06",
   "metadata": {
    "cell_id": "00064-0ce12c78-b24d-4a8e-9ac3-93a728af70da",
    "deepnote_cell_type": "markdown"
   },
   "source": [
    "#### Question 3.3.2.\n",
    "Now, complete the code in the next cell to compute the difference between the predicted and estimated distances (in meters) that the hammer fell in this experiment.\n",
    "\n",
    "This just means translating the formula above ($\\frac{1}{2}G\\frac{M}{R^2}t^2$) into Python code.  You'll have to replace each variable in the math formula with the name we gave that number in Python code.\n",
    "\n",
    "*Hint:* Try to use variables you've already defined in question 3.3.1"
   ]
  },
  {
   "cell_type": "code",
   "execution_count": null,
   "id": "dee13334",
   "metadata": {
    "cell_id": "00065-1160ccf6-8c7b-4851-9db9-a1a685f1001b",
    "deepnote_cell_type": "code",
    "deepnote_output_heights": [
     21.1875
    ],
    "deepnote_to_be_reexecuted": false,
    "execution_millis": 363,
    "execution_start": 1638987389596,
    "output_cleared": false,
    "source_hash": "6ce840d8",
    "tags": []
   },
   "outputs": [],
   "source": [
    "# First, we've written down the values of the 3 universal constants \n",
    "# that show up in Newton's formula.\n",
    "\n",
    "# G, the universal constant measuring the strength of gravity.\n",
    "gravity_constant = 6.674 * 10**-11\n",
    "\n",
    "# M, the moon's mass, in kilograms.\n",
    "moon_mass_kg = 7.34767309 * 10**22\n",
    "\n",
    "# R, the radius of the moon, in meters.\n",
    "moon_radius_m = 1.737 * 10**6\n",
    "\n",
    "# The distance the hammer should have fallen \n",
    "# over the duration of the fall, in meters, \n",
    "# according to Newton's law of gravity.  \n",
    "# The text above describes the formula\n",
    "# for this distance given by Newton's law.\n",
    "# **YOU FILL THIS PART IN.**\n",
    "predicted_distance_m = ...\n",
    "\n",
    "# Here we've computed the difference \n",
    "# between the predicted fall distance and the distance we actually measured.\n",
    "# If you've filled in the above code, this should just work.\n",
    "difference = predicted_distance_m - estimated_distance_m\n",
    "difference"
   ]
  },
  {
   "cell_type": "code",
   "execution_count": null,
   "id": "dc7b273a",
   "metadata": {
    "deletable": false,
    "editable": false
   },
   "outputs": [],
   "source": [
    "grader.check(\"q3_3_2\")"
   ]
  },
  {
   "cell_type": "markdown",
   "id": "6d456912",
   "metadata": {
    "cell_id": "00069-e728a107-386a-43e9-996f-9f4cb6aaa788",
    "deepnote_cell_type": "markdown"
   },
   "source": [
    "## 4. Calling functions\n",
    "\n",
    "The most common way to combine or manipulate values in Python is by calling functions. Python comes with many built-in functions that perform common operations.\n",
    "\n",
    "For example, the `abs` function takes a single number as its argument and returns the absolute value of that number. Run the next two cells and see if you understand the output."
   ]
  },
  {
   "cell_type": "code",
   "execution_count": null,
   "id": "22e3b41c",
   "metadata": {
    "cell_id": "00070-ced66467-98bf-4b5c-85f5-e789b599355e",
    "deepnote_cell_type": "code",
    "deepnote_output_heights": [
     21.1875
    ],
    "deepnote_to_be_reexecuted": false,
    "execution_millis": 345,
    "execution_start": 1638987389620,
    "output_cleared": false,
    "source_hash": "df54122f"
   },
   "outputs": [],
   "source": [
    "abs(5)"
   ]
  },
  {
   "cell_type": "code",
   "execution_count": null,
   "id": "c8e0014c",
   "metadata": {
    "cell_id": "00071-3f8297b0-8844-490e-afcd-f520bc0ace43",
    "deepnote_cell_type": "code",
    "deepnote_output_heights": [
     21.1875
    ],
    "deepnote_to_be_reexecuted": false,
    "execution_millis": 342,
    "execution_start": 1638987389623,
    "output_cleared": false,
    "source_hash": "8bd9dc58"
   },
   "outputs": [],
   "source": [
    "abs(-5)"
   ]
  },
  {
   "cell_type": "markdown",
   "id": "57ed1bad",
   "metadata": {
    "cell_id": "00072-bba941d2-9501-4528-ba3c-406b4fee5624",
    "deepnote_cell_type": "markdown"
   },
   "source": [
    "## 4.1. Application: Computing walking distances\n",
    "Chunhua is on the corner of 7th Avenue and 42nd Street in Midtown Manhattan, and she wants to know far she'd have to walk to get to Gramercy School on the corner of 10th Avenue and 34th Street.\n",
    "\n",
    "She can't cut across blocks diagonally, since there are buildings in the way.  She has to walk along the sidewalks.  Using the map below, she sees she'd have to walk 3 avenues (long blocks) and 8 streets (short blocks).  In terms of the given numbers, she computed 3 as the difference between 7 and 10, *in absolute value*, and 8 similarly.  \n",
    "\n",
    "Chunhua also knows that blocks in Manhattan are all about 80m by 274m (avenues are farther apart than streets).  So in total, she'd have to walk $(80 \\times |42 - 34| + 274 \\times |7 - 10|)$ meters to get to the park.\n",
    "\n",
    "<img src=\"map.jpg\">"
   ]
  },
  {
   "cell_type": "markdown",
   "id": "165d1c79",
   "metadata": {
    "cell_id": "00073-eae28da2-b769-4e53-b3d5-a362308bf2e3",
    "deepnote_cell_type": "markdown"
   },
   "source": [
    "#### Question 4.1.1.\n",
    "Fill in the line `num_avenues_away = ...` in the next cell so that the cell calculates the distance Chunhua must walk and gives it the name `manhattan_distance`.  Everything else has been filled in for you.  **Use the `abs` function.** Also, be sure to run the test cell afterward to test your code."
   ]
  },
  {
   "cell_type": "code",
   "execution_count": null,
   "id": "7bd741d5",
   "metadata": {
    "cell_id": "00074-b6227cbd-4f3a-48a0-beeb-92ccf81c55db",
    "deepnote_cell_type": "code",
    "deepnote_output_heights": [
     21.1875
    ],
    "deepnote_to_be_reexecuted": false,
    "execution_millis": 337,
    "execution_start": 1638987389628,
    "output_cleared": false,
    "source_hash": "30d63f1a",
    "tags": []
   },
   "outputs": [],
   "source": [
    "# Here's the number of streets away:\n",
    "num_streets_away = abs(42-34)\n",
    "\n",
    "# Compute the number of avenues away in a similar way:\n",
    "num_avenues_away = ...\n",
    "\n",
    "street_length_m = 80\n",
    "avenue_length_m = 274\n",
    "\n",
    "# Now we compute the total distance Chunhua must walk.\n",
    "manhattan_distance = street_length_m*num_streets_away + avenue_length_m*num_avenues_away\n",
    "\n",
    "# We've included this line so that you see the distance you've computed \n",
    "# when you run this cell.  \n",
    "# You don't need to change it, but you can if you want.\n",
    "manhattan_distance"
   ]
  },
  {
   "cell_type": "code",
   "execution_count": null,
   "id": "6d279bb9",
   "metadata": {
    "deletable": false,
    "editable": false
   },
   "outputs": [],
   "source": [
    "grader.check(\"q4_1_1\")"
   ]
  },
  {
   "cell_type": "markdown",
   "id": "d07e8ecc",
   "metadata": {
    "cell_id": "00079-fb26daaa-1487-4481-83cc-31514c1f8d4b",
    "deepnote_cell_type": "markdown"
   },
   "source": [
    "**Multiple arguments**\n",
    "\n",
    "Some functions take multiple arguments, separated by commas. For example, the built-in `max` function returns the maximum argument passed to it."
   ]
  },
  {
   "cell_type": "code",
   "execution_count": null,
   "id": "47b7d425",
   "metadata": {
    "cell_id": "00080-162ebfc9-a129-492a-ad79-cf15921a635b",
    "deepnote_cell_type": "code",
    "deepnote_output_heights": [
     21.1875
    ],
    "deepnote_to_be_reexecuted": false,
    "execution_millis": 272,
    "execution_start": 1638987389694,
    "output_cleared": false,
    "source_hash": "36596669"
   },
   "outputs": [],
   "source": [
    "max(2, -3, 4, -5)"
   ]
  },
  {
   "cell_type": "markdown",
   "id": "da065304",
   "metadata": {
    "cell_id": "00081-fa97a6ee-0799-4ec9-b4e7-48d07d78d3d5",
    "deepnote_cell_type": "markdown"
   },
   "source": [
    "# 5. Understanding nested expressions\n",
    "Function calls and arithmetic expressions can themselves contain expressions.  You saw an example in the last question:\n",
    "\n",
    "    abs(42-34)\n",
    "\n",
    "has 2 number expressions in a subtraction expression in a function call expression.  And you probably wrote something like `abs(7-10)` to compute `num_avenues_away`.\n",
    "\n",
    "Nested expressions can turn into complicated-looking code. However, the way in which complicated expressions break down is very regular.\n",
    "\n",
    "Suppose we are interested in heights that are very unusual.  We'll say that a height is unusual to the extent that it's far away on the number line from the average human height.  [An estimate](http://press.endocrine.org/doi/full/10.1210/jcem.86.9.7875?ck=nck&) of the average adult human height (averaging, we hope, over all humans on Earth today) is 1.688 meters.\n",
    "\n",
    "So if Kayla is 1.21 meters tall, then her height is $|1.21 - 1.688|$, or $.478$, meters away from the average.  Here's a picture of that:\n",
    "\n",
    "<img src=\"numberline_0.png\">\n",
    "\n",
    "And here's how we'd write that in one line of Python code:"
   ]
  },
  {
   "cell_type": "code",
   "execution_count": null,
   "id": "f6f83e9e",
   "metadata": {
    "cell_id": "00082-5b1b191d-eb40-48ff-9967-d2a761c40dd8",
    "deepnote_cell_type": "code",
    "deepnote_output_heights": [
     21.1875
    ],
    "deepnote_to_be_reexecuted": false,
    "execution_millis": 271,
    "execution_start": 1638987389695,
    "output_cleared": false,
    "source_hash": "e96b972c"
   },
   "outputs": [],
   "source": [
    "abs(1.21 - 1.688)"
   ]
  },
  {
   "cell_type": "markdown",
   "id": "e393c39b",
   "metadata": {
    "cell_id": "00083-30ad85c1-71eb-45da-91bf-68c1afeeaacc",
    "deepnote_cell_type": "markdown"
   },
   "source": [
    "What's going on here?  `abs` takes just one argument, so the stuff inside the parentheses is all part of that *single argument*.  Specifically, the argument is the value of the expression `1.21 - 1.688`.  The value of that expression is `-.478`.  That value is the argument to `abs`.  The absolute value of that is `.478`, so `.478` is the value of the full expression `abs(1.21 - 1.688)`.\n",
    "\n",
    "Picture simplifying the expression in several steps:\n",
    "\n",
    "1. `abs(1.21 - 1.688)`\n",
    "2. `abs(-.478)`\n",
    "3. `.478`\n",
    "\n",
    "In fact, that's basically what Python does to compute the value of the expression."
   ]
  },
  {
   "cell_type": "markdown",
   "id": "ba69f0d9",
   "metadata": {
    "cell_id": "00084-87b569db-a8a3-4431-bdf3-7e585eeb9ab9",
    "deepnote_cell_type": "markdown"
   },
   "source": [
    "#### Question 5.1.\n",
    "Say that Paola's height is 1.76 meters.  In the next cell, use `abs` to compute the absolute value of the difference between Paola's height and the average human height.  Give that value the name `paola_distance_from_average_m`.\n",
    "\n",
    "<img src=\"numberline_1.png\">"
   ]
  },
  {
   "cell_type": "code",
   "execution_count": null,
   "id": "adbd3e53",
   "metadata": {
    "cell_id": "00085-8e3b6982-48c3-4fc8-a05a-fbfc3c04cb2b",
    "deepnote_cell_type": "code",
    "deepnote_output_heights": [
     21.1875
    ],
    "deepnote_to_be_reexecuted": false,
    "execution_millis": 0,
    "execution_start": 1638987389696,
    "output_cleared": false,
    "source_hash": "905a1f56",
    "tags": []
   },
   "outputs": [],
   "source": [
    "# Replace the ... with an expression \n",
    "# to compute the absolute value \n",
    "# of the difference between Paola's height (1.76m) and the average human height.\n",
    "paola_distance_from_average_m = ...\n",
    "\n",
    "# Again, we've written this here \n",
    "# so that the distance you compute will get printed \n",
    "# when you run this cell.\n",
    "paola_distance_from_average_m"
   ]
  },
  {
   "cell_type": "code",
   "execution_count": null,
   "id": "62eadb98",
   "metadata": {
    "deletable": false,
    "editable": false
   },
   "outputs": [],
   "source": [
    "grader.check(\"q5_1\")"
   ]
  },
  {
   "cell_type": "markdown",
   "id": "986b1177",
   "metadata": {
    "cell_id": "00087-f1a4f741-b280-4d9a-817f-d8bb1b69c6ae",
    "deepnote_cell_type": "markdown"
   },
   "source": [
    "## 5.1. More nesting\n",
    "Now say that we want to compute the more unusual of the two heights.  We'll use the function `max`, which (again) takes two numbers as arguments and returns the larger of the two arguments.  Combining that with the `abs` function, we can compute the larger distance from average among the two heights:"
   ]
  },
  {
   "cell_type": "code",
   "execution_count": null,
   "id": "5364436d",
   "metadata": {
    "cell_id": "00088-d06ba201-29aa-46f8-acd3-b7dc9d3db55f",
    "deepnote_cell_type": "code",
    "deepnote_to_be_reexecuted": false,
    "execution_millis": 263,
    "execution_start": 1638987389703,
    "output_cleared": false,
    "source_hash": "36bd6f73"
   },
   "outputs": [],
   "source": [
    "# Just read and run this cell.\n",
    "\n",
    "kayla_height_m = 1.21\n",
    "paola_height_m = 1.76\n",
    "average_adult_height_m = 1.688\n",
    "\n",
    "# The larger distance from the average human height, among the two heights:\n",
    "larger_distance_m = max(abs(kayla_height_m - average_adult_height_m), abs(paola_height_m - average_adult_height_m))\n",
    "\n",
    "# Print out our results in a nice readable format:\n",
    "print(\"The larger distance from the average height among these two people is\", larger_distance_m, \"meters.\")"
   ]
  },
  {
   "cell_type": "markdown",
   "id": "026e9665",
   "metadata": {
    "cell_id": "00089-30c078da-248e-41e2-a740-9b1dc0096f10",
    "deepnote_cell_type": "markdown"
   },
   "source": [
    "The line where `larger_distance_m` is computed looks complicated, but we can break it down into simpler components just like we did before.\n",
    "\n",
    "The basic recipe is to repeatedly simplify small parts of the expression:\n",
    "* **Basic expressions:** Start with expressions whose values we know, like names or numbers.\n",
    "    - Examples: `paola_height_m` or `5`.\n",
    "* **Find the next simplest group of expressions:** Look for basic expressions that are directly connected to each other. This can be by arithmetic or as arguments to a function call. \n",
    "    - Example: `kayla_height_m - average_adult_height_m`.\n",
    "* **Evaluate that group:** Evaluate the arithmetic expression or function call. Use the value computed to replace the group of expressions.  \n",
    "    - Example: `kayla_height_m - average_adult_height_m` becomes `-.478`.\n",
    "* **Repeat:** Continue this process, using the value of the previously-evaluated expression as a new basic expression. Stop when we've evaluated the entire expression.\n",
    "    - Example: `abs(-.478)` becomes `.478`, and `max(.478, .072)` becomes `.478`.\n",
    "\n",
    "You can run the next cell to see a slideshow of that process."
   ]
  },
  {
   "cell_type": "code",
   "execution_count": null,
   "id": "51ea8bac",
   "metadata": {
    "cell_id": "00090-55bca1f9-4bcf-451b-902a-c6fcf511c09b",
    "deepnote_cell_type": "code",
    "deepnote_output_heights": [
     602
    ],
    "deepnote_to_be_reexecuted": false,
    "execution_millis": 256,
    "execution_start": 1638987389710,
    "output_cleared": false,
    "source_hash": "182cbb3c"
   },
   "outputs": [],
   "source": [
    "from IPython.display import IFrame\n",
    "IFrame('https://docs.google.com/presentation/d/e/2PACX-1vTiIUOa9tP4pHPesrI8p2TCp8WCOJtTb3usOacQFPfkEfvQMmX-JYEW3OnBoTmQEJWAHdBP6Mvp053G/embed?start=false&loop=false&delayms=3000', 800, 600)"
   ]
  },
  {
   "cell_type": "markdown",
   "id": "593e9e35",
   "metadata": {
    "cell_id": "00091-9113922d-d137-4318-b2fb-6b102e7a67ee",
    "deepnote_cell_type": "markdown"
   },
   "source": [
    "Ok, your turn. "
   ]
  },
  {
   "cell_type": "markdown",
   "id": "d7bbd675",
   "metadata": {
    "cell_id": "00092-cac2bba1-9d8d-4730-8432-1da5a172c89b",
    "deepnote_cell_type": "markdown"
   },
   "source": [
    "#### Question 5.1.1.\n",
    "Given the heights of players from the Golden State Warriors, write an expression that computes the smallest difference between any of the three heights. Your expression shouldn't have any numbers in it, only function calls and the names `klay`, `steph`, and `dangelo`. Give the value of your expression the name `min_height_difference`."
   ]
  },
  {
   "cell_type": "code",
   "execution_count": null,
   "id": "12d50c0b",
   "metadata": {
    "cell_id": "00093-87579394-2d78-4fe0-b7a5-d7b430a80f0b",
    "deepnote_cell_type": "code",
    "deepnote_to_be_reexecuted": false,
    "execution_millis": 2,
    "execution_start": 1638987389712,
    "output_cleared": true,
    "source_hash": "8043ada1",
    "tags": []
   },
   "outputs": [],
   "source": [
    "# The three players' heights, in meters:\n",
    "klay =  2.01 # Klay Thompson is 6'7\"\n",
    "steph = 1.91 # Steph Curry is 6'3\"\n",
    "dangelo = 1.95 # D'Angelo Russell is 6'5\"\n",
    "             \n",
    "# We'd like to look at all 3 pairs of heights, \n",
    "# compute the absolute difference between each pair, \n",
    "# and then find the smallest of those 3 absolute differences.  \n",
    "# This is left to you!  \n",
    "# If you're stuck, try computing the value for each step of the process \n",
    "# (like the difference between Klay's heigh and Steph's height) \n",
    "# on a separate line and giving it a name (like klay_steph_height_diff)6\n",
    "min_height_difference = ..."
   ]
  },
  {
   "cell_type": "code",
   "execution_count": null,
   "id": "4374d8c2",
   "metadata": {
    "deletable": false,
    "editable": false
   },
   "outputs": [],
   "source": [
    "grader.check(\"q5_1_1\")"
   ]
  },
  {
   "cell_type": "markdown",
   "id": "012493ea",
   "metadata": {
    "cell_id": "00095-bfb6e7a9-e2f2-4b51-9221-dac3258fa949",
    "deepnote_cell_type": "markdown"
   },
   "source": [
    "## 6.1 Submitting your work\n",
    "You're done with Lab 01! All assignments in the course will be distributed as notebooks like this one, and you will submit your work by doing the following:\n",
    "* Save your notebook\n",
    "* Restart the kernel and run up to this cell.\n",
    "* Run all the tests by running the cell containing `grader.check_all()`. Make sure they pass the way you expect them to.\n",
    "* Run the cell below with the code `grader.export(...)`.\n",
    "* Download the file named `lab01.zip`, found in the explorer pane on the left side of the screen.\n",
    "* Upload `lab01.zip` to the Lab 01 assignment on Canvas."
   ]
  },
  {
   "cell_type": "markdown",
   "id": "c3ad7f59",
   "metadata": {
    "deletable": false,
    "editable": false
   },
   "source": [
    "---\n",
    "\n",
    "To double-check your work, the cell below will rerun all of the autograder tests."
   ]
  },
  {
   "cell_type": "code",
   "execution_count": null,
   "id": "6f5f9ebc",
   "metadata": {
    "deletable": false,
    "editable": false
   },
   "outputs": [],
   "source": [
    "grader.check_all()"
   ]
  },
  {
   "cell_type": "markdown",
   "id": "65c5093c",
   "metadata": {
    "deletable": false,
    "editable": false
   },
   "source": [
    "## Submission\n",
    "\n",
    "Make sure you have run all cells in your notebook in order before running the cell below, so that all images/graphs appear in the output. The cell below will generate a zip file for you to submit. **Please save before exporting!**\n",
    "\n",
    "When done exporting, find the `.zip` file in the left side of the screen in the file browser, right-click, and select **Download**. You'll submit this `.zip` file for the assignment Gradescope for grading."
   ]
  },
  {
   "cell_type": "code",
   "execution_count": null,
   "id": "c3614d0a",
   "metadata": {
    "deletable": false,
    "editable": false
   },
   "outputs": [],
   "source": [
    "# Save your notebook first, then run this cell to export your submission.\n",
    "grader.export(pdf=False)"
   ]
  },
  {
   "cell_type": "markdown",
   "id": "84fd9d6f",
   "metadata": {},
   "source": [
    " "
   ]
  }
 ],
 "metadata": {
  "deepnote": {},
  "deepnote_execution_queue": [],
  "deepnote_notebook_id": "5c223fd5-875b-4e1e-896f-22432af3be66",
  "kernelspec": {
   "display_name": "Python 3 (ipykernel)",
   "language": "python",
   "name": "python3"
  },
  "language_info": {
   "codemirror_mode": {
    "name": "ipython",
    "version": 3
   },
   "file_extension": ".py",
   "mimetype": "text/x-python",
   "name": "python",
   "nbconvert_exporter": "python",
   "pygments_lexer": "ipython3",
   "version": "3.10.5"
  },
  "otter": {
   "tests": {
    "q3_1_1": {
     "name": "q3_1_1",
     "points": 1,
     "suites": [
      {
       "cases": [
        {
         "code": ">>> 'seconds_in_a_decade' in vars()\nTrue",
         "failure_message": "It looks like you didn't give anything the name seconds_in_a_decade.",
         "hidden": false,
         "locked": false,
         "success_message": "You assigned a value to the name seconds_in_a_decade"
        },
        {
         "code": ">>> seconds_in_a_decade != ...\nTrue",
         "failure_message": "It looks like you didn't change the cell to define seconds_in_a_decade.",
         "hidden": false,
         "locked": false,
         "success_message": "You changed seconds_in_a_decade from the initial value of ..."
        },
        {
         "code": ">>> seconds_in_a_decade != 315360000\nTrue",
         "failure_message": "It looks like you didn't account for leap years.",
         "hidden": false,
         "locked": false,
         "success_message": "You remember to account for leap years."
        },
        {
         "code": ">>> seconds_in_a_decade == 315532800\nTrue",
         "failure_message": "You've provided an incorrect answer, but not a common one. The correct answer is shown in this test, but see if you can figure out how to calculate it!",
         "hidden": false,
         "locked": false,
         "success_message": "Good job!"
        }
       ],
       "scored": true,
       "setup": "",
       "teardown": "",
       "type": "doctest"
      }
     ]
    },
    "q3_3_1": {
     "name": "q3_3_1",
     "points": 1,
     "suites": [
      {
       "cases": [
        {
         "code": ">>> # TEST\n>>> # Fill in the row\n>>> #   time = ...\n>>> # with something like:\n>>> #   time = 4.567\n>>> # (except with the right number)\n>>> time != ...\nTrue",
         "hidden": false,
         "locked": false
        },
        {
         "code": ">>> # TEST\n>>> # Read the text above the question to see what\n>>> # time should be.\n>>> round(time, 5)\n1.2",
         "hidden": false,
         "locked": false
        },
        {
         "code": ">>> # TEST\n>>> # Fill in the row\n>>> #   estimated_distance_m = ...\n>>> # with something like:\n>>> #   estimated_distance_m = 4.567\n>>> # (except with the right number).\n>>> estimated_distance_m != ...\nTrue",
         "hidden": false,
         "locked": false
        },
        {
         "code": ">>> # TEST\n>>> # Note that the units are meters, but the text used\n>>> # centimeters\n>>> estimated_distance_m != 113\nTrue",
         "hidden": false,
         "locked": false
        },
        {
         "code": ">>> # TEST\n>>> # Read the text above the question to see what\n>>> # estimated_distance_m should be.\n>>> round(estimated_distance_m, 5)\n1.13",
         "hidden": false,
         "locked": false
        }
       ],
       "scored": true,
       "setup": "",
       "teardown": "",
       "type": "doctest"
      }
     ]
    },
    "q3_3_2": {
     "name": "q3_3_2",
     "points": 1,
     "suites": [
      {
       "cases": [
        {
         "code": ">>> # TEST\n>>> # Fill in the line that currently says\n>>> #   predicted_distance_m = ...\n>>> # in the cell above.\n>>> predicted_distance_m != ...\nTrue",
         "hidden": false,
         "locked": false
        },
        {
         "code": ">>> # TEST\n>>> # Compute predicted distance_m using the formula in the text\n>>> # above. Hint: it should start with something like this:\n>>> #   predicted_distance_m = (1/2) * gravity_constant ...\n>>> round(predicted_distance_m, 5)\n1.17022",
         "hidden": false,
         "locked": false
        },
        {
         "code": ">>> # TEST\n>>> round(difference, 5)\n0.04022",
         "hidden": false,
         "locked": false
        }
       ],
       "scored": true,
       "setup": "",
       "teardown": "",
       "type": "doctest"
      }
     ]
    },
    "q4_1_1": {
     "name": "q4_1_1",
     "points": 1,
     "suites": [
      {
       "cases": [
        {
         "code": ">>> # TEST\n>>> # Fill in the line\n>>> #   num_avenues_away = ...\n>>> # in the cell above.\n>>> num_avenues_away != ...\nTrue",
         "hidden": false,
         "locked": false
        },
        {
         "code": ">>> # TEST\n>>> # Remember to compute the absolute value of 7-10. Traveling\n>>> # \"-3 blocks\" doesn't really make sense!\n>>> num_avenues_away != -3\nTrue",
         "hidden": false,
         "locked": false
        },
        {
         "code": ">>> # TEST\n>>> num_avenues_away\n3",
         "hidden": false,
         "locked": false
        },
        {
         "code": ">>> # TEST\n>>> manhattan_distance\n1462",
         "hidden": false,
         "locked": false
        }
       ],
       "scored": true,
       "setup": "",
       "teardown": "",
       "type": "doctest"
      }
     ]
    },
    "q5_1": {
     "name": "q5_1",
     "points": 1,
     "suites": [
      {
       "cases": [
        {
         "code": ">>> # TEST\n>>> round(paola_distance_from_average_m, 5)\n0.072",
         "hidden": false,
         "locked": false
        }
       ],
       "scored": true,
       "setup": "",
       "teardown": "",
       "type": "doctest"
      }
     ]
    },
    "q5_1_1": {
     "name": "q5_1_1",
     "points": 1,
     "suites": [
      {
       "cases": [
        {
         "code": ">>> # TEST\n>>> round(min_height_difference, 5)\n0.04",
         "hidden": false,
         "locked": false
        }
       ],
       "scored": true,
       "setup": "",
       "teardown": "",
       "type": "doctest"
      }
     ]
    }
   }
  }
 },
 "nbformat": 4,
 "nbformat_minor": 5
}
