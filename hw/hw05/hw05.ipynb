{
 "cells": [
  {
   "cell_type": "raw",
   "id": "59a97b46-fb62-4d57-9585-e35b901891b6",
   "metadata": {},
   "source": [
    "# ASSIGNMENT CONFIG\n",
    "check_all_cell: false\n",
    "export_cell:\n",
    "  pdf: false\n",
    "  force_save: false\n",
    "files: \n",
    "    - hw05toolkit.py  \n",
    "generate: true"
   ]
  },
  {
   "cell_type": "markdown",
   "id": "2abd21a4-7055-4f34-aae7-9a4f83fd71b5",
   "metadata": {},
   "source": [
    "# Homework 05: Public key encryption\n",
    "\n",
    "This homework will focus on topics covered in the final week of the course: public key cryptography."
   ]
  },
  {
   "cell_type": "markdown",
   "id": "8cd0eea7-f0bf-41e5-8f6b-8eb628a37145",
   "metadata": {},
   "source": [
    "## Helper functions \n",
    "To get you started, run the cell below to load functions that have been written in earlier homework assignments. Functions that are included:\n",
    "\n",
    "* `gcd(<a>,<b>)`. This function will compute the greatest common divisor between a and b\n",
    "* `mod_inverse(<e>, <n>)`. Computes the multiplicative inverse of e in modulus n\n",
    "* `phi(<n>)`. This is Euler’s totient function as described in 11.3 RSA\n",
    "\n",
    "You can use these functions in any of your code below after you’ve imported them."
   ]
  },
  {
   "cell_type": "code",
   "execution_count": 18,
   "id": "6f8a4c3f-3329-4ae5-8765-64b0e8f2cdd3",
   "metadata": {},
   "outputs": [],
   "source": [
    "from hw05toolkit import *"
   ]
  },
  {
   "cell_type": "markdown",
   "id": "33a3bd80-13ad-4fc7-a08f-f9be1aa293ed",
   "metadata": {},
   "source": [
    "## 1. KidRSA \n",
    "Recommended Reading: https://www.macs4200.org/chapters/11/1/kidrsa.html\n",
    "\n",
    "In this question you will implement the KidRSA algorithm."
   ]
  },
  {
   "cell_type": "raw",
   "id": "6d06c777-e458-409c-8ac8-6bb93f535e14",
   "metadata": {},
   "source": [
    "# BEGIN QUESTION\n",
    "name: q1_1\n",
    "points: 2"
   ]
  },
  {
   "cell_type": "markdown",
   "id": "2d849531-c2fe-4e9e-a23e-f08670a30f65",
   "metadata": {},
   "source": [
    "Part A: Key Generation \n",
    "Write a function kidrsa_keygen that uses the values for a, b, a_prime, and b_prime to compute a pair of public and private keys using the Kid RSA key generation algorithm. The function will return the pair of keys as a list of lists. The first key in the list should be the public key  (𝑒,𝑛)\n",
    "  and the second key in the list should be the private key  (𝑑,𝑛)\n",
    " .\n",
    "\n",
    "**Sample Test Cases:**\n",
    "```\n",
    ">>> kidrsa_keygen(3,7,5,11)\n",
    "[[103, 1169], [227, 1169]]\n",
    "\n",
    ">>> kidrsa_keygen(2,324,100,8)\n",
    "[[64702, 550017], [5500, 550017]]\n",
    "```"
   ]
  },
  {
   "cell_type": "raw",
   "id": "d91e9741-0a86-4fed-b41e-ad3a4f925d4e",
   "metadata": {},
   "source": [
    "# BEGIN SOLUTION"
   ]
  },
  {
   "cell_type": "code",
   "execution_count": 2,
   "id": "7c79b01a-8512-4b60-91ac-a9522e6eafa4",
   "metadata": {},
   "outputs": [],
   "source": [
    "def kidrsa_keygen(a, b, a_prime, b_prime):\n",
    "    # BEGIN SOLUTION\n",
    "    M = a * b - 1\n",
    "    e = a_prime * M + a\n",
    "    d = b_prime * M + b\n",
    "    n = int((e * d - 1)/M)\n",
    "    return [ [e, n], [d, n] ]\n",
    "# END SOLUTION"
   ]
  },
  {
   "cell_type": "code",
   "execution_count": 13,
   "id": "dec64f66-e498-46db-9205-5bcad2965412",
   "metadata": {},
   "outputs": [
    {
     "data": {
      "text/plain": [
       "[[64702, 550017], [5500, 550017]]"
      ]
     },
     "execution_count": 13,
     "metadata": {},
     "output_type": "execute_result"
    }
   ],
   "source": [
    "kidrsa_keygen(2,324,100,8)"
   ]
  },
  {
   "cell_type": "raw",
   "id": "d4fbee26-e2ae-4443-a7d4-06487643b159",
   "metadata": {},
   "source": [
    "# END SOLUTION"
   ]
  },
  {
   "cell_type": "raw",
   "id": "9f944c11-774e-4a44-8237-2eb97f69a6c8",
   "metadata": {},
   "source": [
    "# BEGIN TESTS"
   ]
  },
  {
   "cell_type": "code",
   "execution_count": 14,
   "id": "c1506847-d899-40ee-b666-0e35eed5967a",
   "metadata": {},
   "outputs": [
    {
     "data": {
      "text/plain": [
       "True"
      ]
     },
     "execution_count": 14,
     "metadata": {},
     "output_type": "execute_result"
    }
   ],
   "source": [
    "\"\"\" # BEGIN TEST CONFIG\n",
    "failure_message: Check that you are returning values, not printing them\n",
    "points: 0\n",
    "\"\"\" # END TEST CONFIG\n",
    "kidrsa_keygen(23, 34, 45, 56) != None"
   ]
  },
  {
   "cell_type": "code",
   "execution_count": 15,
   "id": "d5835d8a-c064-4bbd-a9a3-4dbe96ef1336",
   "metadata": {},
   "outputs": [
    {
     "data": {
      "text/plain": [
       "43770"
      ]
     },
     "execution_count": 15,
     "metadata": {},
     "output_type": "execute_result"
    }
   ],
   "source": [
    "\"\"\" # BEGIN TEST CONFIG\n",
    "failure_message: Review 11.1 in the textbook to make sure you are calculating M, e, d, and n correctly.\n",
    "points: 1\n",
    "\"\"\" # END TEST CONFIG\n",
    "kidrsa_keygen(23, 34, 45, 56)[1][0]"
   ]
  },
  {
   "cell_type": "code",
   "execution_count": 16,
   "id": "bad3e0eb-95fb-4f90-a477-84bcb77af623",
   "metadata": {},
   "outputs": [
    {
     "data": {
      "text/plain": [
       "[[18807809618, 95299175896087], [83230703061, 95299175896087]]"
      ]
     },
     "execution_count": 16,
     "metadata": {},
     "output_type": "execute_result"
    }
   ],
   "source": [
    "\"\"\" # BEGIN TEST CONFIG\n",
    "failure_message: Check that you are calculating the integer of n. If you divide by a value, python will always return a float by default.\n",
    "points: 1\n",
    "\"\"\" # END TEST CONFIG\n",
    "kidrsa_keygen(4123, 3984, 1145, 5067)"
   ]
  },
  {
   "cell_type": "raw",
   "id": "b077f552-8228-4bce-a099-e0bd5c4c6f81",
   "metadata": {},
   "source": [
    "# END TESTS"
   ]
  },
  {
   "cell_type": "raw",
   "id": "26de25c7-a5cb-4eaa-a018-1f2ea8b62466",
   "metadata": {},
   "source": [
    "# END QUESTION"
   ]
  },
  {
   "cell_type": "raw",
   "id": "6d564f30-f22f-441e-84fa-f187f299bb78",
   "metadata": {},
   "source": [
    "# BEGIN QUESTION\n",
    "name: q1_1\n",
    "points: 3"
   ]
  },
  {
   "cell_type": "markdown",
   "id": "97d6188a-5745-41a4-83e4-de0c781b3fc7",
   "metadata": {},
   "source": [
    "### Part B: Encryption / Decryption\n",
    "\n",
    "Write a function `kidrsa` that takes in a numerical integer message, a list containing either a public or private key, and encrypts or decrypts the message. Since the process for encryption and decryption are identical, you do not need a boolean `encipher` parameter as in earlier homework assignments and labs.\n",
    "\n",
    "`kidrsa` should output a numerical integer that represents ciphertext when the function is provided numerical plaintext, and vice-versa.\n",
    "\n",
    "**Reminder:** Your message, `message`, must be less than the modulus `n` from the key **and** be relatively prime to `n` (i.e `gcd(m,n) == 1`). Your function must check for this condition and return the boolean value `False` if it does not meet these criteria.\n",
    "\n",
    "**Sample Test Cases**:\n",
    "```\n",
    ">>> kidrsa( 348, [18221, 347273])\n",
    "89994\n",
    "\n",
    ">>> kidrsa( 89994, [9377, 347273])\n",
    "348\n",
    "```\n",
    "\n",
    "If `message` $\\gt n$\n",
    "```\n",
    ">>> kidrsa( 500000, [18221, 347273])\n",
    "False\n",
    "```\n",
    "\n",
    "If `gcd(message, n)` $\\neq 1$\n",
    "```\n",
    ">>> kidrsa( 61, [18221, 347273])\n",
    "False\n",
    "```"
   ]
  },
  {
   "cell_type": "markdown",
   "id": "6c35e1a4-b17c-4b03-bf65-166e19b9f72d",
   "metadata": {},
   "source": [
    "_Type your answer here, replacing this text._"
   ]
  },
  {
   "cell_type": "raw",
   "id": "272f8bb1-09a4-473b-a22c-a363fe2a06f6",
   "metadata": {},
   "source": [
    "# BEGIN SOLUTION"
   ]
  },
  {
   "cell_type": "code",
   "execution_count": 3,
   "id": "341446ba-10d0-4175-99b2-7d73cf023cd7",
   "metadata": {},
   "outputs": [],
   "source": [
    "def kidrsa(message, key, encrypt=True):\n",
    "    \n",
    "    # BEGIN SOLUTION\n",
    "    e_or_d = key[0]\n",
    "    n = key[1]\n",
    "    if message >= n:\n",
    "        return False\n",
    "    if gcd(message, n) != 1:\n",
    "        return False\n",
    "    plaintext = (message * e_or_d) % n\n",
    "    return (plaintext)\n",
    "\n",
    "# END SOLUTION"
   ]
  },
  {
   "cell_type": "raw",
   "id": "804d6ba3-1c30-4f6f-b6f1-537a9d28ab0f",
   "metadata": {},
   "source": [
    "# END SOLUTION"
   ]
  },
  {
   "cell_type": "code",
   "execution_count": 33,
   "id": "42d83b24-566b-4ee9-8c6a-13335d8a3a2b",
   "metadata": {},
   "outputs": [],
   "source": [
    "# You test your function here"
   ]
  },
  {
   "cell_type": "raw",
   "id": "f40d5da2-dbb5-4fac-8c6b-abcb14497890",
   "metadata": {},
   "source": [
    "# BEGIN TESTS"
   ]
  },
  {
   "cell_type": "code",
   "execution_count": 34,
   "id": "56b8d5ff-16a4-4f99-a885-63aeea594db6",
   "metadata": {},
   "outputs": [
    {
     "data": {
      "text/plain": [
       "True"
      ]
     },
     "execution_count": 34,
     "metadata": {},
     "output_type": "execute_result"
    }
   ],
   "source": [
    "\"\"\" # BEGIN TEST CONFIG\n",
    "failure_message: Check that you are returning and not printing.\n",
    "points: 1\n",
    "\"\"\" # END TEST CONFIG\n",
    "kidrsa(93,[17,101]) != None"
   ]
  },
  {
   "cell_type": "code",
   "execution_count": 35,
   "id": "a66fa600-1bd8-4450-a683-b718cc04207f",
   "metadata": {},
   "outputs": [
    {
     "data": {
      "text/plain": [
       "66"
      ]
     },
     "execution_count": 35,
     "metadata": {},
     "output_type": "execute_result"
    }
   ],
   "source": [
    "\"\"\" # BEGIN TEST CONFIG\n",
    "failure_message: Check that you are multiplying and modding by the right elements in the key.\n",
    "points: 1\n",
    "\"\"\" # END TEST CONFIG\n",
    "kidrsa(93,[17,101])"
   ]
  },
  {
   "cell_type": "code",
   "execution_count": 38,
   "id": "1423b666-8f44-492e-9f7f-1a175ad18e01",
   "metadata": {},
   "outputs": [
    {
     "data": {
      "text/plain": [
       "False"
      ]
     },
     "execution_count": 38,
     "metadata": {},
     "output_type": "execute_result"
    }
   ],
   "source": [
    "\"\"\" # BEGIN TEST CONFIG\n",
    "failure_message: Check that you are returning False if the message and the mod are not relatively prime.\n",
    "\"\"\" # END TEST CONFIG\n",
    "kidrsa(90,[11,100])"
   ]
  },
  {
   "cell_type": "raw",
   "id": "5d02fa90-a555-42bb-90ea-09894d18e223",
   "metadata": {},
   "source": [
    "# END TESTS"
   ]
  },
  {
   "cell_type": "raw",
   "id": "5a807bca-26b3-4163-9c4c-f050297b7db5",
   "metadata": {},
   "source": [
    "# END QUESTION"
   ]
  },
  {
   "cell_type": "raw",
   "id": "81bb8886-7cfb-4685-b0a5-793a13637679",
   "metadata": {},
   "source": [
    "# BEGIN QUESTION\n",
    "name: q2_1\n",
    "points: 3\n",
    "manual: false"
   ]
  },
  {
   "cell_type": "markdown",
   "id": "e7310ca7-c508-4c72-b2e9-81825411ae58",
   "metadata": {},
   "source": [
    "### Part C: Cracking Keys\n",
    "\n",
    "KidRSA is not secure because it's fairly easy and fast to determine a private key if you have someone's private key. Write a function `crack_kidrsa` that accepts a public key (as a list) as the input, and returns the private key.\n",
    "\n",
    "`crack_kidrsa` must return an a list that represents the private key formatted as `[d, n]`. `crack_kidrsa` must check to ensure that the provided value of `e` has an inverse in mod `n`. If they aren't the function should return the boolean value `False`\n",
    "\n",
    "**HINT:** You should not brute force this! You should use the `mod_inverse` function to help here. `mod_inverse` returns the boolean value `False` if there is no multiplicative inverse found. \n",
    "\n",
    "**Sample Test Cases**:\n",
    "```\n",
    ">>> crack_kidrsa( [18221, 347273] )\n",
    "[9377, 347273]\n",
    "\n",
    ">>> crack_kidrsa( [4, 12] )\n",
    "False\n",
    "```"
   ]
  },
  {
   "cell_type": "raw",
   "id": "43f9eac3-b9de-4def-bca3-5a65137738dc",
   "metadata": {},
   "source": [
    "# BEGIN SOLUTION"
   ]
  },
  {
   "cell_type": "code",
   "execution_count": 39,
   "id": "2171e04b-0387-4ae6-9d74-baf763371646",
   "metadata": {},
   "outputs": [],
   "source": [
    "def crack_kidrsa(public_key):\n",
    "    e = public_key[0] # SOLUTION\n",
    "    n = public_key[1] # SOLUTION\n",
    "    d = mod_inverse(e,n) # SOLUTION\n",
    "    # BEGIN SOLUTION\n",
    "    \n",
    "    if d == False:\n",
    "        return False\n",
    "    if n <= e:\n",
    "        return False\n",
    "    \n",
    "    \n",
    "    \n",
    "    return [d,n]\n",
    "# END SOLUTION"
   ]
  },
  {
   "cell_type": "raw",
   "id": "2293ab73-9bcd-4367-b63d-3e130afd6dbf",
   "metadata": {},
   "source": [
    "# END SOLUTION"
   ]
  },
  {
   "cell_type": "markdown",
   "id": "f78db8c8-6868-42aa-bd83-376147263b62",
   "metadata": {},
   "source": [
    "Use the empty cell below to put your function through a few tests of your own, then run the autograder cell."
   ]
  },
  {
   "cell_type": "raw",
   "id": "83a3d1d2-652a-4401-af16-a460030c081d",
   "metadata": {},
   "source": [
    "# BEGIN TESTS"
   ]
  },
  {
   "cell_type": "code",
   "execution_count": 40,
   "id": "143800ed-387d-4583-9165-d4b34a79d9d2",
   "metadata": {},
   "outputs": [],
   "source": [
    "# You test your function here"
   ]
  },
  {
   "cell_type": "code",
   "execution_count": 41,
   "id": "137e0f7a-878b-4a7a-a23e-d2117fd62735",
   "metadata": {},
   "outputs": [
    {
     "data": {
      "text/plain": [
       "True"
      ]
     },
     "execution_count": 41,
     "metadata": {},
     "output_type": "execute_result"
    }
   ],
   "source": [
    "\"\"\" # BEGIN TEST CONFIG\n",
    "failure_message: Check that you are returning and not printing.\n",
    "points: 1\n",
    "\"\"\" # END TEST CONFIG\n",
    "crack_kidrsa([17,101]) != None"
   ]
  },
  {
   "cell_type": "code",
   "execution_count": 42,
   "id": "aad57274-1ce6-4fef-8377-1dcbcdb2726d",
   "metadata": {},
   "outputs": [
    {
     "data": {
      "text/plain": [
       "[6, 101]"
      ]
     },
     "execution_count": 42,
     "metadata": {},
     "output_type": "execute_result"
    }
   ],
   "source": [
    "\"\"\" # BEGIN TEST CONFIG\n",
    "failure_message: Check that you are taking in the right part of the key as the mod and the encipher value.\n",
    "points: 1\n",
    "\"\"\" # END TEST CONFIG\n",
    "crack_kidrsa([17,101])"
   ]
  },
  {
   "cell_type": "code",
   "execution_count": 43,
   "id": "6c95c5d2-aa76-4587-98dd-53857b86af02",
   "metadata": {},
   "outputs": [
    {
     "data": {
      "text/plain": [
       "True"
      ]
     },
     "execution_count": 43,
     "metadata": {},
     "output_type": "execute_result"
    }
   ],
   "source": [
    "\"\"\" # BEGIN TEST CONFIG\n",
    "failure_message: Use a conditional so your program returns False if the key and mod are not relatively prime or if the mod is smaller than the key.\n",
    "points: 1\n",
    "\"\"\" # END TEST CONFIG\n",
    "crack_kidrsa([820003, 5001]) == crack_kidrsa([100,200]) and crack_kidrsa([100,200]) == False"
   ]
  },
  {
   "cell_type": "raw",
   "id": "410d28ab-ee07-4653-b66d-4c4f3ca01586",
   "metadata": {},
   "source": [
    "# END TESTS"
   ]
  },
  {
   "cell_type": "raw",
   "id": "2748576d-e563-42f2-8dee-6ff223bfa28f",
   "metadata": {},
   "source": [
    "# END QUESTION"
   ]
  },
  {
   "cell_type": "markdown",
   "id": "c5ea52c9-10d2-4618-8a26-4d2dc1a27bea",
   "metadata": {},
   "source": [
    "## 2. The RSA Cipher\n",
    "\n",
    "*Recommended Reading:* https://www.macs4200.org/chapters/11/3/rsa.html"
   ]
  },
  {
   "cell_type": "raw",
   "id": "9310ea83-1c12-47b9-ab83-4859dba83d32",
   "metadata": {},
   "source": [
    "# BEGIN QUESTION\n",
    "name: q3_1\n",
    "points: 3\n",
    "manual: false"
   ]
  },
  {
   "cell_type": "markdown",
   "id": "26357a00-6f1d-4218-9d36-90ca38cbb59e",
   "metadata": {},
   "source": [
    "### Part A: Key Generation\n",
    "\n",
    "Write a function `rsa_keygen` that uses the prime integers `p` and `q`, and the encryption exponent `e` to compute a pair of public and private keys using the RSA key generation algorithm. `e` should take on the default value of `65537`. \n",
    "\n",
    "The function must return the pair of keys as a list of lists. The first key in the list should be the public key $\\left(e,n\\right)$ and the second key in the list should be the private key $\\left(d,n\\right)$.\n",
    "\n",
    "`rsa_keygen` must check that `e` is a valid encryption exponent. If it's not, `kid_rsa` should return the boolean value `False`\n",
    "\n",
    "**Reminder:**  $e$ and $\\varphi(n)$ need to be relatively prime for $e$ to be valid.\n",
    "\n",
    "**Sample Test Cases**:\n",
    "```\n",
    ">>> rsa_keygen(3, 11, 3)\n",
    "[(3, 33), (7, 33)]\n",
    "\n",
    ">>> rsa_keygen(1787, 3881)\n",
    "[(65537, 6935347), (5655233, 6935347)]\n",
    "\n",
    ">>> rsa_keygen(1787, 3881, e=36)\n",
    "False\n",
    "```"
   ]
  },
  {
   "cell_type": "raw",
   "id": "5d1b234f-f739-4b16-a36c-e6fa5f64c873",
   "metadata": {},
   "source": [
    "# BEGIN SOLUTION"
   ]
  },
  {
   "cell_type": "code",
   "execution_count": 16,
   "id": "04cabfd7-6115-4056-8848-bb367ba48693",
   "metadata": {},
   "outputs": [],
   "source": [
    "def rsa_keygen(p, q, e=65537):\n",
    "    \n",
    "    \n",
    "    n = p*q # SOLUTION\n",
    "    my_phi = (p-1)*(q-1) # SOLUTION\n",
    "    d = mod_inverse(e,my_phi) % my_phi # SOLUTION\n",
    "    \n",
    "    if gcd(e, my_phi) != 1: # SOLUTION NO PROMPT\n",
    "        return False  # SOLUTION NO PROMPT\n",
    "     \n",
    "    \n",
    "    return [ [e,n], [d,n] ]"
   ]
  },
  {
   "cell_type": "raw",
   "id": "2a3fb0d4-96a2-4d9b-b5c4-f40bd11d5e55",
   "metadata": {},
   "source": [
    "# END SOLUTION"
   ]
  },
  {
   "cell_type": "raw",
   "id": "3b38f0fb-af82-4bd4-ae42-9a9f6a9fc3ad",
   "metadata": {},
   "source": [
    "# BEGIN TESTS"
   ]
  },
  {
   "cell_type": "code",
   "execution_count": 19,
   "id": "bcf2e49a-2724-4183-b466-d325ee0887e1",
   "metadata": {},
   "outputs": [
    {
     "data": {
      "text/plain": [
       "True"
      ]
     },
     "execution_count": 19,
     "metadata": {},
     "output_type": "execute_result"
    }
   ],
   "source": [
    "\"\"\" # BEGIN TEST CONFIG\n",
    "failure_message: Remember to return, not print.\n",
    "points: 1\n",
    "\"\"\" # END TEST CONFIG\n",
    "rsa_keygen(13, 11, 17) != None"
   ]
  },
  {
   "cell_type": "code",
   "execution_count": 32,
   "id": "39512a7f-2714-489a-9f4f-b88a11f3c505",
   "metadata": {},
   "outputs": [
    {
     "data": {
      "text/plain": [
       "[[233, 1679], [809, 1679]]"
      ]
     },
     "execution_count": 32,
     "metadata": {},
     "output_type": "execute_result"
    }
   ],
   "source": [
    "\"\"\" # BEGIN TEST CONFIG\n",
    "failure_message: You may wish to check your mod_inverse program or check that you calculated phi correctly.\n",
    "points: 1\n",
    "\"\"\" # END TEST CONFIG\n",
    "rsa_keygen(23,73, 233)"
   ]
  },
  {
   "cell_type": "code",
   "execution_count": 33,
   "id": "f9e39c70-3d22-4a5c-ac3a-66fdc2a71f64",
   "metadata": {},
   "outputs": [
    {
     "data": {
      "text/plain": [
       "False"
      ]
     },
     "execution_count": 33,
     "metadata": {},
     "output_type": "execute_result"
    }
   ],
   "source": [
    "\"\"\" # BEGIN TEST CONFIG\n",
    "failure_message: Use a conditional so your program returns False if e and phi are not relatively prime.\n",
    "points: 1\n",
    "\"\"\" # END TEST CONFIG\n",
    "rsa_keygen(33,73, 234)"
   ]
  },
  {
   "cell_type": "raw",
   "id": "dc468042-cca8-4307-b8f8-c4b1fcf8386b",
   "metadata": {},
   "source": [
    "# END TESTS"
   ]
  },
  {
   "cell_type": "markdown",
   "id": "8382f3fa-39cd-45b0-b6f7-8277ebfa72cc",
   "metadata": {},
   "source": [
    "Use the empty cell below to put your function through a few tests of your own, then run the autograder cell."
   ]
  },
  {
   "cell_type": "code",
   "execution_count": null,
   "id": "6ba4c264-6b6a-4a15-8c96-31f244acb621",
   "metadata": {},
   "outputs": [],
   "source": [
    "# You test your function here\n"
   ]
  },
  {
   "cell_type": "raw",
   "id": "600c61db-0c24-442c-9040-6ef3bd9b7cc8",
   "metadata": {},
   "source": [
    "# END QUESTION"
   ]
  },
  {
   "cell_type": "raw",
   "id": "699933c5-29bb-49b8-8006-6ee433716ce0",
   "metadata": {},
   "source": [
    "# BEGIN QUESTION\n",
    "name: q4_1\n",
    "points: 3\n",
    "manual: false"
   ]
  },
  {
   "cell_type": "markdown",
   "id": "d1a7bb6c-3d66-4f6d-8288-cd33160b3edd",
   "metadata": {},
   "source": [
    "### Part B: Encryption / Decryption\n",
    "\n",
    "Write a function `rsa` that takes in a numerical integer message, a list containing either a public or private key, and encrypts or decrypts the message. Since the process for encryption and decryption are identical, you do not need a boolean `encipher` parameter as in earlier homework assignments and labs.\n",
    "\n",
    "`rsa` should output a numerical integer that represents ciphertext when the function is provided numerical plaintext, and vice-versa.\n",
    "\n",
    "**Reminder:** Your message, `message`, must be less than the modulus `n` from the key. Your function must check for this condition and return the boolean value `False` if it does not meet the criteria.\n",
    "\n",
    "**Hint:** You should use the `pow` function instead of the `**` operator so you're using the fast modular exponentiation algorithm. This will drastically reduce the time to encrypt or decrypt a message. The numbers in this example are far too large for Python to efficiently carry out the exponentiation with the `**` operator!\n",
    "\n",
    "**Sample Test Cases**:\n",
    "```\n",
    ">>> rsa( 5, [3,33] )\n",
    "26\n",
    "\n",
    ">>> rsa( 26, (7,33) )\n",
    "5\n",
    "\n",
    ">>> rsa( 234712, [65537, 6935347])\n",
    "2678654\n",
    "\n",
    ">>> rsa( 2678654, [5655233, 6935347])\n",
    "234712\n",
    "\n",
    "m > n case\n",
    ">>> rsa( 26786543243423, [5655233, 6935347])\n",
    "False\n",
    "```"
   ]
  },
  {
   "cell_type": "raw",
   "id": "dc902809-adbb-4522-aeb9-214f7ef5f69a",
   "metadata": {},
   "source": [
    "# BEGIN SOLUTION"
   ]
  },
  {
   "cell_type": "code",
   "execution_count": 20,
   "id": "0e2ea32d-bc8e-4772-a589-fc3bda721686",
   "metadata": {},
   "outputs": [],
   "source": [
    "def rsa(message, key):\n",
    "    e_or_d = key[0] # SOLUTION\n",
    "    n = key[1] # SOLUTION\n",
    "    \n",
    "    # BEGIN SOLUTION\n",
    "    \n",
    "    if message > n:\n",
    "        return False\n",
    "    \n",
    "    \n",
    "    \n",
    "    return pow(message, e_or_d, n)\n",
    "\n",
    "# END SOLUTION"
   ]
  },
  {
   "cell_type": "markdown",
   "id": "647b1203-4b59-4d49-9510-f34bafc5851b",
   "metadata": {},
   "source": [
    "Use the empty cell below to put your function through a few tests of your own, then run the autograder cell."
   ]
  },
  {
   "cell_type": "code",
   "execution_count": 10,
   "id": "144487dd-90b1-4244-8563-3cb9febba6f6",
   "metadata": {},
   "outputs": [],
   "source": [
    "# You test your function here"
   ]
  },
  {
   "cell_type": "raw",
   "id": "4d3ef7b9-778a-409a-b550-35361684e67b",
   "metadata": {},
   "source": [
    "# END SOLUTION"
   ]
  },
  {
   "cell_type": "raw",
   "id": "53b84122-cf69-498e-a6c7-442c2949233e",
   "metadata": {},
   "source": [
    "# BEGIN TESTS"
   ]
  },
  {
   "cell_type": "code",
   "execution_count": 11,
   "id": "f0c81963-6d59-4648-a9d0-a97351eb0456",
   "metadata": {},
   "outputs": [
    {
     "data": {
      "text/plain": [
       "47"
      ]
     },
     "execution_count": 11,
     "metadata": {},
     "output_type": "execute_result"
    }
   ],
   "source": [
    "\"\"\" # BEGIN TEST CONFIG\n",
    "failure_message: Remember to return, not print.\n",
    "points: 1\n",
    "\"\"\" # END TEST CONFIG\n",
    "rsa(5, [67,91])"
   ]
  },
  {
   "cell_type": "code",
   "execution_count": 12,
   "id": "1ab59860-16c2-44c0-8ef7-b8bf4a372b58",
   "metadata": {},
   "outputs": [
    {
     "data": {
      "text/plain": [
       "729161"
      ]
     },
     "execution_count": 12,
     "metadata": {},
     "output_type": "execute_result"
    }
   ],
   "source": [
    "\"\"\" # BEGIN TEST CONFIG\n",
    "failure_message: Remember to use pow and not **.\n",
    "points: 1\n",
    "\"\"\" # END TEST CONFIG\n",
    "rsa(9329802, [4103916,9966745])"
   ]
  },
  {
   "cell_type": "code",
   "execution_count": 14,
   "id": "09dc6d30-70ac-4700-9af7-efe42dc12eba",
   "metadata": {},
   "outputs": [
    {
     "data": {
      "text/plain": [
       "False"
      ]
     },
     "execution_count": 14,
     "metadata": {},
     "output_type": "execute_result"
    }
   ],
   "source": [
    "\"\"\" # BEGIN TEST CONFIG\n",
    "failure_message: Remember to return false if the message is larger than the mod.\n",
    "points: 1\n",
    "\"\"\" # END TEST CONFIG\n",
    "rsa(1729493, [1919281, 17])"
   ]
  },
  {
   "cell_type": "raw",
   "id": "473a0611-25de-4389-9709-c042d27246ad",
   "metadata": {},
   "source": [
    "# END TESTS"
   ]
  },
  {
   "cell_type": "raw",
   "id": "39cf9265-5366-4b16-ab02-798bbc6f0a0e",
   "metadata": {},
   "source": [
    "# END QUESTION"
   ]
  }
 ],
 "metadata": {
  "kernelspec": {
   "display_name": "Python 3 (ipykernel)",
   "language": "python",
   "name": "python3"
  },
  "language_info": {
   "codemirror_mode": {
    "name": "ipython",
    "version": 3
   },
   "file_extension": ".py",
   "mimetype": "text/x-python",
   "name": "python",
   "nbconvert_exporter": "python",
   "pygments_lexer": "ipython3",
   "version": "3.10.5"
  }
 },
 "nbformat": 4,
 "nbformat_minor": 5
}
