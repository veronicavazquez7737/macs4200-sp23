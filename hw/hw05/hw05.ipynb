{
 "cells": [
  {
   "cell_type": "code",
   "execution_count": null,
   "id": "031b67e0",
   "metadata": {
    "deletable": false,
    "editable": false
   },
   "outputs": [],
   "source": [
    "# Initialize Otter\n",
    "import otter\n",
    "grader = otter.Notebook(\"hw05.ipynb\")"
   ]
  },
  {
   "cell_type": "markdown",
   "id": "793e1f87",
   "metadata": {},
   "source": [
    "# Homework 05: Public key encryption\n",
    "\n",
    "This homework will focus on topics covered in the final week of the course: public key cryptography."
   ]
  },
  {
   "cell_type": "markdown",
   "id": "08105919",
   "metadata": {},
   "source": [
    "## Helper functions \n",
    "To get you started, run the cell below to load functions that have been written in earlier homework assignments. Functions that are included:\n",
    "\n",
    "* `gcd(<a>,<b>)`. This function will compute the greatest common divisor between a and b\n",
    "* `mod_inverse(<e>, <n>)`. Computes the multiplicative inverse of e in modulus n\n",
    "* `phi(<n>)`. This is Euler’s totient function as described in 11.3 RSA\n",
    "\n",
    "You can use these functions in any of your code below after you’ve imported them."
   ]
  },
  {
   "cell_type": "code",
   "execution_count": null,
   "id": "3b6740d5",
   "metadata": {},
   "outputs": [],
   "source": [
    "from hw05toolkit import *"
   ]
  },
  {
   "cell_type": "markdown",
   "id": "59e7a478",
   "metadata": {},
   "source": [
    "## 1. KidRSA \n",
    "Recommended Reading: https://www.macs4200.org/chapters/11/1/kidrsa.html\n",
    "\n",
    "In this question you will implement the KidRSA algorithm."
   ]
  },
  {
   "cell_type": "markdown",
   "id": "8379bbe9",
   "metadata": {},
   "source": [
    "Part A: Key Generation \n",
    "Write a function kidrsa_keygen that uses the values for a, b, a_prime, and b_prime to compute a pair of public and private keys using the Kid RSA key generation algorithm. The function will return the pair of keys as a list of lists. The first key in the list should be the public key  (𝑒,𝑛)\n",
    "  and the second key in the list should be the private key  (𝑑,𝑛)\n",
    " .\n",
    "\n",
    "**Sample Test Cases:**\n",
    "```\n",
    ">>> kidrsa_keygen(3,7,5,11)\n",
    "[[103, 1169], [227, 1169]]\n",
    "\n",
    ">>> kidrsa_keygen(2,324,100,8)\n",
    "[[64702, 550017], [5500, 550017]]\n",
    "```"
   ]
  },
  {
   "cell_type": "code",
   "execution_count": null,
   "id": "d6b17537",
   "metadata": {
    "tags": []
   },
   "outputs": [],
   "source": [
    "def kidrsa_keygen(a, b, a_prime, b_prime):\n",
    "    ..."
   ]
  },
  {
   "cell_type": "code",
   "execution_count": null,
   "id": "67e25b6e",
   "metadata": {
    "tags": []
   },
   "outputs": [],
   "source": [
    "kidrsa_keygen(2,324,100,8)"
   ]
  },
  {
   "cell_type": "code",
   "execution_count": null,
   "id": "c6b17414",
   "metadata": {
    "deletable": false,
    "editable": false
   },
   "outputs": [],
   "source": [
    "grader.check(\"q1_1\")"
   ]
  },
  {
   "cell_type": "markdown",
   "id": "60ee3569",
   "metadata": {},
   "source": [
    "### Part B: Encryption / Decryption\n",
    "\n",
    "Write a function `kidrsa` that takes in a numerical integer message, a list containing either a public or private key, and encrypts or decrypts the message. Since the process for encryption and decryption are identical, you do not need a boolean `encipher` parameter as in earlier homework assignments and labs.\n",
    "\n",
    "`kidrsa` should output a numerical integer that represents ciphertext when the function is provided numerical plaintext, and vice-versa.\n",
    "\n",
    "**Reminder:** Your message, `message`, must be less than the modulus `n` from the key **and** be relatively prime to `n` (i.e `gcd(m,n) == 1`). Your function must check for this condition and return the boolean value `False` if it does not meet these criteria.\n",
    "\n",
    "**Sample Test Cases**:\n",
    "```\n",
    ">>> kidrsa( 348, [18221, 347273])\n",
    "89994\n",
    "\n",
    ">>> kidrsa( 89994, [9377, 347273])\n",
    "348\n",
    "```\n",
    "\n",
    "If `message` $\\gt n$\n",
    "```\n",
    ">>> kidrsa( 500000, [18221, 347273])\n",
    "False\n",
    "```\n",
    "\n",
    "If `gcd(message, n)` $\\neq 1$\n",
    "```\n",
    ">>> kidrsa( 61, [18221, 347273])\n",
    "False\n",
    "```"
   ]
  },
  {
   "cell_type": "markdown",
   "id": "cf333b92",
   "metadata": {},
   "source": [
    "_Type your answer here, replacing this text._"
   ]
  },
  {
   "cell_type": "code",
   "execution_count": null,
   "id": "98aa43eb",
   "metadata": {
    "tags": []
   },
   "outputs": [],
   "source": [
    "def kidrsa(message, key, encrypt=True):\n",
    "    \n",
    "    ..."
   ]
  },
  {
   "cell_type": "code",
   "execution_count": null,
   "id": "50ac9c44",
   "metadata": {},
   "outputs": [],
   "source": [
    "# You test your function here"
   ]
  },
  {
   "cell_type": "code",
   "execution_count": null,
   "id": "f6e969c8",
   "metadata": {
    "deletable": false,
    "editable": false
   },
   "outputs": [],
   "source": [
    "grader.check(\"q1_1\")"
   ]
  },
  {
   "cell_type": "markdown",
   "id": "6fe7cdd5",
   "metadata": {},
   "source": [
    "### Part C: Cracking Keys\n",
    "\n",
    "KidRSA is not secure because it's fairly easy and fast to determine a private key if you have someone's private key. Write a function `crack_kidrsa` that accepts a public key (as a list) as the input, and returns the private key.\n",
    "\n",
    "`crack_kidrsa` must return an a list that represents the private key formatted as `[d, n]`. `crack_kidrsa` must check to ensure that the provided value of `e` has an inverse in mod `n`. If they aren't the function should return the boolean value `False`\n",
    "\n",
    "**HINT:** You should not brute force this! You should use the `mod_inverse` function to help here. `mod_inverse` returns the boolean value `False` if there is no multiplicative inverse found. \n",
    "\n",
    "**Sample Test Cases**:\n",
    "```\n",
    ">>> crack_kidrsa( [18221, 347273] )\n",
    "[9377, 347273]\n",
    "\n",
    ">>> crack_kidrsa( [4, 12] )\n",
    "False\n",
    "```"
   ]
  },
  {
   "cell_type": "code",
   "execution_count": null,
   "id": "725b399b",
   "metadata": {
    "tags": []
   },
   "outputs": [],
   "source": [
    "def crack_kidrsa(public_key):\n",
    "    e = ...\n",
    "    n = ...\n",
    "    d = ...\n",
    "    ..."
   ]
  },
  {
   "cell_type": "markdown",
   "id": "bc8b5687",
   "metadata": {},
   "source": [
    "Use the empty cell below to put your function through a few tests of your own, then run the autograder cell."
   ]
  },
  {
   "cell_type": "code",
   "execution_count": null,
   "id": "71215fea",
   "metadata": {
    "deletable": false,
    "editable": false
   },
   "outputs": [],
   "source": [
    "grader.check(\"q2_1\")"
   ]
  },
  {
   "cell_type": "markdown",
   "id": "76425b99",
   "metadata": {},
   "source": [
    "## 2. The RSA Cipher\n",
    "\n",
    "*Recommended Reading:* https://www.macs4200.org/chapters/11/3/rsa.html"
   ]
  },
  {
   "cell_type": "markdown",
   "id": "eafd0a00",
   "metadata": {},
   "source": [
    "### Part A: Key Generation\n",
    "\n",
    "Write a function `rsa_keygen` that uses the prime integers `p` and `q`, and the encryption exponent `e` to compute a pair of public and private keys using the RSA key generation algorithm. `e` should take on the default value of `65537`. \n",
    "\n",
    "The function must return the pair of keys as a list of lists. The first key in the list should be the public key $\\left(e,n\\right)$ and the second key in the list should be the private key $\\left(d,n\\right)$.\n",
    "\n",
    "`rsa_keygen` must check that `e` is a valid encryption exponent. If it's not, `kid_rsa` should return the boolean value `False`\n",
    "\n",
    "**Reminder:**  $e$ and $\\varphi(n)$ need to be relatively prime for $e$ to be valid.\n",
    "\n",
    "**Sample Test Cases**:\n",
    "```\n",
    ">>> rsa_keygen(3, 11, 3)\n",
    "[(3, 33), (7, 33)]\n",
    "\n",
    ">>> rsa_keygen(1787, 3881)\n",
    "[(65537, 6935347), (5655233, 6935347)]\n",
    "\n",
    ">>> rsa_keygen(1787, 3881, e=36)\n",
    "False\n",
    "```"
   ]
  },
  {
   "cell_type": "code",
   "execution_count": null,
   "id": "9a7774d6",
   "metadata": {
    "tags": []
   },
   "outputs": [],
   "source": [
    "def rsa_keygen(p, q, e=65537):\n",
    "    \n",
    "    \n",
    "    n = ...\n",
    "    my_phi = ...\n",
    "    d = ...\n",
    "    \n",
    "     \n",
    "    \n",
    "    return [ [e,n], [d,n] ]"
   ]
  },
  {
   "cell_type": "markdown",
   "id": "b0b47d0f",
   "metadata": {},
   "source": [
    "Use the empty cell below to put your function through a few tests of your own, then run the autograder cell."
   ]
  },
  {
   "cell_type": "code",
   "execution_count": null,
   "id": "30aab6bd",
   "metadata": {},
   "outputs": [],
   "source": [
    "# You test your function here\n"
   ]
  },
  {
   "cell_type": "code",
   "execution_count": null,
   "id": "4a215077",
   "metadata": {
    "deletable": false,
    "editable": false
   },
   "outputs": [],
   "source": [
    "grader.check(\"q3_1\")"
   ]
  },
  {
   "cell_type": "markdown",
   "id": "2a65516b",
   "metadata": {},
   "source": [
    "### Part B: Encryption / Decryption\n",
    "\n",
    "Write a function `rsa` that takes in a numerical integer message, a list containing either a public or private key, and encrypts or decrypts the message. Since the process for encryption and decryption are identical, you do not need a boolean `encipher` parameter as in earlier homework assignments and labs.\n",
    "\n",
    "`rsa` should output a numerical integer that represents ciphertext when the function is provided numerical plaintext, and vice-versa.\n",
    "\n",
    "**Reminder:** Your message, `message`, must be less than the modulus `n` from the key. Your function must check for this condition and return the boolean value `False` if it does not meet the criteria.\n",
    "\n",
    "**Hint:** You should use the `pow` function instead of the `**` operator so you're using the fast modular exponentiation algorithm. This will drastically reduce the time to encrypt or decrypt a message. The numbers in this example are far too large for Python to efficiently carry out the exponentiation with the `**` operator!\n",
    "\n",
    "**Sample Test Cases**:\n",
    "```\n",
    ">>> rsa( 5, [3,33] )\n",
    "26\n",
    "\n",
    ">>> rsa( 26, (7,33) )\n",
    "5\n",
    "\n",
    ">>> rsa( 234712, [65537, 6935347])\n",
    "2678654\n",
    "\n",
    ">>> rsa( 2678654, [5655233, 6935347])\n",
    "234712\n",
    "\n",
    "m > n case\n",
    ">>> rsa( 26786543243423, [5655233, 6935347])\n",
    "False\n",
    "```"
   ]
  },
  {
   "cell_type": "markdown",
   "id": "f317d3b7",
   "metadata": {},
   "source": [
    "_Type your answer here, replacing this text._"
   ]
  },
  {
   "cell_type": "code",
   "execution_count": null,
   "id": "3dfffa7a",
   "metadata": {
    "tags": []
   },
   "outputs": [],
   "source": [
    "def rsa(message, key):\n",
    "    e_or_d = ...\n",
    "    n = ...\n",
    "    \n",
    "    ..."
   ]
  },
  {
   "cell_type": "code",
   "execution_count": null,
   "id": "03fe11a4",
   "metadata": {
    "tags": []
   },
   "outputs": [],
   "source": [
    "# You test your function here"
   ]
  },
  {
   "cell_type": "code",
   "execution_count": null,
   "id": "5d06ad6d",
   "metadata": {
    "deletable": false,
    "editable": false
   },
   "outputs": [],
   "source": [
    "grader.check(\"q4_1\")"
   ]
  },
  {
   "cell_type": "markdown",
   "id": "a2f50fa9",
   "metadata": {
    "deletable": false,
    "editable": false
   },
   "source": [
    "## Submission\n",
    "\n",
    "Make sure you have run all cells in your notebook in order before running the cell below, so that all images/graphs appear in the output. The cell below will generate a zip file for you to submit. **Please save before exporting!**"
   ]
  },
  {
   "cell_type": "code",
   "execution_count": null,
   "id": "217b81b3",
   "metadata": {
    "deletable": false,
    "editable": false
   },
   "outputs": [],
   "source": [
    "# Save your notebook first, then run this cell to export your submission.\n",
    "grader.export(pdf=False)"
   ]
  },
  {
   "cell_type": "markdown",
   "id": "b8ca29ec",
   "metadata": {},
   "source": [
    " "
   ]
  }
 ],
 "metadata": {
  "kernelspec": {
   "display_name": "Python 3 (ipykernel)",
   "language": "python",
   "name": "python3"
  },
  "language_info": {
   "codemirror_mode": {
    "name": "ipython",
    "version": 3
   },
   "file_extension": ".py",
   "mimetype": "text/x-python",
   "name": "python",
   "nbconvert_exporter": "python",
   "pygments_lexer": "ipython3",
   "version": "3.10.5"
  },
  "otter": {
   "tests": {
    "q1_1": {
     "name": "q1_1",
     "points": 3,
     "suites": [
      {
       "cases": [
        {
         "code": ">>> kidrsa(93,[17,101]) != None\nTrue",
         "failure_message": "Check that you are returning and not printing.",
         "hidden": false,
         "locked": false,
         "points": 1
        },
        {
         "code": ">>> kidrsa(93,[17,101])\n66",
         "failure_message": "Check that you are multiplying and modding by the right elements in the key.",
         "hidden": false,
         "locked": false,
         "points": 1
        },
        {
         "code": ">>> kidrsa(90,[11,100])\nFalse",
         "failure_message": "Check that you are returning False if the message and the mod are not relatively prime.",
         "hidden": false,
         "locked": false
        }
       ],
       "scored": true,
       "setup": "",
       "teardown": "",
       "type": "doctest"
      }
     ]
    },
    "q2_1": {
     "name": "q2_1",
     "points": 3,
     "suites": [
      {
       "cases": [
        {
         "code": ">>> # You test your function here\n",
         "hidden": false,
         "locked": false
        },
        {
         "code": ">>> crack_kidrsa([17,101]) != None\nTrue",
         "failure_message": "Check that you are returning and not printing.",
         "hidden": false,
         "locked": false,
         "points": 1
        },
        {
         "code": ">>> crack_kidrsa([17,101])\n[6, 101]",
         "failure_message": "Check that you are taking in the right part of the key as the mod and the encipher value.",
         "hidden": false,
         "locked": false,
         "points": 1
        },
        {
         "code": ">>> crack_kidrsa([820003, 5001]) == crack_kidrsa([100,200]) and crack_kidrsa([100,200]) == False\nTrue",
         "failure_message": "Use a conditional so your program returns False if the key and mod are not relatively prime or if the mod is smaller than the key.",
         "hidden": false,
         "locked": false,
         "points": 1
        }
       ],
       "scored": true,
       "setup": "",
       "teardown": "",
       "type": "doctest"
      }
     ]
    },
    "q3_1": {
     "name": "q3_1",
     "points": 3,
     "suites": [
      {
       "cases": [
        {
         "code": ">>> rsa_keygen(13, 11, 17) != None\nTrue",
         "failure_message": "Remember to return, not print.",
         "hidden": false,
         "locked": false,
         "points": 1
        },
        {
         "code": ">>> rsa_keygen(23,73, 233)\n[[233, 1679], [809, 1679]]",
         "failure_message": "You may wish to check your mod_inverse program or check that you calculated phi correctly.",
         "hidden": false,
         "locked": false,
         "points": 1
        },
        {
         "code": ">>> rsa_keygen(33,73, 234)\nFalse",
         "failure_message": "Use a conditional so your program returns False if e and phi are not relatively prime.",
         "hidden": false,
         "locked": false,
         "points": 1
        }
       ],
       "scored": true,
       "setup": "",
       "teardown": "",
       "type": "doctest"
      }
     ]
    },
    "q4_1": {
     "name": "q4_1",
     "points": 3,
     "suites": [
      {
       "cases": [
        {
         "code": ">>> rsa(5, [67,91])\n47",
         "failure_message": "Remember to return, not print.",
         "hidden": false,
         "locked": false,
         "points": 1
        },
        {
         "code": ">>> rsa(9329802, [4103916,9966745])\n729161",
         "failure_message": "Remember to use pow and not **.",
         "hidden": false,
         "locked": false,
         "points": 1
        },
        {
         "code": ">>> rsa(1729493, [1919281, 17])\nFalse",
         "failure_message": "Remember to return false if the message is larger than the mod.",
         "hidden": false,
         "locked": false,
         "points": 1
        }
       ],
       "scored": true,
       "setup": "",
       "teardown": "",
       "type": "doctest"
      }
     ]
    }
   }
  }
 },
 "nbformat": 4,
 "nbformat_minor": 5
}
