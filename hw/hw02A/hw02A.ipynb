{
 "cells": [
  {
   "cell_type": "code",
   "execution_count": null,
   "id": "07711e41",
   "metadata": {
    "deletable": false,
    "editable": false
   },
   "outputs": [],
   "source": [
    "# Initialize Otter\n",
    "import otter\n",
    "grader = otter.Notebook(\"hw02A.ipynb\")"
   ]
  },
  {
   "cell_type": "code",
   "execution_count": null,
   "id": "92aad878",
   "metadata": {},
   "outputs": [],
   "source": [
    "def text_clean( text, LETTERS = 'ABCDEFGHIJKLMNOPQRSTUVWXYZ'):\n",
    "    \"\"\"\n",
    "    Arguments:\n",
    "        text (str): a piece of text for cleaning\n",
    "        LETTERS (str, optional): defines the alphabet of allowable characters\n",
    "    Returns:\n",
    "        (str): text with only the characters also found in LETTERS\n",
    "               lower-case letters in text will be made upper-case  \n",
    "    \"\"\"\n",
    "\n",
    "    cleaned_text = '' \n",
    "    \n",
    "    for character in text: \n",
    "        if character.upper() in LETTERS:\n",
    "            cleaned_text += character.upper()\n",
    "    \n",
    "    return cleaned_text"
   ]
  },
  {
   "cell_type": "code",
   "execution_count": null,
   "id": "d2c9c64b",
   "metadata": {},
   "outputs": [],
   "source": [
    "def text_block( text, size = 5 ):\n",
    "    \"\"\"\n",
    "    Arguments:\n",
    "        text (str): text to block\n",
    "        size (int, optional): # of characters in a block\n",
    "    Returns:\n",
    "        (str): text blocked into groups of specified size\n",
    "    \"\"\"\n",
    "    \n",
    "    blocked_text = '' \n",
    "    \n",
    "    for character in text: \n",
    "        if len(blocked_text.replace(' ', '') ) % size == 0 and len(blocked_text) != 0:\n",
    "            blocked_text += ' '\n",
    "\n",
    "        blocked_text += character\n",
    "    \n",
    "    return blocked_text"
   ]
  },
  {
   "cell_type": "markdown",
   "id": "d1c3f299",
   "metadata": {},
   "source": [
    "# Homework 02: Polyalphabetic Ciphers and Cryptanalysis ¶\n",
    "At this point, we know enough about polyalphabetic substitution ciphers and how to analyze them to complete a homework that covers the Vigenere cipher, Autokey cipher, and some concepts from the One Time Pad (OTP)."
   ]
  },
  {
   "cell_type": "markdown",
   "id": "e03b2a14",
   "metadata": {},
   "source": [
    "## Imports \n",
    "To get you started, run the cell below to load functions that have been written in earlier homework assignments. Functions that are included:\n",
    "\n",
    "text_clean\n",
    "text_block\n",
    "You can use these functions in any of your code below after you’ve imported them."
   ]
  },
  {
   "cell_type": "code",
   "execution_count": null,
   "id": "944e7034",
   "metadata": {},
   "outputs": [],
   "source": [
    "from hw02toolkit import *"
   ]
  },
  {
   "cell_type": "markdown",
   "id": "81d1410a",
   "metadata": {},
   "source": [
    "## Preamble\n",
    "Consider the earliest Caesar cipher program we wrote; it appears below."
   ]
  },
  {
   "cell_type": "code",
   "execution_count": null,
   "id": "22e860cb",
   "metadata": {},
   "outputs": [],
   "source": [
    "# here is the message, already cleaned\n",
    "\n",
    "message = \"ATTACKATDAWN\"\n",
    "\n",
    "# here is the plain text alphabet lined up with the ciphertext alphabet.\n",
    "# Notice that to change the key we would have to change the second alphabet.\n",
    "\n",
    "PLAIN_LETTERS  = \"ABCDEFGHIJKLMNOPQRSTUVWXYZ\"\n",
    "CAESAR_LETTERS = \"XYZABCDEFGHIJKLMNOPQRSTUVW\"\n",
    "\n",
    "output = ''\n",
    "\n",
    "for i in range(len(message)):\n",
    "    num = PLAIN_LETTERS.find(message[i])\n",
    "    output += CAESAR_LETTERS[num]\n",
    "    \n",
    "print(output)    "
   ]
  },
  {
   "cell_type": "markdown",
   "id": "e9f619f0",
   "metadata": {},
   "source": [
    "We can adapt these lines of code a little bit to build the Vigenère cipher. But <b>first</b> we need to have a key that is as long as our message."
   ]
  },
  {
   "cell_type": "markdown",
   "id": "e99864d6",
   "metadata": {},
   "source": [
    "## Question 1: Vigenère Key Generation \n",
    "When using the Vigenère cipher, you have the luxury of knowing exactly how long the plaintext / ciphertext are before you start to encrypt or decrypt. You’ll see in other cipher types, like stream ciphers, you don’t always have the complete message before you start your encryption or decryption process. For the Vigenère cipher, that means we can create the entire keystream from the keyword or primer before you get started with the message.\n",
    "\n",
    "In the cell below write a function that will take in a Vigenère primer / keyword and generate the correct Vigenère keystream when provided the length of the message.\n",
    "\n",
    "NOTE: You can assume that primer is already “cleaned” before it’s received in this function, so do NOT clean the primer string.\n",
    "\n",
    "`Example:`\n",
    "\n",
    "print( vigenere_keygen('TEST', 10) )\n",
    "TESTTESTTE"
   ]
  },
  {
   "cell_type": "code",
   "execution_count": null,
   "id": "796c55b0",
   "metadata": {
    "tags": []
   },
   "outputs": [],
   "source": [
    "def vigenere_keygen(primer, message_length):\n",
    "    \"\"\"\n",
    "    Arguments:\n",
    "        primer (str): the primer / keyword that will create the entire keystream\n",
    "        message_length (int): # of characters in the CLEANED message (no spaces or punctuation)\n",
    "    Returns:\n",
    "        keystream (str): The entire keystream that can be combined with the message to encipher or decipher\n",
    "    \"\"\"\n",
    "\n",
    "    keystream = ''\n",
    "    ...\n",
    "\n",
    "    while len(keystream) < message_length:\n",
    "        keystream += primer\n",
    "    key = keystream[0:message_length]\n",
    "    return(key)\n",
    "    ..."
   ]
  },
  {
   "cell_type": "code",
   "execution_count": null,
   "id": "9c921c7d",
   "metadata": {
    "deletable": false,
    "editable": false
   },
   "outputs": [],
   "source": [
    "grader.check(\"q1\")"
   ]
  },
  {
   "cell_type": "markdown",
   "id": "345fd674",
   "metadata": {},
   "source": [
    "## Question 2: Vigenère Cipher Function \n",
    "Write a function that implements the Vigenère Cipher. The function should be able to encipher and decipher messages depending on the values of encipher parameter. Your function should clean the provided message based on the provided LETTERS string using the text_clean function. Ciphertext output should be blocked into groups of 5 uppercase characters and plaintext output should be returned as lowercase characters with no spaces.\n",
    "\n",
    "<b>Hint: You can use your vigenere_keygen function from the previous question if you’d like, but there are no tests that will specifically ensure that you do.</b>\n",
    "\n",
    "<i> Examples: </i>\n",
    "\n",
    "print( vigenere('hospital', 'onaplaneaplaneisdue') )\n",
    "\n",
    "VBSET TNPHD DPVXI DKIW\n",
    "\n",
    "print( vigenere('hospital', 'VBSET TNPHD DPVXI DKIW', encipher=False)\n",
    "\n",
    "onaplaneaplaneisdue"
   ]
  },
  {
   "cell_type": "markdown",
   "id": "1324404a",
   "metadata": {},
   "source": [
    "<!-- BEGIN QUESTION -->\n",
    "\n"
   ]
  },
  {
   "cell_type": "code",
   "execution_count": null,
   "id": "f0a94909",
   "metadata": {
    "tags": []
   },
   "outputs": [],
   "source": [
    "def vigenere(primer, message, encipher=True, LETTERS = 'ABCDEFGHIJKLMNOPQRSTUVWXYZ'):\n",
    "    \"\"\"\n",
    "    Arguments:\n",
    "        keyword (str): the primer / keyword that will be used to create the entire keystream\n",
    "        message (str): either the plaintext or ciphertext to work with\n",
    "        encipher (bool, optional): True --> encipher the message, False --> decipher\n",
    "        LETTERS (str, optional): defines the alphabet of allowable characters\n",
    "    Returns:\n",
    "        (str): encrypted / decrypted version of message formatting to specifications\n",
    "    \"\"\"\n",
    "    cleaned_keyword = ...\n",
    "    cleaned_message = ...\n",
    "    keystream = ...\n",
    "    output = '' \n",
    "    \n",
    "    # Your code below this comment\n",
    "    ...\n",
    "    if encipher == True:\n",
    "        for i in range(len(cleaned_message)):\n",
    "            num = LETTERS.find(cleaned_message[i])\n",
    "            num2 = LETTERS.find(keystream[i])\n",
    "            num3 = (num + num2) % 26\n",
    "            output += LETTERS[num3]\n",
    "            \n",
    "        return(text_block(output,5))\n",
    "    if encipher == False:\n",
    "        for i in range(len(cleaned_message)):\n",
    "            num = LETTERS.find(cleaned_message[i])\n",
    "            num2 = LETTERS.find(keystream[i])\n",
    "            num3 = (num - num2) % 26\n",
    "            output += (LETTERS[num3]).lower()\n",
    "            \n",
    "        return(output)\n",
    "    ..."
   ]
  },
  {
   "cell_type": "markdown",
   "id": "81dfe718",
   "metadata": {},
   "source": [
    "Try these messages from recent headlines:\n",
    "\n",
    "print( vigenere('Zelensky', 'Ukraine has sent reinforcements to Bakhmut') )\n",
    "\n",
    ">'TJQZH MDGZR RDMSQ DHMEN QBDLD MSRSN AZJGL TS'\n",
    "\n",
    "print( vigenere('hospital', 'DKHKH KKXRZ HCHSV NTKCH LLDCH ZSDKX QDCTB DSGDO QHBDN EHSRF DMDQH BUDQR HNMNE GTLZK NF', encipher = False) )\n",
    "\n",
    ">'elilillysaiditwouldimmediatelyreducethepriceofitsgenericversionofhumalog'"
   ]
  },
  {
   "cell_type": "markdown",
   "id": "d5c8db84",
   "metadata": {},
   "source": [
    "<!-- END QUESTION -->\n",
    "\n",
    "<!-- BEGIN QUESTION -->\n",
    "\n",
    "## Question 3: Autokey Cipher\n",
    "\n",
    "First, by hand, encipher the message \"Hello\" with the keyword \"key\" using autokey. Save your solution to a string called 'solution' in the cell below."
   ]
  },
  {
   "cell_type": "code",
   "execution_count": null,
   "id": "dc7d82ab",
   "metadata": {
    "tags": []
   },
   "outputs": [],
   "source": [
    "solution = ..."
   ]
  },
  {
   "cell_type": "markdown",
   "id": "347c417d",
   "metadata": {},
   "source": [
    "<!-- END QUESTION -->\n",
    "\n",
    "\n",
    "\n",
    "The autokey cipher does not allow you to compute the entire keystream from the start when deciphering messages, since you need to recover some of the plaintext before can continue constructing the keystream. As a result the function for completing the autokey cipher will need to be a bit different than the others you've already written for the caesar, affine, and now Vigenère ciphers. You will need to think carefully about how to modify the keystream after each letter you encipher or decipher to ensure that it has sufficient characters to finish creating the message.\n",
    "\n",
    "**Examples**\n",
    "```\n",
    ">>> print( autokey('UNICORN', 'acceptthegreaterchallenge' ) )\n",
    "UPKGD KGHGI VTTML VIYEL EIEIL\n",
    "\n",
    ">>> print( autokey('unicorn', 'UPKGD KGHGI VTTML VIYEL EIEIL', False) )\n",
    "acceptthegreaterchallenge\n",
    "```"
   ]
  },
  {
   "cell_type": "code",
   "execution_count": null,
   "id": "d84054cb",
   "metadata": {
    "tags": []
   },
   "outputs": [],
   "source": [
    "def autokey(keyword, message, encipher = True, LETTERS = 'ABCDEFGHIJKLMNOPQRSTUVWXYZ'):\n",
    "    \"\"\"\n",
    "    Arguments:\n",
    "        keyword (str): the primer / keyword that will be used to create the keystream\n",
    "        message (str): either the plaintext or ciphertext to work with\n",
    "        encipher (bool, optional): True --> encipher the message, False --> decipher\n",
    "        LETTERS (str, optional): defines the alphabet of allowable characters\n",
    "    Returns:\n",
    "        (str): encrypted / decrypted version of message formatting to specifications\n",
    "    \"\"\"\n",
    "    cleaned_keyword = ...\n",
    "    cleaned_message = ...\n",
    "    output = ...\n",
    "    \n",
    "    ...\n",
    "    \n",
    "    keystream = cleaned_keyword\n",
    "    \n",
    "    if encipher == True:\n",
    "        cleaned_keyword = cleaned_keyword + cleaned_message\n",
    "        keystream = cleaned_keyword[0:len(cleaned_message)]\n",
    "        for i in range(len(cleaned_message)):\n",
    "            num = LETTERS.find(cleaned_message[i])\n",
    "            num2 = LETTERS.find(keystream[i])\n",
    "            num3 = (num + num2) % len(LETTERS)\n",
    "            output += LETTERS[num3]\n",
    "        output = text_block(output)\n",
    "    if encipher == False:\n",
    "        for i in range(len(cleaned_message)):\n",
    "            num = LETTERS.find(cleaned_message[i])\n",
    "            num2 = LETTERS.find(cleaned_keyword[i])\n",
    "            num3 = (num - num2) % len(LETTERS)\n",
    "            output += (LETTERS[num3]).lower()\n",
    "            cleaned_keyword += LETTERS[num3]\n",
    "    return(output)        \n",
    "        \n",
    "    ...\n",
    "  \n"
   ]
  },
  {
   "cell_type": "code",
   "execution_count": null,
   "id": "a9dd0d1f",
   "metadata": {},
   "outputs": [],
   "source": [
    "#Try these:\n",
    "\n",
    "print(autokey('UNICORN', 'acceptthegreaterchallenge'))\n",
    "print(autokey('unicorn', 'UPKGD KGHGI VTTML VIYEL EIEIL', False)) "
   ]
  },
  {
   "cell_type": "code",
   "execution_count": null,
   "id": "fc836b81",
   "metadata": {
    "deletable": false,
    "editable": false
   },
   "outputs": [],
   "source": [
    "grader.check(\"q3_2\")"
   ]
  },
  {
   "cell_type": "markdown",
   "id": "d0e7e497",
   "metadata": {},
   "source": [
    "<!-- BEGIN QUESTION -->\n",
    "\n",
    "## Question 4: Character Frequency\n",
    "\n",
    "One goal of the Vigenere cipher is to help disguise character frequencies, hopefully creating an almost uniform distribution of each letter in the alphabet making it impossible for an attacker to use frequency analysis to help crack the message. Let's see how well your Vigenere function will disguise a message.\n",
    "\n",
    "Run the code cell below to load the sample plaintext found in `hw02plaintext.txt` to the variable `plaintext`. The file contains the entire book, *The Scarlet Letter*."
   ]
  },
  {
   "cell_type": "code",
   "execution_count": null,
   "id": "1427661c",
   "metadata": {},
   "outputs": [],
   "source": [
    "with open('hw02.txt') as f:\n",
    "    plaintext = f.read() "
   ]
  },
  {
   "cell_type": "markdown",
   "id": "83372700",
   "metadata": {},
   "source": [
    "In the code cell below, encipher this message using the `autokey` function with a key word of your choosing. Save this result to the variable `ciphertext`.\n"
   ]
  },
  {
   "cell_type": "code",
   "execution_count": null,
   "id": "37c8ac8b",
   "metadata": {},
   "outputs": [],
   "source": [
    "ciphertext = autokey(\"Unicorn\",plaintext[0:100000])"
   ]
  },
  {
   "cell_type": "markdown",
   "id": "b9a90ec1",
   "metadata": {},
   "source": [
    "Run the following cell to import mathplotlib.pyplot as plt"
   ]
  },
  {
   "cell_type": "code",
   "execution_count": null,
   "id": "3a78264a",
   "metadata": {},
   "outputs": [],
   "source": [
    "import matplotlib.pyplot as plt"
   ]
  },
  {
   "cell_type": "markdown",
   "id": "81171b1e",
   "metadata": {},
   "source": [
    "<!-- BEGIN QUESTION -->\n",
    "\n",
    "Now create a graph of the character frequencies as before."
   ]
  },
  {
   "cell_type": "code",
   "execution_count": null,
   "id": "6c7ad791",
   "metadata": {
    "tags": []
   },
   "outputs": [],
   "source": [
    "frequencies = ..."
   ]
  },
  {
   "cell_type": "code",
   "execution_count": null,
   "id": "21ea7588",
   "metadata": {
    "tags": []
   },
   "outputs": [],
   "source": []
  },
  {
   "cell_type": "markdown",
   "id": "eaa6b726",
   "metadata": {},
   "source": [
    "<!-- END QUESTION -->\n",
    "\n",
    "<!-- BEGIN QUESTION -->\n",
    "\n",
    "What do you notice about this plot? Type your response into the cell below:"
   ]
  },
  {
   "cell_type": "markdown",
   "id": "7d6fc5a6",
   "metadata": {},
   "source": [
    "_Type your answer here, replacing this text._"
   ]
  },
  {
   "cell_type": "markdown",
   "id": "dd34ed2b",
   "metadata": {},
   "source": [
    "<!-- END QUESTION -->\n",
    "\n",
    "# Submitting your work\n",
    "You're done with this homework! All assignments in the course will be distributed as notebooks like this one, and you will submit your work by doing the following:\n",
    "* Save your notebook\n",
    "* Restart the kernel and run up to this cell.\n",
    "* Run all the tests by running the cell containing `grader.check_all()`. Make sure they pass the way you expect them to.\n",
    "* Run the cell below with the code `grader.export(...)`.\n",
    "* Download the file named `labXX.zip`, found in the explorer pane on the left side of the screen.\n",
    "* Upload `labXX-<date-time stamp>.zip` to the corresponding lab assignment on Canvas."
   ]
  },
  {
   "cell_type": "markdown",
   "id": "d739aba4",
   "metadata": {
    "deletable": false,
    "editable": false
   },
   "source": [
    "## Submission\n",
    "\n",
    "Make sure you have run all cells in your notebook in order before running the cell below, so that all images/graphs appear in the output. The cell below will generate a zip file for you to submit.\n",
    "\n",
    "When done exporting, find the `.zip` file in the left side of the screen in the file browser, right-click, and select **Download**. You'll submit this `.zip` file for the assignment Gradescope for grading."
   ]
  },
  {
   "cell_type": "code",
   "execution_count": null,
   "id": "f1d0555b",
   "metadata": {
    "deletable": false,
    "editable": false
   },
   "outputs": [],
   "source": [
    "grader.export(pdf=False, force_save=True)"
   ]
  },
  {
   "cell_type": "markdown",
   "id": "d3a960fa",
   "metadata": {},
   "source": [
    " "
   ]
  }
 ],
 "metadata": {
  "kernelspec": {
   "display_name": "Python 3 (ipykernel)",
   "language": "python",
   "name": "python3"
  },
  "language_info": {
   "codemirror_mode": {
    "name": "ipython",
    "version": 3
   },
   "file_extension": ".py",
   "mimetype": "text/x-python",
   "name": "python",
   "nbconvert_exporter": "python",
   "pygments_lexer": "ipython3",
   "version": "3.10.5"
  },
  "otter": {
   "tests": {
    "q1": {
     "name": "q1",
     "points": 4,
     "suites": [
      {
       "cases": [
        {
         "code": ">>> vigenere_keygen(\"unicorn\",20) != None\nTrue",
         "failure_message": "Check that you are returning the key, not printing it",
         "hidden": false,
         "locked": false,
         "points": 1
        },
        {
         "code": ">>> vigenere_keygen(\"unicorn\",20)\n'unicornunicornunicor'",
         "failure_message": "Check that you repeat your key until it is long enough",
         "hidden": false,
         "locked": false,
         "points": 2
        }
       ],
       "scored": true,
       "setup": "",
       "teardown": "",
       "type": "doctest"
      }
     ]
    },
    "q3_1": {
     "name": "q3_1",
     "points": 1,
     "suites": [
      {
       "cases": [],
       "scored": true,
       "setup": "",
       "teardown": "",
       "type": "doctest"
      }
     ]
    },
    "q3_2": {
     "name": "q3_2",
     "points": 3,
     "suites": [
      {
       "cases": [
        {
         "code": ">>> print(autokey('UNICORN', 'acceptthegreaterchallenge'))\nUPKGD KGHGI VTTML VIYEL EIEIL\n",
         "failure_message": "Check that you are using text_block on the result.",
         "hidden": false,
         "locked": false,
         "points": 1
        },
        {
         "code": ">>> print(autokey('wakanda', 'EFSSV WAVIB ZQGKN EHBBZ IBSCN AQPGF FMVSC TBXBH KZBGH MMDSF XDPHA LWWKM IKU', False))\nifisitandthinkaboutmybrotherfortoolongitwontbetheseclothesiburn\n",
         "failure_message": "Check that you are returning plaintext in lower case.",
         "hidden": false,
         "locked": false,
         "points": 2
        }
       ],
       "scored": true,
       "setup": "",
       "teardown": "",
       "type": "doctest"
      }
     ]
    }
   }
  }
 },
 "nbformat": 4,
 "nbformat_minor": 5
}
