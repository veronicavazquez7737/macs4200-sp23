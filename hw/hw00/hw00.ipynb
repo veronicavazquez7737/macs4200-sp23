{
 "cells": [
  {
   "cell_type": "code",
   "execution_count": null,
   "id": "93435e56",
   "metadata": {
    "deletable": false,
    "editable": false
   },
   "outputs": [],
   "source": [
    "# Initialize Otter\n",
    "import otter\n",
    "grader = otter.Notebook(\"hw00.ipynb\")"
   ]
  },
  {
   "cell_type": "markdown",
   "id": "10043b59",
   "metadata": {},
   "source": [
    "# Homework 00: Monoalphabetic Substitution Ciphers and a Simple Transposition Ciphers\n",
    "\n",
    "At this point, we know enough about monoalphabetic substitution ciphers and how to analyze them to complete a homework to showcase you also know enough Python to program them."
   ]
  },
  {
   "cell_type": "markdown",
   "id": "51fa389f",
   "metadata": {},
   "source": [
    "## Part 1: Caesar Cipher"
   ]
  },
  {
   "cell_type": "markdown",
   "id": "b9388280",
   "metadata": {},
   "source": [
    "<!-- BEGIN QUESTION -->\n",
    "\n",
    "### Question 1.1: Decipher the message\n",
    "\n",
    "The following message was encrypted with a Caesar Cipher and a key of 3. decipher the message <B>by hand</B> to discover the name of a popular movie. "
   ]
  },
  {
   "cell_type": "markdown",
   "id": "c68c1d54",
   "metadata": {},
   "source": [
    "HYHUBWKLQJHYHUBZKHUHDOODWRQFH"
   ]
  },
  {
   "cell_type": "markdown",
   "id": "86455fbd",
   "metadata": {},
   "source": [
    "_Type your answer here, replacing this text._"
   ]
  },
  {
   "cell_type": "markdown",
   "id": "f9a9a448",
   "metadata": {},
   "source": [
    "<!-- END QUESTION -->\n",
    "\n",
    "<!-- BEGIN QUESTION -->\n",
    "\n",
    "### Question 1.2 Debug the program\n",
    "\n",
    "A classmate writes the following program to encipher the title of <i>another</i> popular movie. Oh no! His program doesn't work. Describe the problem and fix the program."
   ]
  },
  {
   "cell_type": "code",
   "execution_count": null,
   "id": "d9a4e212",
   "metadata": {},
   "outputs": [],
   "source": [
    "message = \"The Banshees of Inisherin\"\n",
    "LETTERS = \"ABCDEFGHIJKLMNOPQRSTUVWXYZ\"\n",
    "CAESAR  = \"DEFGHIJKLMNOPQRSTUVWXYZABC\"\n",
    "\n",
    "for char in message:\n",
    "    num = LETTERS.find(char)\n",
    "    print(CAESAR[num])\n",
    "    "
   ]
  },
  {
   "cell_type": "markdown",
   "id": "675f0137",
   "metadata": {},
   "source": [
    "_Type your answer here, replacing this text._"
   ]
  },
  {
   "cell_type": "markdown",
   "id": "fcecfa1b",
   "metadata": {},
   "source": [
    "<!-- END QUESTION -->\n",
    "\n",
    "### Question 2.1: A Simple Transposition Cipher\n",
    "\n",
    "One simple way to disguise a message is to write it backwards. For example, take the following riddle. A farmer has sheep, goats, and horses. When asked about them, he says \"All but 13 are sheep. All but 12 are goats. All but 11 are horses.\" How many of each animal does he have. The answer is:"
   ]
  },
  {
   "cell_type": "markdown",
   "id": "4bfda524",
   "metadata": {},
   "source": [
    "sesroh neves dna staog xis peehs evif sah eh"
   ]
  },
  {
   "cell_type": "markdown",
   "id": "6d72b3cc",
   "metadata": {},
   "source": [
    "If you want to work it out yourself, it is not <i>too hard</i> to prevent your brain from reading the solution immediately"
   ]
  },
  {
   "cell_type": "markdown",
   "id": "f846cd0a",
   "metadata": {},
   "source": [
    "Now, write a program that rewrites a message backwards using only indexing and a loop. Use it to write the answer to this riddle. \"I add six to 11 and get 5. Why is this correct?\""
   ]
  },
  {
   "cell_type": "markdown",
   "id": "334c31fc",
   "metadata": {},
   "source": [
    "<!-- BEGIN QUESTION -->\n",
    "\n"
   ]
  },
  {
   "cell_type": "code",
   "execution_count": null,
   "id": "4946af3a",
   "metadata": {
    "tags": []
   },
   "outputs": [],
   "source": [
    "message = \"six hours after eleven am it is 5 pm\"\n",
    "num = len(message)\n"
   ]
  },
  {
   "cell_type": "markdown",
   "id": "3322e85b",
   "metadata": {},
   "source": [
    "<!-- END QUESTION -->\n",
    "\n"
   ]
  },
  {
   "cell_type": "markdown",
   "id": "806fa9c2",
   "metadata": {
    "deletable": false,
    "editable": false
   },
   "source": [
    "## Submission\n",
    "\n",
    "Make sure you have run all cells in your notebook in order before running the cell below, so that all images/graphs appear in the output. The cell below will generate a zip file for you to submit. **Please save before exporting!**"
   ]
  },
  {
   "cell_type": "code",
   "execution_count": null,
   "id": "a211ca51",
   "metadata": {
    "deletable": false,
    "editable": false
   },
   "outputs": [],
   "source": [
    "# Save your notebook first, then run this cell to export your submission.\n",
    "grader.export(pdf=False)"
   ]
  },
  {
   "cell_type": "markdown",
   "id": "d3907107",
   "metadata": {},
   "source": [
    " "
   ]
  }
 ],
 "metadata": {
  "kernelspec": {
   "display_name": "Python 3 (ipykernel)",
   "language": "python",
   "name": "python3"
  },
  "language_info": {
   "codemirror_mode": {
    "name": "ipython",
    "version": 3
   },
   "file_extension": ".py",
   "mimetype": "text/x-python",
   "name": "python",
   "nbconvert_exporter": "python",
   "pygments_lexer": "ipython3",
   "version": "3.10.5"
  }
 },
 "nbformat": 4,
 "nbformat_minor": 5
}
