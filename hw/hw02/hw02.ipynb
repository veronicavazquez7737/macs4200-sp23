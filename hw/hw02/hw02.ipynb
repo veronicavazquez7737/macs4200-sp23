{
 "cells": [
  {
   "cell_type": "code",
   "execution_count": null,
   "id": "aa3e0b01",
   "metadata": {
    "deletable": false,
    "editable": false
   },
   "outputs": [],
   "source": [
    "# Initialize Otter\n",
    "import otter\n",
    "grader = otter.Notebook(\"hw02.ipynb\")"
   ]
  },
  {
   "cell_type": "markdown",
   "id": "de8441e0",
   "metadata": {},
   "source": [
    "# Homework 02: Polyalphabetic Ciphers and Cryptanalysis\n",
    "\n",
    "At this point, we know enough about polyalphabetic substitution ciphers and how to analyze them to complete a homework that covers the Vigenere cipher, Autokey cipher, and some concepts from the One Time Pad (OTP)."
   ]
  },
  {
   "cell_type": "markdown",
   "id": "90cf101c",
   "metadata": {},
   "source": [
    "## Imports\n",
    "\n",
    "To get you started, run the cell below to load functions that have been written in earlier homework assignments. Functions that are included:\n",
    "* `text_clean`\n",
    "* `text_block`\n",
    "\n",
    "You can use these functions in any of your code below after you've imported them."
   ]
  },
  {
   "cell_type": "code",
   "execution_count": null,
   "id": "00eefd6f",
   "metadata": {},
   "outputs": [],
   "source": [
    "from hw02toolkit import text_clean, text_block"
   ]
  },
  {
   "cell_type": "markdown",
   "id": "5fec1bdb",
   "metadata": {},
   "source": [
    "## Question 1: Vigenère Key Generation\n",
    "\n",
    "When using the Vigenère cipher, you have the luxury of knowing exactly how long the plaintext / ciphertext are before you start to encrypt or decrypt. You'll see in other cipher types, like stream ciphers, you don't always have the complete message before you start your encryption or decryption process. For the Vigenère cipher, that means we can create the entire keystream from the keyword or primer before you get started with the message.\n",
    "\n",
    "In the cell below write a function that will take in a Vigenère primer / keyword and generate the correct Vigenère keystream when provided the length of the message.\n",
    "\n",
    "**NOTE:** You can assume that `primer` is already \"cleaned\" before it's received in this function, so do NOT clean the primer string.\n",
    "\n",
    "**Example**:\n",
    "```\n",
    ">>> print( vigenere_keygen('TEST', 10) )\n",
    "TESTTESTTE\n",
    "```"
   ]
  },
  {
   "cell_type": "code",
   "execution_count": null,
   "id": "6be7925d",
   "metadata": {
    "tags": []
   },
   "outputs": [],
   "source": [
    "def vigenere_keygen(primer, message_length):\n",
    "    \"\"\"\n",
    "    Arguments:\n",
    "        primer (str): the primer / keyword that will create the entire keystream\n",
    "        message_length (int): # of characters in the CLEANED message (no spaces or punctuation)\n",
    "    Returns:\n",
    "        keystream (str): The entire keystream that can be combined with the message to encipher or decipher\n",
    "    \"\"\"\n",
    "\n",
    "    keystream = ''\n",
    "    # Your code after this comment\n",
    "    \n",
    "\n",
    "print(vigenere_keygen('test', 10))"
   ]
  },
  {
   "cell_type": "code",
   "execution_count": null,
   "id": "faa5c9df",
   "metadata": {
    "deletable": false,
    "editable": false
   },
   "outputs": [],
   "source": [
    "grader.check(\"q1\")"
   ]
  },
  {
   "cell_type": "markdown",
   "id": "1bfe8a66",
   "metadata": {
    "tags": []
   },
   "source": [
    "## Question 2: Vigenère Cipher Function\n",
    "\n",
    "Write a function that implements the Vigenère Cipher. The function should be able to encipher and decipher messages depending on the values of `encipher` parameter. Your function should clean the provided message based on the provided `LETTERS` string using the `text_clean` function. Ciphertext output should be blocked into groups of 5 uppercase characters and plaintext output should be returned as lowercase characters with no spaces.\n",
    "\n",
    "**Hint:** You can use your `vigenere_keygen` function from the previous question if you'd like, but there are no tests that will specifically ensure that you do.\n",
    "\n",
    "**Examples**:\n",
    "```\n",
    ">>> print( vigenere('hospital', 'onaplaneaplaneisdue') )\n",
    "VBSET TNPHD DPVXI DKIW\n",
    "\n",
    ">>> print( vigenere('hospital', 'VBSET TNPHD DPVXI DKIW', encipher=False) )\n",
    "onaplaneaplaneisdue\n",
    "```"
   ]
  },
  {
   "cell_type": "code",
   "execution_count": null,
   "id": "a9ce7746",
   "metadata": {
    "tags": []
   },
   "outputs": [],
   "source": [
    "def vigenere(keyword, message, encipher=True, LETTERS = 'ABCDEFGHIJKLMNOPQRSTUVWXYZ'):\n",
    "    \"\"\"\n",
    "    Arguments:\n",
    "        keyword (str): the primer / keyword that will be used to create the entire keystream\n",
    "        message (str): either the plaintext or ciphertext to work with\n",
    "        encipher (bool, optional): True --> encipher the message, False --> decipher\n",
    "        LETTERS (str, optional): defines the alphabet of allowable characters\n",
    "    Returns:\n",
    "        (str): encrypted / decrypted version of message formatting to specifications\n",
    "    \"\"\"\n",
    "    cleaned_keyword = ...\n",
    "    cleaned_message = ...\n",
    "    keystream = ...\n",
    "    output = '' \n",
    "    \n",
    "    # Your code below this comment\n",
    "    \n",
    "\n",
    "print( vigenere('hospital', 'onaplaneaplaneisdue') )\n",
    "print( vigenere('hospital', 'VBSET TNPHD DPVXI DKIW', encipher=False) )"
   ]
  },
  {
   "cell_type": "code",
   "execution_count": null,
   "id": "fe601696",
   "metadata": {
    "deletable": false,
    "editable": false
   },
   "outputs": [],
   "source": [
    "grader.check(\"q2\")"
   ]
  },
  {
   "cell_type": "markdown",
   "id": "aab84123",
   "metadata": {},
   "source": [
    "## Question 3: Autokey Cipher\n",
    "\n",
    "The autokey cipher does not allow you to compute the entire keystream from the start when deciphering messages, since you need to recover some of the plaintext before can continue constructing the keystream. As a result the function for completing the autokey cipher will need to be a bit different than the others you've already written for the caesar, affine, and now Vigenère ciphers. You will need to think carefully about how to modify the keystream after each letter you encipher or decipher to ensure that it has sufficient characters to finish creating the message.\n",
    "\n",
    "**Examples**\n",
    "```\n",
    ">>> print( autokey('UNICORN', 'acceptthegreaterchallenge' ) )\n",
    "UPKGD KGHGI VTTML VIYEL EIEIL\n",
    "\n",
    ">>> print( autokey('unicorn', 'UPKGD KGHGI VTTML VIYEL EIEIL', False) )\n",
    "acceptthegreaterchallenge\n",
    "```"
   ]
  },
  {
   "cell_type": "code",
   "execution_count": null,
   "id": "b0e514ef",
   "metadata": {
    "tags": []
   },
   "outputs": [],
   "source": [
    "def autokey(keyword, message, encipher=True, LETTERS = 'ABCDEFGHIJKLMNOPQRSTUVWXYZ'):\n",
    "    \"\"\"\n",
    "    Arguments:\n",
    "        keyword (str): the primer / keyword that will be used to create the keystream\n",
    "        message (str): either the plaintext or ciphertext to work with\n",
    "        encipher (bool, optional): True --> encipher the message, False --> decipher\n",
    "        LETTERS (str, optional): defines the alphabet of allowable characters\n",
    "    Returns:\n",
    "        (str): encrypted / decrypted version of message formatting to specifications\n",
    "    \"\"\"\n",
    "    cleaned_keyword = ...\n",
    "    cleaned_message = ...\n",
    "    output = ''\n",
    "    \n",
    "    keystream = cleaned_keyword\n",
    "    \n",
    "    # Your code below this comment\n",
    "    \n",
    "    \n",
    "print(autokey('UNICORN', 'acceptthegreaterchallenge'))\n",
    "print(autokey('unicorn', 'UPKGD KGHGI VTTML VIYEL EIEIL', False))"
   ]
  },
  {
   "cell_type": "code",
   "execution_count": null,
   "id": "fc08a49b",
   "metadata": {
    "deletable": false,
    "editable": false
   },
   "outputs": [],
   "source": [
    "grader.check(\"q3\")"
   ]
  },
  {
   "cell_type": "markdown",
   "id": "5ed0b6bb",
   "metadata": {},
   "source": [
    "## `random`\n",
    "\n",
    "In order to use a One Time Pad with the Vigenère cipher, we need a way to generate random letters for the keystream. You can create \"random\" values using the `random` module in Python. We say \"random\" in quotes, because it's very very difficult to create truly random numbers but Python can do a fairly good job creating *pseudorandom* values, sometimes abbreviated as PR.\n",
    "\n",
    "Run the cell below to import the `random` module."
   ]
  },
  {
   "cell_type": "code",
   "execution_count": null,
   "id": "201d729f",
   "metadata": {},
   "outputs": [],
   "source": [
    "import random"
   ]
  },
  {
   "cell_type": "markdown",
   "id": "96951175",
   "metadata": {},
   "source": [
    "The `randint` function in the `random` module will output a random integer between the two provided arguments (inclusive of those values). You can call this function by first specifying the module the function is a part of (`random`), then a `.`, and then the function name (`randint`) with any required arguments. For example, running the cell below will create a value between 0 and 9. Run it a few times to confirm that it does in fact produce pseudorandom outputs."
   ]
  },
  {
   "cell_type": "code",
   "execution_count": null,
   "id": "d1b7629d",
   "metadata": {},
   "outputs": [],
   "source": [
    "random.randint(0, 9)"
   ]
  },
  {
   "cell_type": "markdown",
   "id": "56772914",
   "metadata": {},
   "source": [
    "We can combine this ability to produce random integers with our existing ability to convert an integer to a character to produce random letters. For example:"
   ]
  },
  {
   "cell_type": "code",
   "execution_count": null,
   "id": "8b779e8f",
   "metadata": {},
   "outputs": [],
   "source": [
    "LETTERS = 'ABCDEFGHIJKLMNOPQRSTUVWXYZ'\n",
    "print( LETTERS[ random.randint(0, 25) ] )"
   ]
  },
  {
   "cell_type": "markdown",
   "id": "2c93d83a",
   "metadata": {},
   "source": [
    "And combined with a loop, you can create a pseudorandom keystream of characters:"
   ]
  },
  {
   "cell_type": "code",
   "execution_count": null,
   "id": "43ce4843",
   "metadata": {},
   "outputs": [],
   "source": [
    "LETTERS = 'ABCDEFGHIJKLMNOPQRSTUVWXYZ'\n",
    "keystream = ''\n",
    "for i in range(100):\n",
    "    keystream += LETTERS[ random.randint(0, 25) ]\n",
    "\n",
    "print(keystream)"
   ]
  },
  {
   "cell_type": "markdown",
   "id": "dbff929f",
   "metadata": {},
   "source": [
    "But one important thing we need to consider with OTP is that both the enciphering and deciphering individuals need the **same** pseudorandom keystream. Luckily, there is a way to control the randomness in the `random` library using what's called a \"seed\". The seed value syncs up the random number generator to a certain point and can be set before creating the keystream. The ability to set a seed value is how we know `random.randint` is not *truly* random.\n",
    "\n",
    "Notice when you run the code below that includes `random.seed(n)` where `n` is an integer value you always get the same output. Changing the value of `n` can produce a different pseudorandom keystream. In that sense, `n` is the *actual* key, since it will determine the pseudorandom keystream that's generated."
   ]
  },
  {
   "cell_type": "code",
   "execution_count": null,
   "id": "5949b2b1",
   "metadata": {},
   "outputs": [],
   "source": [
    "LETTERS = 'ABCDEFGHIJKLMNOPQRSTUVWXYZ'\n",
    "keystream = ''\n",
    "\n",
    "random.seed(5)\n",
    "\n",
    "for i in range(100):\n",
    "    keystream += LETTERS[ random.randint(0, 25) ]\n",
    "\n",
    "print(keystream)"
   ]
  },
  {
   "cell_type": "markdown",
   "id": "81de5b45",
   "metadata": {},
   "source": [
    "## Question 4: OTP Key Generation\n",
    "\n",
    "Write a function `otp_keygen` that takes as it's arguments an integer that represents the length of a cleaned message, an integer that is used as the seed value, and a string that represents the alphabet it should use to create a one time pad key of equal length of the message.\n",
    "\n",
    "**Example:**\n",
    "\n",
    "```\n",
    ">>> print( otp_keygen(1000, 17354763458) )\n",
    "HAVETKTBPNZAIQLUZMNUTBDXEETQUJHLXQLRTXVFXQYEUPLEUAYUGBZEVDFXVIJIGLOVTIYBIQYYPIGEKGRDTBSYZXXAXFPXIYUO\n",
    "```"
   ]
  },
  {
   "cell_type": "code",
   "execution_count": null,
   "id": "4c2d9106",
   "metadata": {
    "tags": []
   },
   "outputs": [],
   "source": [
    "def otp_keygen(message_length, seed_value, LETTERS = 'ABCDEFGHIJKLMNOPQRSTUVWXYZ'):\n",
    "    \"\"\"\n",
    "    Arguments:\n",
    "        message_length (int): the length of the cleaned message that needs an OTP key\n",
    "        seed_value (int): a number to set the seed for the random module\n",
    "        LETTERS (str, optional): defines the alphabet of allowable characters\n",
    "    Returns:\n",
    "        (str): a pseudorandom one time pad keystream that contains only the characters in LETTERS\n",
    "    \"\"\"\n",
    "    \n",
    "    # Your code below this comment\n",
    "    \n",
    "\n",
    "print( otp_keygen(100, 17354763458) )"
   ]
  },
  {
   "cell_type": "code",
   "execution_count": null,
   "id": "f6998b86",
   "metadata": {
    "deletable": false,
    "editable": false
   },
   "outputs": [],
   "source": [
    "grader.check(\"q4\")"
   ]
  },
  {
   "cell_type": "markdown",
   "id": "0b6353c8",
   "metadata": {},
   "source": [
    "## Question 5: The OTP Vigenère Cipher\n",
    "\n",
    "Write a function, `otp_vigenere`, that takes in an integer `seed_value` that represents the seed value to be used when creating random characters, a string `message` that represents the message to be enciphered or deciphered, a boolean `encipher`, and a string `LETTERS`.\n",
    "\n",
    "**Hint:** Use the functions you've already written in this homework! It should make this a very straightforward problem to solve.\n",
    "\n",
    "**Examples:**\n",
    "```\n",
    ">>> print( otp_vigenere(42, 'I have no special talent. I am only passionately curious. Albert Einstein') )\n",
    "RQSZM UNHDO DHCGY EXFUN HAZNK QCYTM RDSDT KDDZV MURXM WISAT FDFHP NYIUO\n",
    "\n",
    ">>> print( otp_vigenere(42, 'CKASM UVWMH XFRNL NMEPZ PQFOE RUJWJ FPCFI SEJXH QESWY YYVEG DWPTG ASFFB', False) )\n",
    "ihavenospecialtalentiamonlypassionatelycuriousalberteinstein\n",
    "```"
   ]
  },
  {
   "cell_type": "code",
   "execution_count": null,
   "id": "2316c1a9",
   "metadata": {
    "tags": []
   },
   "outputs": [],
   "source": [
    "def otp_vigenere(seed_value, message, encipher=True, LETTERS = 'ABCDEFGHIJKLMNOPQRSTUVWXYZ'):\n",
    "    \"\"\"\n",
    "    Arguments:\n",
    "        seed_value (int): the seed value for the random module\n",
    "        message (str): either the plaintext or ciphertext to work with\n",
    "        encipher (bool, optional): True --> encipher the message, False --> decipher\n",
    "        LETTERS (str, optional): defines the alphabet of allowable characters\n",
    "    Returns:\n",
    "        (str): encrypted / decrypted version of message formatting to specifications\n",
    "    \"\"\"\n",
    "    cleaned_message = ...\n",
    "    keystream = ...\n",
    "    output = '' \n",
    "    \n",
    "    # Your code below this comment\n",
    "    \n",
    "\n",
    "print( otp_vigenere(42, 'I have no special talent. I am only passionately curious. Albert Einstein') )\n",
    "print( otp_vigenere(42, 'CKASM UVWMH XFRNL NMEPZ PQFOE RUJWJ FPCFI SEJXH QESWY YYVEG DWPTG ASFFB', False) )"
   ]
  },
  {
   "cell_type": "code",
   "execution_count": null,
   "id": "7aa3f8ad",
   "metadata": {
    "deletable": false,
    "editable": false
   },
   "outputs": [],
   "source": [
    "grader.check(\"q5\")"
   ]
  },
  {
   "cell_type": "markdown",
   "id": "c05b9f90",
   "metadata": {},
   "source": [
    "<!-- BEGIN QUESTION -->\n",
    "\n",
    "## Question 6: Character Frequency\n",
    "\n",
    "One goal of the one time pad is to help disguise character frequencies, hopefully creating an almost uniform distribution of each letter in the alphabet making it impossible for an attacker to use frequency analysis to help crack the message. Let's see how well your OTP function will disguise a message.\n",
    "\n",
    "Run the code cell below to load the sample plaintext found in `hw02plaintext.txt` to the variable `plaintext`. The file contains the entire book, *The Scarlet Letter*."
   ]
  },
  {
   "cell_type": "code",
   "execution_count": null,
   "id": "1adbfe08",
   "metadata": {},
   "outputs": [],
   "source": [
    "with open('hw02plaintext.txt') as f: \n",
    "    plaintext = f.read() "
   ]
  },
  {
   "cell_type": "markdown",
   "id": "6ca98908",
   "metadata": {},
   "source": [
    "In the code cell below, encipher this message using the `otp_vigenere` function with a seed of your choosing. Save this result to the variable `ciphertext`.\n",
    "\n",
    "**Note:** This may take some time as the computer will need to generate a very long OTP keystream and then use it to encipher the entire book. Test runs while developing this assignment usually took around 5 minutes, so hit that run button and go grab a cup of tea while you wait!"
   ]
  },
  {
   "cell_type": "markdown",
   "id": "9472236c",
   "metadata": {},
   "source": [
    "_Type your answer here, replacing this text._"
   ]
  },
  {
   "cell_type": "code",
   "execution_count": null,
   "id": "25b8fbdf",
   "metadata": {
    "tags": []
   },
   "outputs": [],
   "source": [
    "ciphertext = ..."
   ]
  },
  {
   "cell_type": "code",
   "execution_count": null,
   "id": "88199786",
   "metadata": {
    "tags": []
   },
   "outputs": [],
   "source": [
    "# Your bar chart code should go in this cell\n"
   ]
  },
  {
   "cell_type": "markdown",
   "id": "6746381f",
   "metadata": {},
   "source": [
    "<!-- END QUESTION -->\n",
    "\n"
   ]
  },
  {
   "cell_type": "markdown",
   "id": "0e53f217",
   "metadata": {
    "deletable": false,
    "editable": false
   },
   "source": [
    "## Submission\n",
    "\n",
    "Make sure you have run all cells in your notebook in order before running the cell below, so that all images/graphs appear in the output. The cell below will generate a zip file for you to submit. **Please save before exporting!**\n",
    "\n",
    "Before exporting, SAVE your notebook, then RESTART AND RUN ALL CELLS. This will run the export cell. Make sure you submit the most recent copy by using the date-time stamp on the file."
   ]
  },
  {
   "cell_type": "code",
   "execution_count": null,
   "id": "6dc2457e",
   "metadata": {
    "deletable": false,
    "editable": false
   },
   "outputs": [],
   "source": [
    "# Save your notebook first, then run this cell to export your submission.\n",
    "grader.export(pdf=False)"
   ]
  },
  {
   "cell_type": "markdown",
   "id": "1d1ed65f",
   "metadata": {},
   "source": [
    " "
   ]
  }
 ],
 "metadata": {
  "kernelspec": {
   "display_name": "Python 3 (ipykernel)",
   "language": "python",
   "name": "python3"
  },
  "language_info": {
   "codemirror_mode": {
    "name": "ipython",
    "version": 3
   },
   "file_extension": ".py",
   "mimetype": "text/x-python",
   "name": "python",
   "nbconvert_exporter": "python",
   "pygments_lexer": "ipython3",
   "version": "3.10.5"
  },
  "otter": {
   "tests": {
    "q1": {
     "name": "q1",
     "points": 1,
     "suites": [
      {
       "cases": [
        {
         "code": ">>> vigenere_keygen('test', 10) != None\nTrue",
         "failure_message": "Make sure you are using a return statement in your function, not just printing the output",
         "hidden": false,
         "locked": false,
         "points": 0
        },
        {
         "code": ">>> vigenere_keygen('TEST', 10)\n'TESTTESTTE'",
         "failure_message": "Your key is incorrect",
         "hidden": false,
         "locked": false,
         "points": 0
        }
       ],
       "scored": true,
       "setup": "",
       "teardown": "",
       "type": "doctest"
      }
     ]
    },
    "q2": {
     "name": "q2",
     "points": 2,
     "suites": [
      {
       "cases": [
        {
         "code": ">>> vigenere('hospital', 'onaplaneaplaneisdue') != None\nTrue",
         "failure_message": "Make sure you are using a return statement in your function, not just printing the output",
         "hidden": false,
         "locked": false,
         "points": 0
        },
        {
         "code": ">>> vigenere('test_key', 'test_message') == vigenere('TESTKEY', 'TESTMESSAGE') \nTrue",
         "failure_message": "Are you cleaning your message?",
         "hidden": false,
         "locked": false,
         "points": 0.2
        },
        {
         "code": ">>> vigenere('hospital', 'VBSET TNPHD DPVXI DKIW', encipher=False).islower()\nTrue",
         "failure_message": "Is your deciphered text lowercase?",
         "hidden": false,
         "locked": false,
         "points": 0.2
        },
        {
         "code": ">>> vigenere('hospital', 'onaplaneaplaneisdue').isupper()\nTrue",
         "failure_message": "Is your ciphertext uppercase?",
         "hidden": false,
         "locked": false,
         "points": 0.2
        },
        {
         "code": ">>> vigenere('hospital', 'onaplaneaplaneisdue') == text_block(vigenere('hospital', 'onaplaneaplaneisdue').replace(' ',''),5)\nTrue",
         "failure_message": "Is your ciphertext blocked?",
         "hidden": false,
         "locked": false,
         "points": 0.2
        },
        {
         "code": ">>> vigenere('hospital', 'onaplaneaplaneisdue')\n'VBSET TNPHD DPVXI DKIW'",
         "hidden": false,
         "locked": false,
         "points": 0,
         "success_message": "Encryption is correct!"
        },
        {
         "code": ">>> vigenere('hospital', 'VBSET TNPHD DPVXI DKIW', encipher=False)\n'onaplaneaplaneisdue'",
         "hidden": false,
         "locked": false,
         "points": 0,
         "success_message": "Decryption is correct!"
        },
        {
         "code": ">>> vigenere('a', 'no kangaroos or koalas in this message', LETTERS='ABCDEFGHIJLMNOPQRSTUVWXYZ')\n'NOANG AROOS OROAL ASINT HISME SSAGE'",
         "failure_message": "Are you using LETTERS in all your steps?",
         "hidden": false,
         "locked": false,
         "points": 0.2
        }
       ],
       "scored": true,
       "setup": "",
       "teardown": "",
       "type": "doctest"
      }
     ]
    },
    "q3": {
     "name": "q3",
     "points": 3,
     "suites": [
      {
       "cases": [
        {
         "code": ">>> autokey('UNICORN', 'acceptthegreaterchallenge' ) != None\nTrue",
         "failure_message": "Make sure you are using a return statement in your function, not just printing the output",
         "hidden": false,
         "locked": false,
         "points": 0
        },
        {
         "code": ">>> autokey('UNICORN', 'accept@thegreater2challenge' ) == autokey('unicorn', 'ACCEPTTHEGREATERCHALLENGE' )\nTrue",
         "failure_message": "Are you cleaning your message?",
         "hidden": false,
         "locked": false,
         "points": 0.2
        },
        {
         "code": ">>> autokey('unicorn', 'UPKGD KGHGI VTTML VIYEL EIEIL', encipher=False).islower()\nTrue",
         "failure_message": "Is your deciphered text lowercase?",
         "hidden": false,
         "locked": false,
         "points": 0.2
        },
        {
         "code": ">>> autokey('UNICORN', 'acceptthegreaterchallenge' ).isupper()\nTrue",
         "failure_message": "Is your ciphertext uppercase?",
         "hidden": false,
         "locked": false,
         "points": 0.2
        },
        {
         "code": ">>> autokey('UNICORN', 'acceptthegreaterchallenge' ) == text_block(autokey('UNICORN', 'acceptthegreaterchallenge' ).replace(' ', ''),5)\nTrue",
         "failure_message": "Is your ciphertext blocked?",
         "hidden": false,
         "locked": false,
         "points": 0.2
        },
        {
         "code": ">>> autokey('UNICORN', 'acceptthegreaterchallenge' )\n'UPKGD KGHGI VTTML VIYEL EIEIL'",
         "hidden": false,
         "locked": false,
         "points": 0,
         "success_message": "Encryption is correct!"
        },
        {
         "code": ">>> autokey('unicorn', 'UPKGD KGHGI VTTML VIYEL EIEIL', encipher=False)\n'acceptthegreaterchallenge'",
         "hidden": false,
         "locked": false,
         "points": 0,
         "success_message": "Decryption is correct!"
        },
        {
         "code": ">>> autokey('UNICORN', 'acceptthegreaterchallenge', LETTERS='ABCDHJLOPQTUVWZ' )\n'UHQPV VVTJL HTPT'",
         "failure_message": "Are you using LETTERS in all your steps?",
         "hidden": false,
         "locked": false,
         "points": 0.2
        }
       ],
       "scored": true,
       "setup": "",
       "teardown": "",
       "type": "doctest"
      }
     ]
    },
    "q4": {
     "name": "q4",
     "points": 2,
     "suites": [
      {
       "cases": [
        {
         "code": ">>> otp_keygen(100, 17354763458) != None\nTrue",
         "failure_message": "Make sure you are using a return statement in your function, not just printing the output",
         "hidden": false,
         "locked": false,
         "points": 0
        },
        {
         "code": ">>> otp_keygen(50, 9194162735, LETTERS='01')\n'10010010001010110110011000011100010010000010010111'",
         "failure_message": "Make sure you are using LETTERS in your process so your code still works for different alphabets",
         "hidden": false,
         "locked": false,
         "points": 1
        },
        {
         "code": ">>> otp_keygen(100, 17354763458)\n'HAVETKTBPNZAIQLUZMNUTBDXEETQUJHLXQLRTXVFXQYEUPLEUAYUGBZEVDFXVIJIGLOVTIYBIQYYPIGEKGRDTBSYZXXAXFPXIYUO'",
         "failure_message": "Make sure you are using LETTERS in your process so your code still works for different alphabets",
         "hidden": false,
         "locked": false,
         "points": 0
        }
       ],
       "scored": true,
       "setup": "",
       "teardown": "",
       "type": "doctest"
      }
     ]
    },
    "q5": {
     "name": "q5",
     "points": 3,
     "suites": [
      {
       "cases": [
        {
         "code": ">>> otp_vigenere(42, 'I have no special talent. I am only passionately curious. Albert Einstein') != False\nTrue",
         "failure_message": "Make sure you are using a return statement in your function, not just printing the output",
         "hidden": false,
         "locked": false,
         "points": 0
        },
        {
         "code": ">>> otp_vigenere(42, 'he llo!') == otp_vigenere(42, 'HELLO')\nTrue",
         "failure_message": "Are you cleaning your message?",
         "hidden": false,
         "locked": false,
         "points": 0.25
        },
        {
         "code": ">>> otp_vigenere(42, 'HELLO', False).islower()\nTrue",
         "failure_message": "Is your deciphered text lowercase?",
         "hidden": false,
         "locked": false,
         "points": 0.25
        },
        {
         "code": ">>> otp_vigenere(42, 'HELLOFRIEND').isupper()\nTrue",
         "failure_message": "Is your ciphertext uppercase?",
         "hidden": false,
         "locked": false,
         "points": 0.25
        },
        {
         "code": ">>> otp_vigenere(42, 'HELLOFRIEND') == text_block(otp_vigenere(42, 'HELLOFRIEND').replace(' ',''), 5)\nTrue",
         "failure_message": "Is your ciphertext blocked?",
         "hidden": false,
         "locked": false,
         "points": 0.25
        },
        {
         "code": ">>> otp_vigenere(42, 'I have no special talent. I am only passionately curious. Albert Einstein')\n'CKASM UVWMH XFRNL NMEPZ PQFOE RUJWJ FPCFI SEJXH QESWY YYVEG DWPTG ASFFB'",
         "hidden": false,
         "locked": false,
         "points": 0,
         "success_message": "Encryption is correct!"
        },
        {
         "code": ">>> otp_vigenere(42, 'CKASM UVWMH XFRNL NMEPZ PQFOE RUJWJ FPCFI SEJXH QESWY YYVEG DWPTG ASFFB', False)\n'ihavenospecialtalentiamonlypassionatelycuriousalberteinstein'",
         "hidden": false,
         "locked": false,
         "points": 0,
         "success_message": "Decryption is correct!"
        }
       ],
       "scored": true,
       "setup": "",
       "teardown": "",
       "type": "doctest"
      }
     ]
    }
   }
  }
 },
 "nbformat": 4,
 "nbformat_minor": 5
}
