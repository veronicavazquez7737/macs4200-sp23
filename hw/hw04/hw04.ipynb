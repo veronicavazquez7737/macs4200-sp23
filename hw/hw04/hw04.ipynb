{
 "cells": [
  {
   "cell_type": "code",
   "execution_count": null,
   "id": "57c58385",
   "metadata": {
    "deletable": false,
    "editable": false
   },
   "outputs": [],
   "source": [
    "# Initialize Otter\n",
    "import otter\n",
    "grader = otter.Notebook(\"hw04.ipynb\")"
   ]
  },
  {
   "cell_type": "markdown",
   "id": "3aedc07b",
   "metadata": {},
   "source": [
    "# Homework 04: Fractionation in ADFGVX, Polybius Square, and Related Ciphers ¶\n",
    "\n",
    "Today's easy access to computing power means that modern ciphers must be more sophisticated that pre-information age ciphers. Even in an LFSRsum, a single change in a character will change only one character in the ciphertext. Furthermore, this change in the plain text will align with the change in the ciphertext.\n",
    "\n",
    "For example, look at these two messages enciphered with our LFSR from Lab06 last week. The key is 01011. Can you decipher them? Type the plaintext in the cell below.\n",
    "\n",
    "YXOJZBJYN.\n",
    "YXOJZBJIN.\n",
    "\n",
    "<i>Recall that the \"rule\" for this LFSR is that b4 = b3 ⊕ b2 ⊕ b1</i>"
   ]
  },
  {
   "cell_type": "markdown",
   "id": "4fe5a1bf",
   "metadata": {},
   "source": [
    "_Type your answer here, replacing this text._"
   ]
  },
  {
   "cell_type": "markdown",
   "id": "4f689a63",
   "metadata": {},
   "source": [
    "<!-- END QUESTION -->\n",
    "\n",
    "This leaves this kind of crypto system vulnerable to a plaintext attack, if a message is known to begin with, end with, a particular word or phrase (and many might begin by addressing the person for whom the message was intended, which is a piece of information the intercpetor probably already knows).\n",
    "\n",
    "The following message was encrypted in the same way as the two above and with the same \"rule\". The first word is the same. \n",
    "\n",
    "\n",
    "\n",
    "Can you recover the plaintext by working backwards? Type your answer into the cell below. \n",
    "\n",
    "RAPAOAAOLXKR\n"
   ]
  },
  {
   "cell_type": "markdown",
   "id": "04f668d3",
   "metadata": {},
   "source": [
    "_Type your answer here, replacing this text._"
   ]
  },
  {
   "cell_type": "markdown",
   "id": "dfc87a67",
   "metadata": {},
   "source": [
    "<!-- END QUESTION -->\n",
    "\n",
    "In block cipher, our message is broken into parts which are then altered, combined, and reshuffled to create our ciphertext. In preparation for <b>that</b> cipher, we will write a program for the Polybius cipher."
   ]
  },
  {
   "cell_type": "markdown",
   "id": "f8800b25",
   "metadata": {},
   "source": [
    "## Part I ##\n",
    "The Polybius Cipher\n",
    "\n",
    "Here is the Polybius square or Polybius checkerboard from our webinar followed by the decipher function:"
   ]
  },
  {
   "cell_type": "code",
   "execution_count": null,
   "id": "6afe7c5b",
   "metadata": {},
   "outputs": [],
   "source": [
    "square = [['E','M','O','I','S'],['T','H','A','G','N'],['Z','D','W','Y','B'],['C','F','K','L','P'],['Q','R','U','V','X']]"
   ]
  },
  {
   "cell_type": "code",
   "execution_count": null,
   "id": "e77df1cc",
   "metadata": {},
   "outputs": [],
   "source": [
    "print(square[0][1])"
   ]
  },
  {
   "cell_type": "code",
   "execution_count": null,
   "id": "b587e517",
   "metadata": {},
   "outputs": [],
   "source": [
    "def polybius_decipher(message):\n",
    "    square = [['E','M','O','I','S'],['T','H','A','G','N'],['Z','D','W','Y','B'],['C','F','K','L','P'],['Q','R','U','V','X']]\n",
    "    output = \"\"\n",
    "    for i in range(0,len(message),2):\n",
    "        y = (message[i]+message[i+1])\n",
    "        output += (square[int(y[0])-1][int(y[1])-1])\n",
    "    return(output)    \n"
   ]
  },
  {
   "cell_type": "code",
   "execution_count": null,
   "id": "c00d771c",
   "metadata": {},
   "outputs": [],
   "source": [
    "print(polybius_decipher(\"42441111\"))"
   ]
  },
  {
   "cell_type": "markdown",
   "id": "1e2e5fbb",
   "metadata": {},
   "source": [
    "In order to work backwards, we need to input a character and get back the two digit location of the number. Notice that asking the program to \"find\" a character doesn't work. Remove the hashtag to see."
   ]
  },
  {
   "cell_type": "code",
   "execution_count": null,
   "id": "58b6f885",
   "metadata": {},
   "outputs": [],
   "source": [
    "#print(square.find(\"H\"))"
   ]
  },
  {
   "cell_type": "markdown",
   "id": "64c243d7",
   "metadata": {},
   "source": [
    "How can we type a message and encipher it correctly? One way is to <b>use a for loop inside of a for loop</b> to run through all the possible permutations of indices from 0 to 4 and examine each character for a match. When the program finds a match, it returns the two digit index value.\n",
    "\n",
    "Note that you will have to use two different variables, one in each for loop. So if the first one is \"for i in range...\" the second will have to be \"for j in range...\"\n",
    "\n",
    "Write your program in the cell below. Using our square and the character \"P\" should generate the digits 45.\n",
    "\n",
    "If you get 34 instead, recall that although Python will index starting with zero, humans have tradtionally indexed starting with 1, so to replicate the pencil paper Polybius, you have to adjust this."
   ]
  },
  {
   "cell_type": "code",
   "execution_count": null,
   "id": "969d95b9",
   "metadata": {
    "tags": []
   },
   "outputs": [],
   "source": [
    "def poly_find(char):\n",
    "    ...\n",
    "            "
   ]
  },
  {
   "cell_type": "code",
   "execution_count": null,
   "id": "73197d41",
   "metadata": {
    "deletable": false,
    "editable": false
   },
   "outputs": [],
   "source": [
    "grader.check(\"q2_1\")"
   ]
  },
  {
   "cell_type": "markdown",
   "id": "26bacc78",
   "metadata": {},
   "source": [
    "## Part II: Square Dancing\n",
    "\n",
    "In our webinar, we used a key phrase to load fill in the Polybius square. Can you write a program that takes in a phrase and generates the square?\n",
    "\n",
    "Before you begin, think about the strings we have used for letters. Here we use one that is different from the ones that have come before. How is it different and why? Type your answer into the cell below."
   ]
  },
  {
   "cell_type": "markdown",
   "id": "a5b5ff81",
   "metadata": {},
   "source": [
    "<!-- BEGIN QUESTION -->\n",
    "\n"
   ]
  },
  {
   "cell_type": "code",
   "execution_count": null,
   "id": "c35a06b5",
   "metadata": {
    "tags": []
   },
   "outputs": [],
   "source": []
  },
  {
   "cell_type": "markdown",
   "id": "eaad12b4",
   "metadata": {},
   "source": [
    "<!-- END QUESTION -->\n",
    "\n",
    "Write a function that will generate a square with the phrase \"What does the fox say?\" The last line in this square should be \"['K', 'L', 'M', 'N', 'O']\""
   ]
  },
  {
   "cell_type": "code",
   "execution_count": null,
   "id": "411056b8",
   "metadata": {
    "tags": []
   },
   "outputs": [],
   "source": [
    "def square_gen(key, LETTERS = \"ABCDEFGHIKLMNOPQRSTUVWXYZ\"):\n",
    "    key = key.upper()\n",
    "    square = [[],[],[],[],[]]\n",
    "...\n",
    "    "
   ]
  },
  {
   "cell_type": "code",
   "execution_count": null,
   "id": "5646f502",
   "metadata": {
    "deletable": false,
    "editable": false
   },
   "outputs": [],
   "source": [
    "grader.check(\"q3_2\")"
   ]
  },
  {
   "cell_type": "markdown",
   "id": "3b3296b4",
   "metadata": {},
   "source": [
    "## Part III: Underground Newspapers\n",
    "\n",
    "It is April 9th, 1940. German forces have begun their occupation of Norway. King Haakon VII is in exile in England. You are Henrik Weber, editor of the underground newspaper <i>For konge og fedreland</i> (\"For King and Fatherland\"). In defiance of the Nazi occupiers, you risk your life to bring your people news from London. \n",
    "\n",
    "One of your contacts in the resistance knows of someone who can provide a safe place for the production of the paper. Use the word \"Preikestolen\" as a key to learn the name of the person who can help you and the location of his secret room.\n",
    "\n",
    "2114414512344213123213122542312131111214252214254111121321211425312145434313124223452113\n",
    "23252242131421243125342335151424241425411325\n"
   ]
  },
  {
   "cell_type": "markdown",
   "id": "956931b7",
   "metadata": {},
   "source": [
    "In the cell below, write a program that takes in an encrypted message and a key word or phrase and returns the plaintext.\n",
    "\n",
    "<b><i>Hint!</i></b> You will have to revise the program we wrote in webinar (and which appears at the top of this notebook) so that it takes in a key."
   ]
  },
  {
   "cell_type": "code",
   "execution_count": null,
   "id": "721a82f3",
   "metadata": {
    "tags": []
   },
   "outputs": [],
   "source": [
    "def polybius_decipher(message, key):\n",
    "    square = square_gen(key, LETTERS = \"ABCDEFGHIKLMNOPQRSTUVWXYZ\")\n",
    "    output = \"\"\n",
    "...\n",
    "    "
   ]
  },
  {
   "cell_type": "code",
   "execution_count": null,
   "id": "504bff8b",
   "metadata": {
    "deletable": false,
    "editable": false
   },
   "outputs": [],
   "source": [
    "grader.check(\"q4_1\")"
   ]
  },
  {
   "cell_type": "markdown",
   "id": "6232330f",
   "metadata": {},
   "source": [
    "Who is your contact and where is his secret room? Type your answer in the cell below."
   ]
  },
  {
   "cell_type": "markdown",
   "id": "8accbee0",
   "metadata": {},
   "source": [
    "_Type your answer here, replacing this text._"
   ]
  },
  {
   "cell_type": "markdown",
   "id": "df9f2591",
   "metadata": {},
   "source": [
    "<!-- END QUESTION -->\n",
    "\n"
   ]
  },
  {
   "cell_type": "markdown",
   "id": "fa5b6bd6",
   "metadata": {
    "deletable": false,
    "editable": false
   },
   "source": [
    "## Submission\n",
    "\n",
    "Make sure you have run all cells in your notebook in order before running the cell below, so that all images/graphs appear in the output. The cell below will generate a zip file for you to submit. **Please save before exporting!**"
   ]
  },
  {
   "cell_type": "code",
   "execution_count": null,
   "id": "df9831f4",
   "metadata": {
    "deletable": false,
    "editable": false
   },
   "outputs": [],
   "source": [
    "# Save your notebook first, then run this cell to export your submission.\n",
    "grader.export(pdf=False)"
   ]
  },
  {
   "cell_type": "markdown",
   "id": "583cbb03",
   "metadata": {},
   "source": [
    " "
   ]
  }
 ],
 "metadata": {
  "kernelspec": {
   "display_name": "Python 3 (ipykernel)",
   "language": "python",
   "name": "python3"
  },
  "language_info": {
   "codemirror_mode": {
    "name": "ipython",
    "version": 3
   },
   "file_extension": ".py",
   "mimetype": "text/x-python",
   "name": "python",
   "nbconvert_exporter": "python",
   "pygments_lexer": "ipython3",
   "version": "3.10.5"
  },
  "otter": {
   "tests": {
    "q2_1": {
     "name": "q2_1",
     "points": 3,
     "suites": [
      {
       "cases": [
        {
         "code": ">>> poly_find('H') != None\nTrue",
         "failure_message": "Check that you are returning the ciphertext, not printing it",
         "hidden": false,
         "locked": false,
         "points": 0
        },
        {
         "code": ">>> poly_find(\"V\")\n'54'",
         "failure_message": "Check that you are adjusting the indicies for each row and column to make the program behave more like a human",
         "hidden": false,
         "locked": false,
         "points": 2
        }
       ],
       "scored": true,
       "setup": "",
       "teardown": "",
       "type": "doctest"
      }
     ]
    },
    "q3_2": {
     "name": "q3_2",
     "points": 2,
     "suites": [
      {
       "cases": [
        {
         "code": ">>> square_gen(\"HelloWorld\", LETTERS = \"ABCDEFGHIKLMNOPQRSTUVWXYZ\") != None\nTrue",
         "failure_message": "Check that you are returning the ciphertext, not printing it",
         "hidden": false,
         "locked": false,
         "points": 0
        },
        {
         "code": ">>> print(square_gen(\"HelloWorld\", LETTERS = \"ABCDEFGHIKLMNOPQRSTUVWXYZ\"))\n[['H', 'E', 'L', 'O', 'W'], ['R', 'D', 'A', 'B', 'C'], ['F', 'G', 'I', 'K', 'M'], ['N', 'P', 'Q', 'S', 'T'], ['U', 'V', 'X', 'Y', 'Z']]\n",
         "failure_message": "Check that you are adding unused letters to the end of your square",
         "hidden": false,
         "locked": false,
         "points": 1
        },
        {
         "code": ">>> print(square_gen(\"visualizewhirldpeas\"))\n[['V', 'I', 'S', 'U', 'A'], ['L', 'Z', 'E', 'W', 'H'], ['R', 'D', 'P', 'B', 'C'], ['F', 'G', 'K', 'M', 'N'], ['O', 'Q', 'T', 'X', 'Y']]\n",
         "hidden": false,
         "locked": false,
         "points": 1
        }
       ],
       "scored": true,
       "setup": "",
       "teardown": "",
       "type": "doctest"
      }
     ]
    },
    "q4_1": {
     "name": "q4_1",
     "points": 2,
     "suites": [
      {
       "cases": [
        {
         "code": ">>> polybius_decipher(\"1112131415\", \"abcde\") != None\nTrue",
         "failure_message": "Check that you are returning the ciphertext, not printing it",
         "hidden": false,
         "locked": false,
         "points": 0
        },
        {
         "code": ">>> polybius_decipher(\"1112131415\", \"ABCDE\")\n'abcde'",
         "failure_message": "Check that you are returning plaintext in lower case.",
         "hidden": false,
         "locked": false,
         "points": 1
        }
       ],
       "scored": true,
       "setup": "",
       "teardown": "",
       "type": "doctest"
      }
     ]
    }
   }
  }
 },
 "nbformat": 4,
 "nbformat_minor": 5
}
